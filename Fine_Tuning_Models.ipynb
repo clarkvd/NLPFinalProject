{
  "cells": [
    {
      "cell_type": "markdown",
      "metadata": {
        "id": "YZF8tcpxxwAC"
      },
      "source": [
        "# Final Project Code: Genre Classification \n",
        "\n",
        "Datasets can be found in /datasets folder"
      ]
    },
    {
      "cell_type": "markdown",
      "metadata": {
        "id": "eW0dkN8Oyk7-"
      },
      "source": [
        "### Step #1: Mount Google Drive and download libraries\n",
        "\n",
        "a. Mount Google Drive"
      ]
    },
    {
      "cell_type": "code",
      "execution_count": null,
      "metadata": {
        "colab": {
          "base_uri": "https://localhost:8080/"
        },
        "id": "PrwPYPYzxqn7",
        "outputId": "62055866-79d7-4837-f73a-ed1e810ef82b"
      },
      "outputs": [
        {
          "name": "stdout",
          "output_type": "stream",
          "text": [
            "Mounted at /content/drive\n"
          ]
        }
      ],
      "source": [
        "from google.colab import drive\n",
        "drive.mount('/content/drive')"
      ]
    },
    {
      "cell_type": "markdown",
      "metadata": {
        "id": "BDXWQOhA99kM"
      },
      "source": [
        "b. Import Libraries: "
      ]
    },
    {
      "cell_type": "code",
      "execution_count": null,
      "metadata": {
        "id": "yPY13lsGX7Fp"
      },
      "outputs": [],
      "source": [
        "import re\n",
        "import pandas as pd\n",
        "import nltk\n",
        "import gensim\n",
        "\n",
        "from sklearn.datasets import fetch_openml as fetch_mldata\n",
        "from sklearn.model_selection import cross_val_score\n",
        "\n",
        "from numpy import mean\n",
        "import numpy as np\n",
        "import matplotlib.pyplot as plt\n",
        "\n",
        "from sklearn.naive_bayes import GaussianNB\n",
        "from sklearn.svm import LinearSVC\n",
        "from sklearn.linear_model import LogisticRegression\n",
        "from sklearn.neural_network import MLPClassifier\n",
        "from sklearn.neighbors import KNeighborsClassifier\n",
        "from sklearn import metrics\n",
        "\n",
        "from gensim.models import Word2Vec\n",
        "bigmodel = gensim.models.KeyedVectors.load_word2vec_format(\"/content/drive/MyDrive/bigmodel/GoogleNews-vectors-negative300-SLIM.bin\", binary=True)\n",
        "# bigmodel = gensim.models.KeyedVectors.load_word2vec_format(\"/content/drive/MyDrive/2022-2023/CSCI3349 Natural Language Processing/Final Project/Datasets/GoogleNews-vectors-negative300-SLIM.bin\", binary=True)"
      ]
    },
    {
      "cell_type": "markdown",
      "metadata": {
        "id": "ohUAkeCx-Ig8"
      },
      "source": [
        "Access Information about our dataset here: \n",
        "--> Spotify: \n",
        "--> Genre Classification \n"
      ]
    },
    {
      "cell_type": "code",
      "execution_count": null,
      "metadata": {
        "id": "dh9WpovHyAQ5"
      },
      "outputs": [],
      "source": [
        "genreData =  fetch_mldata(name='Music-Dataset--1950-to-2019', version=1)\n",
        "gdf = genreData.data\n",
        "x = gdf[\"lyrics\"]\n",
        "y = gdf[\"genre\"]\n",
        "print(y[1])\n",
        "print(x[1])   "
      ]
    },
    {
      "cell_type": "code",
      "execution_count": null,
      "metadata": {
        "id": "nr2_tJJl27jo"
      },
      "outputs": [],
      "source": [
        "spotifyData = fetch_mldata(name='150K-Lyrics-Labeled-with-Spotify-Valence', version=1)\n",
        "sdf = spotifyData.data\n",
        "spotify_x = sdf[\"seq\"]\n",
        "spotify_y = sdf[\"label\"]\n",
        "print(spotify_x[1])\n",
        "print(spotify_y[1])   "
      ]
    },
    {
      "cell_type": "markdown",
      "metadata": {
        "id": "N11XcnJKCcA9"
      },
      "source": [
        "### Step #2: Tokenize Lyrics for both datasets\n"
      ]
    },
    {
      "cell_type": "code",
      "execution_count": null,
      "metadata": {
        "id": "YyDDaCy41Ehz"
      },
      "outputs": [],
      "source": [
        "nltk.download('punkt');\n",
        "def tokenize(column):\n",
        "    tokens = nltk.word_tokenize(column)\n",
        "    return [w for w in tokens if w.isalpha()]   "
      ]
    },
    {
      "cell_type": "code",
      "execution_count": null,
      "metadata": {
        "colab": {
          "base_uri": "https://localhost:8080/",
          "height": 240
        },
        "id": "vRsz3pZbpLPq",
        "outputId": "88935146-a90e-4e42-b8c5-a3fe540362ee"
      },
      "outputs": [
        {
          "ename": "NameError",
          "evalue": "ignored",
          "output_type": "error",
          "traceback": [
            "\u001b[0;31m---------------------------------------------------------------------------\u001b[0m",
            "\u001b[0;31mNameError\u001b[0m                                 Traceback (most recent call last)",
            "\u001b[0;32m<ipython-input-2-4e8924ca4744>\u001b[0m in \u001b[0;36m<module>\u001b[0;34m\u001b[0m\n\u001b[0;32m----> 1\u001b[0;31m \u001b[0mgdf\u001b[0m\u001b[0;34m[\u001b[0m\u001b[0;34m'lyrics_tokenized'\u001b[0m\u001b[0;34m]\u001b[0m \u001b[0;34m=\u001b[0m \u001b[0mgdf\u001b[0m\u001b[0;34m.\u001b[0m\u001b[0mapply\u001b[0m\u001b[0;34m(\u001b[0m\u001b[0;32mlambda\u001b[0m \u001b[0mx\u001b[0m\u001b[0;34m:\u001b[0m \u001b[0mtokenize\u001b[0m\u001b[0;34m(\u001b[0m\u001b[0mx\u001b[0m\u001b[0;34m[\u001b[0m\u001b[0;34m'lyrics'\u001b[0m\u001b[0;34m]\u001b[0m\u001b[0;34m)\u001b[0m\u001b[0;34m,\u001b[0m \u001b[0maxis\u001b[0m\u001b[0;34m=\u001b[0m\u001b[0;36m1\u001b[0m\u001b[0;34m)\u001b[0m\u001b[0;34m\u001b[0m\u001b[0;34m\u001b[0m\u001b[0m\n\u001b[0m\u001b[1;32m      2\u001b[0m \u001b[0mgdf\u001b[0m\u001b[0;34m[\u001b[0m\u001b[0;34m[\u001b[0m\u001b[0;34m'lyrics_tokenized'\u001b[0m\u001b[0;34m]\u001b[0m\u001b[0;34m]\u001b[0m\u001b[0;34m.\u001b[0m\u001b[0mhead\u001b[0m\u001b[0;34m(\u001b[0m\u001b[0;34m)\u001b[0m\u001b[0;34m\u001b[0m\u001b[0;34m\u001b[0m\u001b[0m\n\u001b[1;32m      3\u001b[0m \u001b[0;34m\u001b[0m\u001b[0m\n\u001b[1;32m      4\u001b[0m \u001b[0msdf\u001b[0m\u001b[0;34m[\u001b[0m\u001b[0;34m'lyrics_tokenized'\u001b[0m\u001b[0;34m]\u001b[0m \u001b[0;34m=\u001b[0m \u001b[0msdf\u001b[0m\u001b[0;34m.\u001b[0m\u001b[0mapply\u001b[0m\u001b[0;34m(\u001b[0m\u001b[0;32mlambda\u001b[0m \u001b[0mx\u001b[0m\u001b[0;34m:\u001b[0m \u001b[0mtokenize\u001b[0m\u001b[0;34m(\u001b[0m\u001b[0mx\u001b[0m\u001b[0;34m[\u001b[0m\u001b[0;34m'seq'\u001b[0m\u001b[0;34m]\u001b[0m\u001b[0;34m)\u001b[0m\u001b[0;34m,\u001b[0m \u001b[0maxis\u001b[0m\u001b[0;34m=\u001b[0m\u001b[0;36m1\u001b[0m\u001b[0;34m)\u001b[0m\u001b[0;34m\u001b[0m\u001b[0;34m\u001b[0m\u001b[0m\n\u001b[1;32m      5\u001b[0m \u001b[0msdf\u001b[0m\u001b[0;34m[\u001b[0m\u001b[0;34m[\u001b[0m\u001b[0;34m'lyrics_tokenized'\u001b[0m\u001b[0;34m]\u001b[0m\u001b[0;34m]\u001b[0m\u001b[0;34m.\u001b[0m\u001b[0mhead\u001b[0m\u001b[0;34m(\u001b[0m\u001b[0;34m)\u001b[0m\u001b[0;34m\u001b[0m\u001b[0;34m\u001b[0m\u001b[0m\n",
            "\u001b[0;31mNameError\u001b[0m: name 'gdf' is not defined"
          ]
        }
      ],
      "source": [
        "gdf['lyrics_tokenized'] = gdf.apply(lambda x: tokenize(x['lyrics']), axis=1)\n",
        "gdf[['lyrics_tokenized']].head() \n",
        "\n",
        "sdf['lyrics_tokenized'] = sdf.apply(lambda x: tokenize(x['seq']), axis=1)\n",
        "sdf[['lyrics_tokenized']].head()  \n"
      ]
    },
    {
      "cell_type": "markdown",
      "metadata": {
        "id": "Z1Ur7Fxh6dHL"
      },
      "source": [
        "### Spotify data: Bin Valences (for baselines data) in spotify valence data\n",
        "\n",
        "USE sdf['Valence'] FOR OUTPUTS\n",
        "\n",
        "--> 0 - 0.2 : Very Negative  \n",
        "\n",
        "--> 0.2 - 0.4: Somewhat Negative \n",
        "\n",
        "--> 0.4 - 0.6: Neutral \n",
        "\n",
        "--> 0.6 - 0.8: Somewhat Positive \n",
        "\n",
        "--> 0.8 - 1.0 : Very Postive "
      ]
    },
    {
      "cell_type": "code",
      "execution_count": null,
      "metadata": {
        "colab": {
          "base_uri": "https://localhost:8080/"
        },
        "id": "P8m6XV03cnzU",
        "outputId": "568d311f-cd9a-4e90-d3d6-d65f6e840612"
      },
      "outputs": [
        {
          "name": "stdout",
          "output_type": "stream",
          "text": [
            "---------------------TRAINING SET VALENCE BASELINE DATA------------------\n",
            "Very negative songs:  0.14866784967761898\n",
            "Somewhat negative songs:  0.25023207643682155\n",
            "Neutral songs:  0.2464367583815905\n",
            "Somewhat positive songs:  0.21503223810095168\n",
            "Very positive songs:  0.1396310774030173\n"
          ]
        }
      ],
      "source": [
        "# print(sdf.shape)  \n",
        "valence = [] \n",
        "count = len(sdf) \n",
        "vn = 0 \n",
        "sn = 0 \n",
        "n = 0 \n",
        "sp = 0 \n",
        "vp = 0 \n",
        "# Bin valences \n",
        "for val in spotify_y: \n",
        "  if val < 0.2: \n",
        "    valence.append('Very Negative')\n",
        "    vn +=1\n",
        "  elif val >= 0.2 and val < 0.4: \n",
        "    valence.append('Somewhat Negative')\n",
        "    sn +=1\n",
        "  elif val >= 0.4 and val < 0.6: \n",
        "    valence.append('Neutral')\n",
        "    n +=1\n",
        "  elif val >= 0.6 and val < 0.8:\n",
        "    valence.append('Somewhat Positive')\n",
        "    sp +=1\n",
        "  elif val >= 0.8: \n",
        "    valence.append('Very Positive')\n",
        "    vp +=1\n",
        "sdf['valence'] = valence \n",
        "print('---------------------TRAINING SET VALENCE BASELINE DATA------------------')\n",
        "print('Very negative songs: ', vn/count)\n",
        "print('Somewhat negative songs: ', sn/count)\n",
        "print('Neutral songs: ', n/count)\n",
        "print('Somewhat positive songs: ', sp/count)\n",
        "print('Very positive songs: ', vp/count)"
      ]
    },
    {
      "cell_type": "markdown",
      "metadata": {
        "id": "nRUGKTongBAE"
      },
      "source": [
        "### Delete 'pop' genre, because many of the songs are overrepresented as pop songs"
      ]
    },
    {
      "cell_type": "code",
      "execution_count": null,
      "metadata": {
        "colab": {
          "base_uri": "https://localhost:8080/"
        },
        "id": "uaYuMarJb6Vi",
        "outputId": "1208b59d-79d0-4246-e499-f8203197203f"
      },
      "outputs": [
        {
          "name": "stdout",
          "output_type": "stream",
          "text": [
            "(21330, 32)\n"
          ]
        }
      ],
      "source": [
        "gdf.drop(gdf.loc[gdf['genre'] == 'pop'].index, inplace=True)\n",
        "print(gdf.shape)"
      ]
    },
    {
      "cell_type": "markdown",
      "metadata": {
        "id": "TtvyDAN1EAW6"
      },
      "source": [
        "###Step #3: Split Training and Testing Data and reassign x and y values\n",
        "\n",
        "Adapted from this source: https://towardsdatascience.com/how-to-split-a-dataset-into-training-and-testing-sets-b146b1649830\n",
        "\n",
        "\n",
        "*   x1 --> lyrics for spotify valence, training data\n",
        "*   y1 --> valence for training data \n",
        "*   x1test --> \" \", testing data \n",
        "* y1test --> \" \", testing data \n",
        "* x2 --> lyrics for genre dataset, training data \n",
        "* y2 --> genre for trainng data\n",
        "* x2test --> \" \", testing data \n",
        "* x2test --> \" \", testing data"
      ]
    },
    {
      "cell_type": "code",
      "execution_count": null,
      "metadata": {
        "colab": {
          "base_uri": "https://localhost:8080/"
        },
        "id": "l_FEEbcmmIJR",
        "outputId": "64fa605d-ff9a-4e4e-ce03-c07f144d1a64"
      },
      "outputs": [
        {
          "name": "stdout",
          "output_type": "stream",
          "text": [
            "(21330,)\n",
            "(21330,)\n"
          ]
        }
      ],
      "source": [
        "g_unsplit_data = gdf['lyrics_tokenized']\n",
        "g_unsplit_targets = gdf['genre']\n",
        "\n",
        "print(g_unsplit_data.shape)\n",
        "print(g_unsplit_targets.shape)"
      ]
    },
    {
      "cell_type": "code",
      "execution_count": null,
      "metadata": {
        "id": "JWFr8F4DqNDB"
      },
      "outputs": [],
      "source": [
        "from matplotlib.pyplot import scatter, xlabel, ylabel, show\n",
        "from numpy import unique"
      ]
    },
    {
      "cell_type": "code",
      "execution_count": null,
      "metadata": {
        "id": "3GARP1tXqBCT"
      },
      "outputs": [],
      "source": [
        "def plotData(data, targets, labelX='', labelY=''):\n",
        "    colors = ['r','g','b','m','c','k','y']\n",
        "    for i in range(len(unique(targets))):\n",
        "        scatter(data[targets==i,0], data[targets==i,1], c=colors[i%len(colors)])\n",
        "    xlabel(labelX, fontsize=16);\n",
        "    ylabel(labelY, fontsize=16);\n",
        "    show()\n"
      ]
    },
    {
      "cell_type": "code",
      "execution_count": null,
      "metadata": {
        "colab": {
          "base_uri": "https://localhost:8080/"
        },
        "id": "Lhj-7E7hjfom",
        "outputId": "84899016-7b1c-4399-ede3-961f2437e82d"
      },
      "outputs": [
        {
          "name": "stdout",
          "output_type": "stream",
          "text": [
            "No. of spotify training examples: 126682\n",
            "No. of spotify testing examples: 31671\n",
            "No. of genre training examples: 17064\n",
            "No. of genre testing examples: 4266\n",
            "(126682,) (126682,)\n",
            "(31671,) (31671,)\n",
            "(17064,) (17064,)\n",
            "(4266,) (4266,)\n"
          ]
        }
      ],
      "source": [
        "## We are using a 80/20 split \n",
        "spotify_training_data = sdf.sample(frac=0.8, random_state=25)\n",
        "spotify_testing_data = sdf.drop(spotify_training_data.index)\n",
        "\n",
        "print(f\"No. of spotify training examples: {spotify_training_data.shape[0]}\")\n",
        "print(f\"No. of spotify testing examples: {spotify_testing_data.shape[0]}\") \n",
        "\n",
        "genre_training_data = gdf.sample(frac=0.8, random_state=25)\n",
        "genre_testing_data = gdf.drop(genre_training_data.index)\n",
        "\n",
        "print(f\"No. of genre training examples: {genre_training_data.shape[0]}\")\n",
        "print(f\"No. of genre testing examples: {genre_testing_data.shape[0]}\")  \n",
        "\n",
        "x1 = spotify_training_data['lyrics_tokenized']  \n",
        "y1 = spotify_training_data['valence'] \n",
        "\n",
        "x1test = spotify_testing_data['lyrics_tokenized']\n",
        "y1test = spotify_testing_data['valence']\n",
        "\n",
        "print(x1.shape, y1.shape)\n",
        "print(x1test.shape, y1test.shape)\n",
        "\n",
        "x2 = genre_training_data['lyrics_tokenized']\n",
        "y2 = genre_training_data['genre']\n",
        "x2test = genre_testing_data['lyrics_tokenized']\n",
        "y2test = genre_testing_data['genre']\n",
        "\n",
        "print(x2.shape, y2.shape)\n",
        "print(x2test.shape, y2test.shape)"
      ]
    },
    {
      "cell_type": "markdown",
      "metadata": {
        "id": "9m8tN6tPDzUe"
      },
      "source": [
        "### Step 4: Baselines for Music Genre Data \n",
        "\n",
        "Calculate how many songs fall into each genre category  \n",
        "Genres include: pop, rock, country, blues, jazz, hip hop, and reggae\n",
        "\n",
        "Should we drop pop songs? They are the majority amount of songs, so we may have an unbalanced dataset..."
      ]
    },
    {
      "cell_type": "code",
      "execution_count": null,
      "metadata": {
        "colab": {
          "base_uri": "https://localhost:8080/"
        },
        "id": "aLUrxFK4DS3X",
        "outputId": "e7e7acb4-a0b9-41d8-835c-2f23f0ae2402"
      },
      "outputs": [
        {
          "name": "stdout",
          "output_type": "stream",
          "text": [
            "['country' 'blues' 'jazz' 'reggae' 'rock' 'hip hop']\n",
            "---------------------GENRE BASELINE DATA------------------\n",
            "Percentage of pop songs 0.3301453352086263\n",
            "Percentage of blues songs 0.21584622597280825\n",
            "Percentage of rock songs 0.18912330051570558\n",
            "Percentage of country songs 0.2552742616033755\n",
            "Percentage of jazz songs 0.1802625410220347\n",
            "Percentage of reggae songs 0.11711204875761838\n",
            "Percentage of hip hop songs 0.04238162212845757\n"
          ]
        }
      ],
      "source": [
        "## Baselines for genre data \n",
        "count = len(gdf)\n",
        "# 7 genres \n",
        "print(gdf['genre'].unique())\n",
        "popcount = 0\n",
        "rockcount = 0\n",
        "countrycount = 0\n",
        "bluescount = 0 \n",
        "jazzcount = 0 \n",
        "hhcount = 0 \n",
        "regcount = 0 \n",
        "\n",
        "for genre in y: \n",
        "  if genre == 'pop': \n",
        "    popcount += 1 \n",
        "  elif genre == 'rock': \n",
        "    rockcount += 1 \n",
        "  elif genre == 'country': \n",
        "    countrycount += 1\n",
        "  elif genre == 'blues': \n",
        "    bluescount += 1 \n",
        "  elif genre == 'jazz': \n",
        "    jazzcount += 1 \n",
        "  elif genre == 'reggae': \n",
        "    regcount += 1 \n",
        "  elif genre == 'hip hop': \n",
        "    hhcount += 1\n",
        "print('---------------------GENRE BASELINE DATA------------------')\n",
        "print('Percentage of pop songs', popcount/count)\n",
        "print('Percentage of blues songs', bluescount/count)\n",
        "print('Percentage of rock songs', rockcount/count)\n",
        "print('Percentage of country songs', countrycount/count)\n",
        "print('Percentage of jazz songs', jazzcount/count)\n",
        "print('Percentage of reggae songs', regcount/count)\n",
        "print('Percentage of hip hop songs', hhcount/count)"
      ]
    },
    {
      "cell_type": "markdown",
      "metadata": {
        "id": "b1TRxO5pscLX"
      },
      "source": [
        "## Step 5: Genre Classification \n",
        "\n",
        "*   Use wordtovec to create a term-document matrix for each song \n",
        "\n"
      ]
    },
    {
      "cell_type": "code",
      "execution_count": null,
      "metadata": {
        "id": "ZAY_Q2hAsejG"
      },
      "outputs": [],
      "source": [
        "# TRAINING DATA \n",
        "genretargets = []\n",
        "genrevectors = []\n",
        "for genre in y2: \n",
        "  if genre == 'rock': \n",
        "    genretargets.append(1)\n",
        "  elif genre == 'country': \n",
        "    genretargets.append(2)\n",
        "  elif genre == 'blues': \n",
        "    genretargets.append(3)\n",
        "  elif genre == 'jazz': \n",
        "    genretargets.append(4)\n",
        "  elif genre == 'reggae': \n",
        "    genretargets.append(5) \n",
        "  elif genre == 'hip hop': \n",
        "    genretargets.append(6)\n",
        "for h in x2:\n",
        "    totvec = np.zeros(300)\n",
        "    for w in h:\n",
        "        if w.lower() in bigmodel:\n",
        "            totvec = totvec + bigmodel[w.lower()]\n",
        "    genrevectors.append(totvec)\n",
        "\n",
        "# TESTING DATA \n",
        "gtesttargets = []\n",
        "gtestvectors = []\n",
        "for genre in y2test: \n",
        "  if genre == 'rock': \n",
        "    gtesttargets.append(1)\n",
        "  elif genre == 'country': \n",
        "    gtesttargets.append(2)\n",
        "  elif genre == 'blues': \n",
        "    gtesttargets.append(3)\n",
        "  elif genre == 'jazz': \n",
        "    gtesttargets.append(4)\n",
        "  elif genre == 'reggae': \n",
        "    gtesttargets.append(5) \n",
        "  elif genre == 'hip hop': \n",
        "    gtesttargets.append(6)\n",
        "for h in x2test:\n",
        "    totvec = np.zeros(300)\n",
        "    for w in h:\n",
        "        if w.lower() in bigmodel:\n",
        "            totvec = totvec + bigmodel[w.lower()]\n",
        "    gtestvectors.append(totvec)\n"
      ]
    },
    {
      "cell_type": "markdown",
      "metadata": {
        "id": "iFsxlupZzGbI"
      },
      "source": [
        "Unsplit Data Used for 5-fold Cross-validation (80-20 split)"
      ]
    },
    {
      "cell_type": "code",
      "execution_count": null,
      "metadata": {
        "id": "hqlsnypuoXTA"
      },
      "outputs": [],
      "source": [
        "# UNSPLIT DATA\n",
        "unsplitData = []\n",
        "unsplitTarget = []\n",
        "\n",
        "for genre in y2test: \n",
        "  if genre == 'rock': \n",
        "    unsplitTarget.append(1)\n",
        "  elif genre == 'country': \n",
        "    unsplitTarget.append(2)\n",
        "  elif genre == 'blues': \n",
        "    unsplitTarget.append(3)\n",
        "  elif genre == 'jazz': \n",
        "    unsplitTarget.append(4)\n",
        "  elif genre == 'reggae': \n",
        "    unsplitTarget.append(5) \n",
        "  elif genre == 'hip hop': \n",
        "    unsplitTarget.append(6)\n",
        "for h in x2test:\n",
        "    totvec = np.zeros(300)\n",
        "    for w in h:\n",
        "        if w.lower() in bigmodel:\n",
        "            totvec = totvec + bigmodel[w.lower()]\n",
        "    unsplitData.append(totvec)"
      ]
    },
    {
      "cell_type": "code",
      "execution_count": null,
      "metadata": {
        "id": "MM57e317rcBb"
      },
      "outputs": [],
      "source": [
        "from sklearn import preprocessing\n",
        "from sklearn.decomposition import PCA"
      ]
    },
    {
      "cell_type": "code",
      "execution_count": null,
      "metadata": {
        "colab": {
          "base_uri": "https://localhost:8080/"
        },
        "id": "rLtc7ZZNqQjR",
        "outputId": "6c09959d-0bda-4a88-f61a-1666a695b6b7"
      },
      "outputs": [
        {
          "name": "stdout",
          "output_type": "stream",
          "text": [
            "(4266, 3)\n"
          ]
        },
        {
          "data": {
            "text/plain": [
              "Text(0.5, 0, 'Z Label')"
            ]
          },
          "execution_count": 37,
          "metadata": {},
          "output_type": "execute_result"
        },
        {
          "data": {
            "image/png": "[encoded data removed]",
            "text/plain": [
              "<Figure size 432x288 with 1 Axes>"
            ]
          },
          "metadata": {
            "needs_background": "light"
          },
          "output_type": "display_data"
        }
      ],
      "source": [
        "pca = PCA(n_components=3)\n",
        "pca.fit(unsplitData)\n",
        "x = pca.transform(unsplitData)\n",
        "print(x.shape)\n",
        "\n",
        "fig = plt.figure()\n",
        "ax = fig.add_subplot(projection='3d')\n",
        "xs = [i[0] for i in x]\n",
        "ys = [i[1] for i in x]\n",
        "zs = [i[2] for i in x]\n",
        "\n",
        "ax.scatter(xs, ys, zs)\n",
        "\n",
        "\n",
        "\n",
        "ax.set_xlabel('X Label')\n",
        "ax.set_ylabel('Y Label')\n",
        "ax.set_zlabel('Z Label')\n"
      ]
    },
    {
      "cell_type": "code",
      "execution_count": null,
      "metadata": {
        "colab": {
          "base_uri": "https://localhost:8080/"
        },
        "id": "4rXXKnBQOpTH",
        "outputId": "9275c4eb-2a15-4e83-a4c4-c74a8c908dea"
      },
      "outputs": [
        {
          "name": "stdout",
          "output_type": "stream",
          "text": [
            "accuracy:  0.3492875284493848\n"
          ]
        }
      ],
      "source": [
        "'''model = GaussianNB()\n",
        "model.fit(genrevectors, alltargets)\n",
        "\n",
        "expected = testtargets\n",
        "predicted = model.predict(testvectors)\n",
        "print(metrics.classification_report(expected, predicted))'''\n",
        "\n",
        "\n",
        "'''model2 = LinearSVC()\n",
        "model2.max_iter = 100000\n",
        "model2.fit(genrevectors, alltargets)\n",
        "\n",
        "expected2 = testtargets\n",
        "predicted2 = model2.predict(testvectors)\n",
        "print(metrics.classification_report(expected2, predicted2))'''\n",
        "\n",
        "\n",
        "'''model3 = LogisticRegression()\n",
        "model3.max_iter = 100000\n",
        "model3.fit(genrevectors, alltargets)\n",
        "\n",
        "expected3 = testtargets\n",
        "predicted3 = model3.predict(testvectors)\n",
        "print(metrics.classification_report(expected3, predicted3))'''\n",
        "\n",
        "\n",
        "# gmodel4 = MLPClassifier()\n",
        "# gmodel4.fit(genrevectors, genretargets)\n",
        "\n",
        "# gexpected4 = gtesttargets\n",
        "# gpredicted4 = gmodel4.predict(gtestvectors)\n",
        "# print(metrics.classification_report(gexpected4, gpredicted4))\n",
        "\n",
        "\n",
        "'''model5 = KNeighborsClassifier()\n",
        "model5.fit(genrevectors, alltargets)\n",
        "\n",
        "expected5 = testtargets\n",
        "predicted5 = model5.predict(testvectors)\n",
        "print(metrics.classification_report(expected5, predicted5))'''\n"
      ]
    },
    {
      "cell_type": "markdown",
      "metadata": {
        "id": "HlFlQxBCsoge"
      },
      "source": [
        "Trying KNN Classifier with different K values"
      ]
    },
    {
      "cell_type": "code",
      "execution_count": null,
      "metadata": {
        "colab": {
          "base_uri": "https://localhost:8080/",
          "height": 491
        },
        "id": "fL7RLvGJs0-W",
        "outputId": "8450703a-5214-4ff6-82c3-304f573e7681"
      },
      "outputs": [
        {
          "name": "stdout",
          "output_type": "stream",
          "text": [
            "1 0.6840131295793719\n",
            "5 0.6594586281197092\n",
            "10 0.6552979453431109\n",
            "20 0.6525436155599805\n",
            "30 0.6512546676059985\n",
            "40 0.6448082103837853\n",
            "50 0.645863086763286\n",
            "60 0.6466836339504598\n",
            "70 0.6485000973795456\n",
            "80 0.6479726334280107\n",
            "100 0.6513712654429018\n"
          ]
        },
        {
          "data": {
            "image/png": "[encoded data removed]",
            "text/plain": [
              "<Figure size 432x288 with 1 Axes>"
            ]
          },
          "metadata": {
            "needs_background": "light"
          },
          "output_type": "display_data"
        }
      ],
      "source": [
        "k = [1, 5, 10, 20, 30, 40, 50, 60, 70, 80, 100]\n",
        "errors = []\n",
        "for i in k:\n",
        "    classifer = KNeighborsClassifier(n_neighbors=i)\n",
        "    classifer.fit(genrevectors, genretargets)\n",
        "    acc = mean(cross_val_score(classifer, genrevectors, genretargets, cv=5))\n",
        "    err = 1 - acc\n",
        "    errors.append(err)\n",
        "    print(i, err)\n",
        "plt.plot(k, errors)\n",
        "\n",
        "plt.title(\"Error Rate as K from K-NN Changes\")\n",
        "plt.xlabel(\"K\")\n",
        "plt.ylabel(\"Error Rate\")\n",
        "\n",
        "plt.show()"
      ]
    },
    {
      "cell_type": "markdown",
      "metadata": {
        "id": "be_JA64Zs5pU"
      },
      "source": [
        "Neural Net with Layer and 10-fold Cross Validation"
      ]
    },
    {
      "cell_type": "code",
      "execution_count": null,
      "metadata": {
        "colab": {
          "base_uri": "https://localhost:8080/"
        },
        "id": "eBtZxjETskYq",
        "outputId": "a7ebdc1b-a41b-4bf2-a56a-fec2feb686a4"
      },
      "outputs": [
        {
          "name": "stdout",
          "output_type": "stream",
          "text": [
            "accuracy:  0.3366171468106779\n"
          ]
        }
      ],
      "source": [
        "net = MLPClassifier(hidden_layer_sizes=(100,50,25))\n",
        "net.fit(unsplitData, unsplitTarget)\n",
        "acc = mean(cross_val_score(net, unsplitData, unsplitTarget, cv=5))\n",
        "print(\"accuracy: \", acc)"
      ]
    },
    {
      "cell_type": "markdown",
      "metadata": {
        "id": "oxBe7VBTtIVd"
      },
      "source": [
        "Logistic Regression trying Different regularization parameters"
      ]
    },
    {
      "cell_type": "code",
      "execution_count": null,
      "metadata": {
        "colab": {
          "base_uri": "https://localhost:8080/",
          "height": 444
        },
        "id": "n0UXUL0csN9w",
        "outputId": "98e04945-b704-44ae-8653-2938ff6303a8"
      },
      "outputs": [
        {
          "name": "stdout",
          "output_type": "stream",
          "text": [
            "C:  0.001 accuracy:  0.3560775991060618\n",
            "C:  0.01 accuracy:  0.3652187759965516\n",
            "C:  0.1 accuracy:  0.35888598169842767\n",
            "C:  1 accuracy:  0.3502120906787176\n",
            "C:  10 accuracy:  0.3413040076215369\n",
            "C:  100 accuracy:  0.34247551691097133\n",
            "C:  1000 accuracy:  0.3415376505569268\n",
            "C:  10000 accuracy:  0.3417721171454379\n",
            "C:  100000 accuracy:  0.3417721171454379\n",
            "C:  1000000 accuracy:  0.34130345851945604\n"
          ]
        },
        {
          "data": {
            "image/png": "[encoded data removed]",
            "text/plain": [
              "<Figure size 432x288 with 1 Axes>"
            ]
          },
          "metadata": {
            "needs_background": "light"
          },
          "output_type": "display_data"
        }
      ],
      "source": [
        "p = [-3, -2, -1, 0, 1, 2, 3, 4, 5, 6]\n",
        "c = [10 ** i for i in p]\n",
        "for i in c:\n",
        "    classifer = LogisticRegression(C = i, max_iter=50000)\n",
        "    # classifer.fit(x, y)\n",
        "    acc = mean(cross_val_score(classifer, unsplitData, unsplitTarget))\n",
        "    print(\"C: \", i , \"accuracy: \", acc)\n",
        "    err = 1 - acc\n",
        "    plt.plot(np.log(i), err,'ro')\n",
        "plt.show()"
      ]
    },
    {
      "cell_type": "markdown",
      "metadata": {
        "id": "y0qdfTZpBvxs"
      },
      "source": [
        "Spotify Valence Classifiers"
      ]
    },
    {
      "cell_type": "code",
      "execution_count": null,
      "metadata": {
        "id": "LLCWAuGeB0V9"
      },
      "outputs": [],
      "source": [
        "#Training data\n",
        "spotifytargets = []\n",
        "spotifyvectors = []\n",
        "for label in y1:#spotify_testing_data['label']: \n",
        "  if label == 'Very Negative':\n",
        "    spotifytargets.append(0)\n",
        "  elif label == 'Somewhat Negative':\n",
        "    spotifytargets.append(1)\n",
        "  elif label == 'Neutral':   \n",
        "    spotifytargets.append(2)\n",
        "  elif label == 'Somewhat Positive':\n",
        "    spotifytargets.append(3)\n",
        "  elif label == 'Very Positive': \n",
        "    spotifytargets.append(4)\n",
        "for h in x1:\n",
        "    totvec = np.zeros(300)\n",
        "    for w in h:\n",
        "        if w.lower() in bigmodel:\n",
        "            totvec = totvec + bigmodel[w.lower()]\n",
        "    spotifyvectors.append(totvec)\n",
        "\n",
        "#Testing data\n",
        "stesttargets = []\n",
        "stestvectors = []\n",
        "for label in y1test: \n",
        "  if label == 'Very Negative': \n",
        "    stesttargets.append(0)\n",
        "  elif label == 'Somewhat Negative': \n",
        "    stesttargets.append(1)\n",
        "  elif label == 'Neutral':  \n",
        "    stesttargets.append(2)\n",
        "  elif label == 'Somewhat Positive': \n",
        "    stesttargets.append(3)\n",
        "  elif label == 'Very Positive': \n",
        "    stesttargets.append(4)\n",
        "for h in x1test:\n",
        "    totvec = np.zeros(300)\n",
        "    for w in h:\n",
        "        if w.lower() in bigmodel:\n",
        "            totvec = totvec + bigmodel[w.lower()]\n",
        "    stestvectors.append(totvec)\n"
      ]
    },
    {
      "cell_type": "code",
      "execution_count": null,
      "metadata": {
        "id": "hyaQduAYOs60"
      },
      "outputs": [],
      "source": [
        "'''model = GaussianNB()\n",
        "model.fit(spotifyvectors, alltargets)\n",
        "\n",
        "expected = testtargets\n",
        "predicted = model.predict(testvectors)\n",
        "print(metrics.classification_report(expected, predicted))'''\n",
        "\n",
        "\n",
        "'''model2 = LinearSVC()\n",
        "model2.max_iter = 100000\n",
        "model2.fit(spotifyvectors, alltargets)\n",
        "\n",
        "expected2 = testtargets\n",
        "predicted2 = model2.predict(testvectors)\n",
        "print(metrics.classification_report(expected2, predicted2))'''\n",
        "\n",
        "\n",
        "'''model3 = LogisticRegression()\n",
        "model3.max_iter = 100000\n",
        "model3.fit(spotifyvectors, alltargets)\n",
        "\n",
        "expected3 = testtargets\n",
        "predicted3 = model3.predict(testvectors)\n",
        "print(metrics.classification_report(expected3, predicted3))'''\n",
        "\n",
        "\n",
        "model4 = MLPClassifier()\n",
        "model4.max_iter = 100000\n",
        "model4.fit(spotifyvectors, spotifytargets)\n",
        "\n",
        "expected4 = stesttargets\n",
        "predicted4 = model4.predict(stestvectors)\n",
        "print(metrics.classification_report(expected4, predicted4))\n",
        "\n",
        "\n",
        "'''model5 = KNeighborsClassifier()\n",
        "model5.max_iter = 100000\n",
        "model5.fit(spotifyvectors, alltargets)\n",
        "\n",
        "expected5 = testtargets\n",
        "predicted5 = model5.predict(testvectors)\n",
        "print(metrics.classification_report(expected5, predicted5))'''"
      ]
    },
    {
      "cell_type": "code",
      "execution_count": null,
      "metadata": {
        "id": "CpA-xn2y47LA"
      },
      "outputs": [],
      "source": []
    },
    {
      "cell_type": "markdown",
      "metadata": {
        "id": "5TjAL0573Owx"
      },
      "source": [
        "Find a Trend"
      ]
    },
    {
      "cell_type": "code",
      "execution_count": null,
      "metadata": {
        "id": "qx49RwWc3OLy"
      },
      "outputs": [],
      "source": [
        "predictedtrend1 = gmodel4.predict(stestvectors)\n",
        "predictedtrend2 = model4.predict(stestvectors)\n",
        "\n",
        "rocklist = []\n",
        "countrylist = []\n",
        "blueslist = []\n",
        "jazzlist = []\n",
        "reggaelist = []\n",
        "hiphoplist = []\n",
        "for i in range(len(predictedtrend1)):\n",
        "  if predictedtrend1[i] == 1:\n",
        "    rocklist.append(predictedtrend2[i])\n",
        "  if predictedtrend1[i] == 2:\n",
        "    countrylist.append(predictedtrend2[i])\n",
        "  if predictedtrend1[i] == 3:\n",
        "    blueslist.append(predictedtrend2[i])\n",
        "  if predictedtrend1[i] == 4:\n",
        "    jazzlist.append(predictedtrend2[i])\n",
        "  if predictedtrend1[i] == 5:\n",
        "    reggaelist.append(predictedtrend2[i])\n",
        "  if predictedtrend1[i] == 6:\n",
        "    hiphoplist.append(predictedtrend2[i])\n",
        "\n",
        "biglist = []\n",
        "biglist.extend([rocklist, countrylist, blueslist, jazzlist, reggaelist, hiphoplist])\n",
        "\n",
        "label = \"\"\n",
        "current = 0\n",
        "for item in biglist:\n",
        "  counter0,counter1,counter2,counter3,counter4 = 0,0,0,0,0 \n",
        "  for i in item:\n",
        "    if i==0:\n",
        "      counter0 += 1\n",
        "    if i==1:\n",
        "      counter1 += 1\n",
        "    if i==2:\n",
        "      counter2 += 1\n",
        "    if i==3:\n",
        "      counter3 += 1\n",
        "    if i==4:\n",
        "      counter4 += 1\n",
        "  if current == 0:\n",
        "    label = \"Rock\"\n",
        "  if current == 1:\n",
        "    label = \"Country\"\n",
        "  if current == 2:\n",
        "    label = \"Blues\"\n",
        "  if current == 3:\n",
        "    label = \"Jazz\"\n",
        "  if current == 4:\n",
        "    label = \"Reggae\"\n",
        "  if current == 5:\n",
        "    label = \"HipHop\"\n",
        "\n",
        "  print(label, \"is \", counter0/len(item), \"% Very Negative\")\n",
        "  print(label, \"is \", counter1/len(item), \"% Somewhat Negative\")\n",
        "  print(label, \"is \", counter2/len(item), \"% Neutral\")\n",
        "  print(label, \"is \", counter3/len(item), \"% Somewhat Positive\")\n",
        "  print(label, \"is \", counter4/len(item), \"% Very Positve\")\n",
        "  current +=1"
      ]
    },
    {
      "cell_type": "markdown",
      "metadata": {
        "id": "l8E5uIg_l2Wz"
      },
      "source": [
        "### Fitting Lyric Data for Spotify Valence and Genre Classification with DistilBert"
      ]
    },
    {
      "cell_type": "markdown",
      "metadata": {
        "id": "mhsQawgdzcRi"
      },
      "source": [
        "https://www.kaggle.com/code/jmourad100/news-classification-arabert"
      ]
    },
    {
      "cell_type": "code",
      "execution_count": null,
      "metadata": {
        "id": "N2KDUK-9X4a-"
      },
      "outputs": [],
      "source": [
        "!pip install transformers\n",
        "!pip install datasets"
      ]
    },
    {
      "cell_type": "code",
      "execution_count": null,
      "metadata": {
        "id": "4iTJzrWuVd6B"
      },
      "outputs": [],
      "source": [
        "import torch\n",
        "from tensorflow.python.keras.utils import np_utils\n",
        "from sklearn.preprocessing import LabelEncoder\n",
        "from transformers import DistilBertTokenizer, DistilBertModel\n",
        "from sklearn.model_selection import train_test_split\n",
        "from tensorflow.python.keras.utils import np_utils "
      ]
    },
    {
      "cell_type": "code",
      "execution_count": null,
      "metadata": {
        "id": "Di1tdJP5Vtgi"
      },
      "outputs": [],
      "source": [
        "# # Encode labels for genre and valence \n",
        "# encoder = LabelEncoder()\n",
        "# encoder.fit(sdf['valence'])\n",
        "# sdf['valence'] = encoder.transform(sdf['valence']) \n",
        "# # print(spotify_training_data.head())\n",
        "# # encoder.fit(sdf['valence'])\n",
        "# spotify = pd.DataFrame().assign(seq=sdf['seq'], valence=sdf['valence'])\n",
        "# print(spotify.head())\n",
        "# spotify = spotify.sample(n=3600, random_state=1)\n",
        "# print(spotify.shape)\n",
        "\n",
        "# # encoder.fit(genre_training_data['genre']) \n",
        "# # gdf['genre'] = encoder.transform(gdf['genre'])\n",
        "# # print(genre_training_data.head())\n",
        "# encoder.fit(gdf['genre']) \n",
        "# gdf['genre'] = encoder.transform(gdf['genre'])\n",
        "# genre = pd.DataFrame().assign(lyrics=gdf['lyrics'], genre=gdf['genre'])\n",
        "# print(genre.head())\n",
        "\n",
        "# #  SPOTIFY BERT \n",
        "# train_texts, val_texts, train_labels, val_labels = train_test_split(spotify[\"seq\"], spotify[\"valence\"], test_size=.2)\n",
        "# # GENRE BERT \n",
        "# # small_train_dataset_g = genre_training_data.sample(n=3000)\n",
        "# # small_train_dataset_g = genre_testing_data.sample(n=300)\n"
      ]
    },
    {
      "cell_type": "markdown",
      "metadata": {
        "id": "xrIcuqJGfkmL"
      },
      "source": [
        "Tokenize Lyric Data"
      ]
    },
    {
      "cell_type": "code",
      "execution_count": null,
      "metadata": {
        "id": "pODtb23ddsMD"
      },
      "outputs": [],
      "source": [
        "# # lyrics_train = small_train_dataset.seq.values \n",
        "# # # print(lyrics_train[0])\n",
        "# # lyrics_test = small_test_dataset.seq.values\n",
        "# # MAX_LEN = 512\n",
        "# # train_texts = train_texts.apply(lambda x:  str(x[0], 'utf-8'))\n",
        "\n",
        "# tokenizer = DistilBertTokenizer.from_pretrained(\"distilbert-base-uncased\", do_lower_case =True) \n",
        "# train_encodings = tokenizer(list(train_texts.values), truncation=True, padding=True, max_length = 512)\n",
        "# val_encodings = tokenizer(list(val_texts.values), truncation=True, padding=True,  max_length = 512)\n",
        "# # test_encodings = tokenizer(list(test_texts).values, truncation=True, padding=True)\n",
        "\n",
        "# # tokenized_small_train = [tokenizer(lyric, add_special_tokens=True,truncation = True, max_length=MAX_LEN,pad_to_max_length=True) for lyric in lyrics_train]\n",
        "# # tokenized_small_test = [tokenizer(lyric, add_special_tokens=True,truncation = True, max_length=MAX_LEN,pad_to_max_length=True) for lyric in lyrics_test]\n",
        "# # # labels = spotify_testing_data['valence']"
      ]
    },
    {
      "cell_type": "code",
      "execution_count": null,
      "metadata": {
        "id": "62_W53zwYOPc"
      },
      "outputs": [],
      "source": [
        "# import tensorflow as tf\n",
        "\n",
        "# train_dataset = tf.data.Dataset.from_tensor_slices((dict(train_encodings),list(train_labels.values)))\n",
        "# test_dataset = tf.data.Dataset.from_tensor_slices((dict(val_encodings), list(val_labels.values)))"
      ]
    },
    {
      "cell_type": "code",
      "execution_count": null,
      "metadata": {
        "id": "Z2X3cHxeupKj"
      },
      "outputs": [],
      "source": [
        "# print(train_encodings['input_ids'][0])\n",
        "# print(train_encodings['attention_mask'][0])"
      ]
    },
    {
      "cell_type": "code",
      "execution_count": null,
      "metadata": {
        "id": "pWah8ERac5gd"
      },
      "outputs": [],
      "source": [
        "# from transformers import DataCollatorWithPadding\n",
        "# data_collator = DataCollatorWithPadding(tokenizer=tokenizer)"
      ]
    },
    {
      "cell_type": "code",
      "execution_count": null,
      "metadata": {
        "id": "QyDWdBWhcexL"
      },
      "outputs": [],
      "source": [
        "# from transformers import TrainingArguments, Trainer\n",
        "\n",
        "# model = TFDistilBertModel.from_pretrained(\"distilbert-base-uncased\")"
      ]
    },
    {
      "cell_type": "code",
      "execution_count": null,
      "metadata": {
        "id": "xQqjLfwDjcBJ"
      },
      "outputs": [],
      "source": [
        "# import numpy as np\n",
        "# from datasets import load_metric\n",
        " \n",
        "# def compute_metrics(eval_pred):\n",
        "#    load_accuracy = load_metric(\"accuracy\")\n",
        "#    load_f1 = load_metric(\"f1\")\n",
        "  \n",
        "#    logits, labels = eval_pred\n",
        "#    predictions = np.argmax(logits, axis=-1)\n",
        "#    accuracy = load_accuracy.compute(predictions=predictions, references=labels)[\"accuracy\"]\n",
        "#    f1 = load_f1.compute(predictions=predictions, references=labels)[\"f1\"]\n",
        "#    return {\"accuracy\": accuracy, \"f1\": f1}"
      ]
    },
    {
      "cell_type": "code",
      "execution_count": null,
      "metadata": {
        "id": "nNeDK25mkT6D"
      },
      "outputs": [],
      "source": [
        "# training_args = TrainingArguments(\n",
        "#     output_dir=\"/content/drive/MyDrive/results\",\n",
        "#     learning_rate=2e-5,\n",
        "#     per_device_train_batch_size=16,\n",
        "#     per_device_eval_batch_size=16,\n",
        "#     num_train_epochs=5,\n",
        "#     weight_decay=0.01,\n",
        "# )\n",
        "\n",
        "# trainer = Trainer(\n",
        "#     model=model,\n",
        "#     args=training_args,\n",
        "#     train_dataset= train_dataset,\n",
        "#     eval_dataset= test_dataset,\n",
        "#     tokenizer=tokenizer,\n",
        "#     data_collator=data_collator,\n",
        "#     # compute_metrics=compute_metrics\n",
        "# )"
      ]
    },
    {
      "cell_type": "code",
      "execution_count": null,
      "metadata": {
        "id": "GU9DfsNokjJj"
      },
      "outputs": [],
      "source": [
        "# trainer.train()"
      ]
    },
    {
      "cell_type": "code",
      "execution_count": null,
      "metadata": {
        "id": "iVHah7S_klIO"
      },
      "outputs": [],
      "source": [
        "# trainer.evaluate()"
      ]
    },
    {
      "cell_type": "code",
      "execution_count": null,
      "metadata": {
        "id": "YONb3dAnjxv0"
      },
      "outputs": [],
      "source": [
        "# from transformers import TFDistilBertModel\n",
        "# model = TFDistilBertModel.from_pretrained('distilbert-base-uncased')\n",
        "# #chose the optimizer\n",
        "# optimizerr = tf.keras.optimizers.Adam(learning_rate=5e-5)\n",
        "# #define the loss function \n",
        "# #build the model\n",
        "# model.compile(optimizer=optimizerr,\n",
        "#               loss='sparse_categorical_crossentropy',\n",
        "#               metrics=['accuracy'])\n",
        "# # train the model \n",
        "# model.fit(train_encodings,\n",
        "#           epochs=3,\n",
        "#           batch_size=16)"
      ]
    },
    {
      "cell_type": "markdown",
      "metadata": {
        "id": "2_ob-qyVcNNO"
      },
      "source": [
        "TEST FOR BERT"
      ]
    },
    {
      "cell_type": "code",
      "execution_count": null,
      "metadata": {
        "colab": {
          "base_uri": "https://localhost:8080/",
          "height": 346,
          "referenced_widgets": [
            "bf25552dcc434dd7aa17fe2aef6575c4",
            "5c2465e86891431abd4be9d63fc2f8c2",
            "fe6630c9d57a48db94555b251e1a1458",
            "f16e32a5e63e4d69bb9dc8031624bd51",
            "b8d5f59844dc4b6a8419f781c4a82d49",
            "48a4697aea3e4e02b556d79c4e9079f9",
            "a240f005f96f4fb68ca9d70f2f786365",
            "c6efdc7a680241dcb983debb802d0bd0",
            "e737b719058749aca54d2eab03f72981",
            "8f3591a3e339422886519d4c588bd328",
            "a736c635fb0d4aaba167d20c1899641a",
            "7155c4ecea814aabadbb252e37c0b2f3",
            "4ebe7d09b40e4e43a51e896ccf9d02ad",
            "d05038cd26fc4ec2af535a7d7e217736",
            "cc412b033bfd4473b0cffed03be6bb13",
            "1c1caeb4a9b64dc0a6b3f73034ef5134",
            "18550d7879bb4462b8e3f52e2be4ada2",
            "33a5b8ec384b4046974b95647ad5d52f",
            "4409856a948b47a5ad07b56f6c28ffb4",
            "e312e820bb6a4c358ff6b58e9b0e309f",
            "77808d30a9af41bca98e44a239ffc1be",
            "2c6ce4f87ce0430d985b2115f99dac3b",
            "631546116fa5444d81a19cc19a77466a",
            "61dc41c16baa430f9810c6590dcfd2ae",
            "073233cff319477d81e82bdc0732b3fd",
            "26adb007d2ff46aa9bf118f80a43cb5d",
            "32a3ac1f094f453f859bca10abfea918",
            "c0f1fd27d10f46d78c5e7e716ba77cea",
            "b0c8b0936ac840e9b1805114e12f9df1",
            "9620806a7b2945dbbfbf39594cd8f6f8",
            "def9d6a1642d453c9cf4a07bd84d795e",
            "97c24796ccdd401893ec7cf7c10f0f68",
            "b61c42d79a834103a13f40490424a561",
            "8429513ee87548f5b0b772b5e2461251",
            "1e94f0341eb04fc6ab7d89b4df4b3dad",
            "960d659df8134c079471f4b5b0c7c30c",
            "b82ba53053c8488eb6c073d81395b782",
            "3e439e9d299f4a91978fb27d20e21569",
            "90568b581cbe4e8faddbe622e3d773eb",
            "ec63ad9cd57544a2acf36ae10827493f",
            "2c10440487554a10a8f5d88992a23716",
            "8c2291b6d848478bba32d4308c86c6d6",
            "99f1033366614884b36654ca7e7031e3",
            "ff6accca028b4e7396fb60b2d40107a3",
            "fdfa8014b11945f0a3af08bb9705dba4",
            "2955efd4aab14d88afc7900242d7252a",
            "c2ad344a8a0a47a9838999ed0c202753",
            "17cf60e73967478daa4306b544abdae3",
            "25d517b4d72e4285a075f8c998147859",
            "f3e3e8182726486485d212ec151a06ca",
            "1d52d897558448e086a874d7d9608bbf",
            "c2478456c9ec4f77a0f00562711b7216",
            "a3373573482f416680bef1cea0cd8d39",
            "c4690c9aa5fd4637a337cc24142d6a48",
            "2e66b60edf9f4661a87c707f2c7c9342",
            "214ea240a65949f19ce4107ffd9f339a",
            "fcdf8e1234e44c3dab999352ccc763ee",
            "e04153fb43bb4271a1af1aa2a12be273",
            "52a3bccc28324a50823d1ea2286d2bf2",
            "51b431893acb4fb797c8cf344c5cb9fb",
            "18f35406650d4d459b4321c046188637",
            "8a8438bc96ce40f096759f7d4f960b63",
            "91014d9d742043d6a713b428ef98f658",
            "d12b013af5554a92a7c26cfd3d5afb84",
            "571870d7f4544230be36e07b949312c0",
            "e4505d79282e42428cf963f6cb911a6f"
          ]
        },
        "id": "hS4P5FmKcM9w",
        "outputId": "966932dc-d429-4c74-c9d8-517eeb19f3f3"
      },
      "outputs": [
        {
          "name": "stderr",
          "output_type": "stream",
          "text": [
            "WARNING:datasets.builder:Using custom data configuration default-2d33e905ac60e4e7\n"
          ]
        },
        {
          "name": "stdout",
          "output_type": "stream",
          "text": [
            "                                                     text  label\n",
            "75388   Hey, Bungalow Bill\\nWhat did you kill\\nBungalo...      2\n",
            "23762   Uncertainty follows me like a shade and it fog...      3\n",
            "85212   [Dialogue borrowed from a \"Rocky\" movie]\\nThis...      1\n",
            "44119   This is the death\\nThe death of rock\\nYou may ...      1\n",
            "143317  Welcome to the system\\nHere's the situation\\nI...      2\n",
            "Downloading and preparing dataset csv/default to /root/.cache/huggingface/datasets/csv/default-2d33e905ac60e4e7/0.0.0/6b34fb8fcf56f7c8ba51dc895bfa2bfbe43546f190a60fcf74bb5e8afdcc2317...\n"
          ]
        },
        {
          "data": {
            "application/vnd.jupyter.widget-view+json": {
              "model_id": "bf25552dcc434dd7aa17fe2aef6575c4",
              "version_major": 2,
              "version_minor": 0
            },
            "text/plain": [
              "Downloading data files:   0%|          | 0/2 [00:00<?, ?it/s]"
            ]
          },
          "metadata": {},
          "output_type": "display_data"
        },
        {
          "name": "stdout",
          "output_type": "stream",
          "text": [
            "  "
          ]
        },
        {
          "data": {
            "application/vnd.jupyter.widget-view+json": {
              "model_id": "7155c4ecea814aabadbb252e37c0b2f3",
              "version_major": 2,
              "version_minor": 0
            },
            "text/plain": [
              "Extracting data files #1:   0%|          | 0/1 [00:00<?, ?obj/s]"
            ]
          },
          "metadata": {},
          "output_type": "display_data"
        },
        {
          "data": {
            "application/vnd.jupyter.widget-view+json": {
              "model_id": "631546116fa5444d81a19cc19a77466a",
              "version_major": 2,
              "version_minor": 0
            },
            "text/plain": [
              "Extracting data files #0:   0%|          | 0/1 [00:00<?, ?obj/s]"
            ]
          },
          "metadata": {},
          "output_type": "display_data"
        },
        {
          "data": {
            "application/vnd.jupyter.widget-view+json": {
              "model_id": "8429513ee87548f5b0b772b5e2461251",
              "version_major": 2,
              "version_minor": 0
            },
            "text/plain": [
              "Generating train split: 0 examples [00:00, ? examples/s]"
            ]
          },
          "metadata": {},
          "output_type": "display_data"
        },
        {
          "data": {
            "application/vnd.jupyter.widget-view+json": {
              "model_id": "fdfa8014b11945f0a3af08bb9705dba4",
              "version_major": 2,
              "version_minor": 0
            },
            "text/plain": [
              "Generating test split: 0 examples [00:00, ? examples/s]"
            ]
          },
          "metadata": {},
          "output_type": "display_data"
        },
        {
          "name": "stdout",
          "output_type": "stream",
          "text": [
            "Dataset csv downloaded and prepared to /root/.cache/huggingface/datasets/csv/default-2d33e905ac60e4e7/0.0.0/6b34fb8fcf56f7c8ba51dc895bfa2bfbe43546f190a60fcf74bb5e8afdcc2317. Subsequent calls will reuse this data.\n"
          ]
        },
        {
          "data": {
            "application/vnd.jupyter.widget-view+json": {
              "model_id": "214ea240a65949f19ce4107ffd9f339a",
              "version_major": 2,
              "version_minor": 0
            },
            "text/plain": [
              "  0%|          | 0/2 [00:00<?, ?it/s]"
            ]
          },
          "metadata": {},
          "output_type": "display_data"
        }
      ],
      "source": [
        "from datasets import Dataset\n",
        "import pandas as pd\n",
        "from datasets import load_dataset\n",
        "\n",
        "strdata = []\n",
        "streata = []\n",
        "for label in y1:#spotify_testing_data['label']: \n",
        "  if label == 'Very Negative':\n",
        "    strdata.append(0)\n",
        "  elif label == 'Somewhat Negative':\n",
        "    strdata.append(1)\n",
        "  elif label == 'Neutral':   \n",
        "    strdata.append(2)\n",
        "  elif label == 'Somewhat Positive':\n",
        "    strdata.append(3)\n",
        "  elif label == 'Very Positive': \n",
        "    strdata.append(4)\n",
        "\n",
        "for label in y1test: \n",
        "  if label == 'Very Negative': \n",
        "    streata.append(0)\n",
        "  elif label == 'Somewhat Negative': \n",
        "    streata.append(1)\n",
        "  elif label == 'Neutral':  \n",
        "    streata.append(2)\n",
        "  elif label == 'Somewhat Positive': \n",
        "    streata.append(3)\n",
        "  elif label == 'Very Positive': \n",
        "    streata.append(4)\n",
        "  \n",
        "#df = pd.DataFrame({\"lyrics_tokenized\": spotify_training_data[\"seq\"], \"valence\":spotify_training_data[\"label\"]})\n",
        "#df2 = pd.DataFrame({\"lyrics_tokenized\": spotify_testing_data[\"seq\"], \"valence\":spotify_testing_data[\"label\"]})\n",
        "\n",
        "df = pd.DataFrame({\"text\": spotify_training_data[\"seq\"], \"label\":strdata})\n",
        "df2 = pd.DataFrame({\"text\": spotify_testing_data[\"seq\"], \"label\":streata})\n",
        "\n",
        "df.to_csv(r'/content/drive/MyDrive/train.csv',index=False)\n",
        "df2.to_csv(r'/content/drive/MyDrive/test.csv',index=False)\n",
        "\n",
        "print(df.head())\n",
        "dataset = load_dataset('csv',data_files={'train': '/content/drive/MyDrive/train.csv', \n",
        "                                           'test': '/content/drive/MyDrive/test.csv'})\n",
        "\n"
      ]
    },
    {
      "cell_type": "code",
      "execution_count": null,
      "metadata": {
        "colab": {
          "base_uri": "https://localhost:8080/"
        },
        "id": "_nFzo9uDuPvO",
        "outputId": "3cdaf73b-f8f9-484c-901f-40951e3134eb"
      },
      "outputs": [
        {
          "name": "stdout",
          "output_type": "stream",
          "text": [
            "There are 1 GPU(s) available.\n",
            "Device name: A100-SXM4-40GB\n"
          ]
        }
      ],
      "source": [
        "import torch\n",
        "\n",
        "if torch.cuda.is_available():       \n",
        "    device = torch.device(\"cuda\")\n",
        "    print(f'There are {torch.cuda.device_count()} GPU(s) available.')\n",
        "    print('Device name:', torch.cuda.get_device_name(0))\n",
        "\n",
        "else:\n",
        "    print('No GPU available, using the CPU instead.')\n",
        "    device = torch.device(\"cpu\")"
      ]
    },
    {
      "cell_type": "code",
      "execution_count": null,
      "metadata": {
        "id": "8UMV859zcQI9"
      },
      "outputs": [],
      "source": [
        "small_train_dataset = dataset[\"train\"].shuffle(seed=42).select([i for i in list(range(3000))])\n",
        "small_test_dataset = dataset[\"test\"].shuffle(seed=42).select([i for i in list(range(300))])"
      ]
    },
    {
      "cell_type": "code",
      "execution_count": null,
      "metadata": {
        "colab": {
          "base_uri": "https://localhost:8080/"
        },
        "id": "vRFPuGlNcR3E",
        "outputId": "dcb8a26f-a991-48e6-970d-5d77b6fe5bf4"
      },
      "outputs": [
        {
          "name": "stderr",
          "output_type": "stream",
          "text": [
            "loading configuration file config.json from cache at /root/.cache/huggingface/hub/models--distilbert-base-uncased/snapshots/1c4513b2eedbda136f57676a34eea67aba266e5c/config.json\n",
            "Model config DistilBertConfig {\n",
            "  \"_name_or_path\": \"distilbert-base-uncased\",\n",
            "  \"activation\": \"gelu\",\n",
            "  \"architectures\": [\n",
            "    \"DistilBertForMaskedLM\"\n",
            "  ],\n",
            "  \"attention_dropout\": 0.1,\n",
            "  \"dim\": 768,\n",
            "  \"dropout\": 0.1,\n",
            "  \"hidden_dim\": 3072,\n",
            "  \"id2label\": {\n",
            "    \"0\": \"LABEL_0\",\n",
            "    \"1\": \"LABEL_1\",\n",
            "    \"2\": \"LABEL_2\",\n",
            "    \"3\": \"LABEL_3\",\n",
            "    \"4\": \"LABEL_4\"\n",
            "  },\n",
            "  \"initializer_range\": 0.02,\n",
            "  \"label2id\": {\n",
            "    \"LABEL_0\": 0,\n",
            "    \"LABEL_1\": 1,\n",
            "    \"LABEL_2\": 2,\n",
            "    \"LABEL_3\": 3,\n",
            "    \"LABEL_4\": 4\n",
            "  },\n",
            "  \"max_position_embeddings\": 512,\n",
            "  \"model_type\": \"distilbert\",\n",
            "  \"n_heads\": 12,\n",
            "  \"n_layers\": 6,\n",
            "  \"pad_token_id\": 0,\n",
            "  \"qa_dropout\": 0.1,\n",
            "  \"seq_classif_dropout\": 0.2,\n",
            "  \"sinusoidal_pos_embds\": false,\n",
            "  \"tie_weights_\": true,\n",
            "  \"transformers_version\": \"4.25.1\",\n",
            "  \"vocab_size\": 30522\n",
            "}\n",
            "\n",
            "loading file vocab.txt from cache at /root/.cache/huggingface/hub/models--distilbert-base-uncased/snapshots/1c4513b2eedbda136f57676a34eea67aba266e5c/vocab.txt\n",
            "loading file tokenizer.json from cache at /root/.cache/huggingface/hub/models--distilbert-base-uncased/snapshots/1c4513b2eedbda136f57676a34eea67aba266e5c/tokenizer.json\n",
            "loading file added_tokens.json from cache at None\n",
            "loading file special_tokens_map.json from cache at None\n",
            "loading file tokenizer_config.json from cache at /root/.cache/huggingface/hub/models--distilbert-base-uncased/snapshots/1c4513b2eedbda136f57676a34eea67aba266e5c/tokenizer_config.json\n",
            "loading configuration file config.json from cache at /root/.cache/huggingface/hub/models--distilbert-base-uncased/snapshots/1c4513b2eedbda136f57676a34eea67aba266e5c/config.json\n",
            "Model config DistilBertConfig {\n",
            "  \"_name_or_path\": \"distilbert-base-uncased\",\n",
            "  \"activation\": \"gelu\",\n",
            "  \"architectures\": [\n",
            "    \"DistilBertForMaskedLM\"\n",
            "  ],\n",
            "  \"attention_dropout\": 0.1,\n",
            "  \"dim\": 768,\n",
            "  \"dropout\": 0.1,\n",
            "  \"hidden_dim\": 3072,\n",
            "  \"initializer_range\": 0.02,\n",
            "  \"max_position_embeddings\": 512,\n",
            "  \"model_type\": \"distilbert\",\n",
            "  \"n_heads\": 12,\n",
            "  \"n_layers\": 6,\n",
            "  \"pad_token_id\": 0,\n",
            "  \"qa_dropout\": 0.1,\n",
            "  \"seq_classif_dropout\": 0.2,\n",
            "  \"sinusoidal_pos_embds\": false,\n",
            "  \"tie_weights_\": true,\n",
            "  \"transformers_version\": \"4.25.1\",\n",
            "  \"vocab_size\": 30522\n",
            "}\n",
            "\n"
          ]
        }
      ],
      "source": [
        "from transformers import AutoTokenizer\n",
        "tokenizer = AutoTokenizer.from_pretrained(\"distilbert-base-uncased\", num_labels = 5)"
      ]
    },
    {
      "cell_type": "code",
      "execution_count": null,
      "metadata": {
        "id": "AyEpCdcucTQm"
      },
      "outputs": [],
      "source": [
        "def preprocess_function(examples):\n",
        "  return tokenizer(examples[\"text\"], truncation=True)"
      ]
    },
    {
      "cell_type": "code",
      "execution_count": null,
      "metadata": {
        "colab": {
          "base_uri": "https://localhost:8080/",
          "height": 81,
          "referenced_widgets": [
            "711ed2c20cb345e3a10f1f8da8db7275",
            "61ca7e6451a74f5982868463559b0e51",
            "514174d90a1d49d0b49600dd620b31dc",
            "9a33719e3b4947b0a14848bb4e029c6d",
            "799ca3835f294b7784f1a6e2def24942",
            "b2e0977ee1414743b0c1ea5d6f49548b",
            "74844fb85652457cbc52cb953b7f3048",
            "0f5dc777ccaf43028cc581c7523b5d76",
            "afcd8bf4793649d8a7330cc272c064c9",
            "c1760709711144b685b94242e309182c",
            "39024b5df3294b4999060aa691e2aa99",
            "d439de26c185410786cde5eb86a71b2b",
            "43ccdbb4303c4cb790a1cf16902762f7",
            "cba4dcc4f80c46fa90fec11e565e4694",
            "e5fc822468ad4a6e90f9320ab224248f",
            "9707e99c327e4b67871a5ea49e46e855",
            "bee782a8974c4d00b29e4d461ab17682",
            "4ffaa57a924c4804984e8aaa8c68bde4",
            "8a726e1ba71d4f8b9f7186a221ab1d63",
            "365532b9f8d94da4a28785533bb40931",
            "7b5e76b0095645f08aaa5f23851125d6",
            "770024dca0284a85b522c38f63816653"
          ]
        },
        "id": "2FdARfRicU-g",
        "outputId": "af1cc0b2-58ee-4629-bb52-8b9d484b1e5e"
      },
      "outputs": [
        {
          "data": {
            "application/vnd.jupyter.widget-view+json": {
              "model_id": "711ed2c20cb345e3a10f1f8da8db7275",
              "version_major": 2,
              "version_minor": 0
            },
            "text/plain": [
              "  0%|          | 0/3000 [00:00<?, ?ex/s]"
            ]
          },
          "metadata": {},
          "output_type": "display_data"
        },
        {
          "data": {
            "application/vnd.jupyter.widget-view+json": {
              "model_id": "d439de26c185410786cde5eb86a71b2b",
              "version_major": 2,
              "version_minor": 0
            },
            "text/plain": [
              "  0%|          | 0/300 [00:00<?, ?ex/s]"
            ]
          },
          "metadata": {},
          "output_type": "display_data"
        }
      ],
      "source": [
        "tokenized_small_train = small_train_dataset.map(preprocess_function)\n",
        "tokenized_small_test = small_test_dataset.map(preprocess_function)"
      ]
    },
    {
      "cell_type": "code",
      "execution_count": null,
      "metadata": {
        "colab": {
          "base_uri": "https://localhost:8080/"
        },
        "id": "DuGjhKk1pBjH",
        "outputId": "08ac32ed-3b2c-43ac-8208-80cf5ce85c1b"
      },
      "outputs": [
        {
          "name": "stdout",
          "output_type": "stream",
          "text": [
            "{'text': \"Put your swords away I'm already down\\nThe higher we both climb the further we fall\\nNow were under looking up into the floor\\nAnd burn each other though we're dying for more\\nWe're stuck on this dysfunction We love it to our death\\nWe celebrate destruction by lighting up this bed....\\n\\nYou can take your love away but don't you ever leave alone\\nBurn the ghosts we've carried home\\nCome on touch me show me your imperfect too\\nThese broken lights they shine on us tonight\\n\\nWe don't talk much when there's so much to say\\nWe don't listen but yet we try anyway\\nMy stomach sick bitter and open \\nReveries of helplessness have left me all but hopin'\\n\\nWe strip each others beauty and we push it to the end\\nWe face each other smiling and leave it all unsaid\\n\\nWe kiss till we bleed \\nWe Feel So much its killing us\\nWe fight till were free\\nAnd he threatens to leave but won't let me\\nWe cry till we see \\nInfatuations Break Us down\\nWere healing at three\\nWe dance inside this tragedy\\n\\nYou can take your love away but don't you ever leave alone\\nBurn the ghosts we've carried home\\nCome on touch me show me your imperfect too\\nThese broken lights they shine on us tonight\", 'label': 1, 'input_ids': [101, 2404, 2115, 10689, 2185, 1045, 1005, 1049, 2525, 2091, 1996, 3020, 2057, 2119, 7105, 1996, 2582, 2057, 2991, 2085, 2020, 2104, 2559, 2039, 2046, 1996, 2723, 1998, 6402, 2169, 2060, 2295, 2057, 1005, 2128, 5996, 2005, 2062, 2057, 1005, 2128, 5881, 2006, 2023, 28466, 2057, 2293, 2009, 2000, 2256, 2331, 2057, 8439, 6215, 2011, 7497, 2039, 2023, 2793, 1012, 1012, 1012, 1012, 2017, 2064, 2202, 2115, 2293, 2185, 2021, 2123, 1005, 1056, 2017, 2412, 2681, 2894, 6402, 1996, 11277, 2057, 1005, 2310, 3344, 2188, 2272, 2006, 3543, 2033, 2265, 2033, 2115, 29238, 2205, 2122, 3714, 4597, 2027, 12342, 2006, 2149, 3892, 2057, 2123, 1005, 1056, 2831, 2172, 2043, 2045, 1005, 1055, 2061, 2172, 2000, 2360, 2057, 2123, 1005, 1056, 4952, 2021, 2664, 2057, 3046, 4312, 2026, 4308, 5305, 8618, 1998, 2330, 7065, 28077, 1997, 13346, 2791, 2031, 2187, 2033, 2035, 2021, 6154, 2378, 1005, 2057, 6167, 2169, 2500, 5053, 1998, 2057, 5245, 2009, 2000, 1996, 2203, 2057, 2227, 2169, 2060, 5629, 1998, 2681, 2009, 2035, 4895, 15816, 2094, 2057, 3610, 6229, 2057, 19501, 2057, 2514, 2061, 2172, 2049, 4288, 2149, 2057, 2954, 6229, 2020, 2489, 1998, 2002, 17016, 2000, 2681, 2021, 2180, 1005, 1056, 2292, 2033, 2057, 5390, 6229, 2057, 2156, 1999, 27753, 14505, 2015, 3338, 2149, 2091, 2020, 8907, 2012, 2093, 2057, 3153, 2503, 2023, 10576, 2017, 2064, 2202, 2115, 2293, 2185, 2021, 2123, 1005, 1056, 2017, 2412, 2681, 2894, 6402, 1996, 11277, 2057, 1005, 2310, 3344, 2188, 2272, 2006, 3543, 2033, 2265, 2033, 2115, 29238, 2205, 2122, 3714, 4597, 2027, 12342, 2006, 2149, 3892, 102], 'attention_mask': [1, 1, 1, 1, 1, 1, 1, 1, 1, 1, 1, 1, 1, 1, 1, 1, 1, 1, 1, 1, 1, 1, 1, 1, 1, 1, 1, 1, 1, 1, 1, 1, 1, 1, 1, 1, 1, 1, 1, 1, 1, 1, 1, 1, 1, 1, 1, 1, 1, 1, 1, 1, 1, 1, 1, 1, 1, 1, 1, 1, 1, 1, 1, 1, 1, 1, 1, 1, 1, 1, 1, 1, 1, 1, 1, 1, 1, 1, 1, 1, 1, 1, 1, 1, 1, 1, 1, 1, 1, 1, 1, 1, 1, 1, 1, 1, 1, 1, 1, 1, 1, 1, 1, 1, 1, 1, 1, 1, 1, 1, 1, 1, 1, 1, 1, 1, 1, 1, 1, 1, 1, 1, 1, 1, 1, 1, 1, 1, 1, 1, 1, 1, 1, 1, 1, 1, 1, 1, 1, 1, 1, 1, 1, 1, 1, 1, 1, 1, 1, 1, 1, 1, 1, 1, 1, 1, 1, 1, 1, 1, 1, 1, 1, 1, 1, 1, 1, 1, 1, 1, 1, 1, 1, 1, 1, 1, 1, 1, 1, 1, 1, 1, 1, 1, 1, 1, 1, 1, 1, 1, 1, 1, 1, 1, 1, 1, 1, 1, 1, 1, 1, 1, 1, 1, 1, 1, 1, 1, 1, 1, 1, 1, 1, 1, 1, 1, 1, 1, 1, 1, 1, 1, 1, 1, 1, 1, 1, 1, 1, 1, 1, 1, 1, 1, 1, 1, 1, 1, 1, 1, 1, 1, 1, 1, 1, 1, 1, 1, 1, 1, 1, 1, 1, 1, 1, 1, 1, 1]}\n"
          ]
        }
      ],
      "source": [
        "print(tokenized_small_train[0])"
      ]
    },
    {
      "cell_type": "code",
      "execution_count": null,
      "metadata": {
        "id": "IqQ_U3v3cWPJ"
      },
      "outputs": [],
      "source": [
        "from transformers import DataCollatorWithPadding\n",
        "data_collator = DataCollatorWithPadding(tokenizer=tokenizer)"
      ]
    },
    {
      "cell_type": "code",
      "execution_count": null,
      "metadata": {
        "colab": {
          "base_uri": "https://localhost:8080/"
        },
        "id": "f4WTbXzZcXeB",
        "outputId": "21768b19-7857-4918-ca00-e8561aceec84"
      },
      "outputs": [
        {
          "name": "stderr",
          "output_type": "stream",
          "text": [
            "loading configuration file config.json from cache at /root/.cache/huggingface/hub/models--distilbert-base-uncased/snapshots/1c4513b2eedbda136f57676a34eea67aba266e5c/config.json\n",
            "Model config DistilBertConfig {\n",
            "  \"_name_or_path\": \"distilbert-base-uncased\",\n",
            "  \"activation\": \"gelu\",\n",
            "  \"architectures\": [\n",
            "    \"DistilBertForMaskedLM\"\n",
            "  ],\n",
            "  \"attention_dropout\": 0.1,\n",
            "  \"dim\": 768,\n",
            "  \"dropout\": 0.1,\n",
            "  \"hidden_dim\": 3072,\n",
            "  \"initializer_range\": 0.02,\n",
            "  \"max_position_embeddings\": 512,\n",
            "  \"model_type\": \"distilbert\",\n",
            "  \"n_heads\": 12,\n",
            "  \"n_layers\": 6,\n",
            "  \"pad_token_id\": 0,\n",
            "  \"qa_dropout\": 0.1,\n",
            "  \"seq_classif_dropout\": 0.2,\n",
            "  \"sinusoidal_pos_embds\": false,\n",
            "  \"tie_weights_\": true,\n",
            "  \"transformers_version\": \"4.25.1\",\n",
            "  \"vocab_size\": 30522\n",
            "}\n",
            "\n",
            "loading weights file pytorch_model.bin from cache at /root/.cache/huggingface/hub/models--distilbert-base-uncased/snapshots/1c4513b2eedbda136f57676a34eea67aba266e5c/pytorch_model.bin\n",
            "Some weights of the model checkpoint at distilbert-base-uncased were not used when initializing DistilBertModel: ['vocab_layer_norm.weight', 'vocab_projector.bias', 'vocab_transform.weight', 'vocab_projector.weight', 'vocab_transform.bias', 'vocab_layer_norm.bias']\n",
            "- This IS expected if you are initializing DistilBertModel from the checkpoint of a model trained on another task or with another architecture (e.g. initializing a BertForSequenceClassification model from a BertForPreTraining model).\n",
            "- This IS NOT expected if you are initializing DistilBertModel from the checkpoint of a model that you expect to be exactly identical (initializing a BertForSequenceClassification model from a BertForSequenceClassification model).\n",
            "All the weights of DistilBertModel were initialized from the model checkpoint at distilbert-base-uncased.\n",
            "If your task is similar to the task the model of the checkpoint was trained on, you can already use DistilBertModel for predictions without further training.\n"
          ]
        }
      ],
      "source": [
        "from transformers import AutoModel, TrainingArguments, Trainer\n",
        "\n",
        "model = AutoModel.from_pretrained(\"distilbert-base-uncased\")"
      ]
    },
    {
      "cell_type": "code",
      "execution_count": null,
      "metadata": {
        "id": "3KZ9Uj2ycZAF"
      },
      "outputs": [],
      "source": [
        "import numpy as np\n",
        "from datasets import load_metric\n",
        " \n",
        "def compute_metrics(eval_pred):\n",
        "   load_accuracy = load_metric(\"accuracy\")\n",
        "   load_f1 = load_metric(\"f1\")\n",
        "  \n",
        "   logits, labels = eval_pred\n",
        "   predictions = np.argmax(logits, axis=-1)\n",
        "   accuracy = load_accuracy.compute(predictions=predictions, references=labels)[\"accuracy\"]\n",
        "   f1 = load_f1.compute(predictions=predictions, references=labels)[\"f1\"]\n",
        "   return {\"accuracy\": accuracy, \"f1\": f1}\n"
      ]
    },
    {
      "cell_type": "code",
      "execution_count": null,
      "metadata": {
        "colab": {
          "base_uri": "https://localhost:8080/"
        },
        "id": "b0bJxME4cauD",
        "outputId": "2149e1ac-451b-4538-a608-93aabc78c452"
      },
      "outputs": [
        {
          "name": "stderr",
          "output_type": "stream",
          "text": [
            "PyTorch: setting up devices\n",
            "The default value for the training argument `--report_to` will change in v5 (from all installed integrations to none). In v5, you will need to use `--report_to all` to get the same behavior as now. You should start updating your code and make this info disappear :-).\n"
          ]
        }
      ],
      "source": [
        "batch_size = 16 \n",
        "training_args = TrainingArguments(\n",
        "    output_dir=\"/content/drive/MyDrive/results\",\n",
        "    learning_rate=2e-5,\n",
        "    per_device_train_batch_size=batch_size,\n",
        "    per_device_eval_batch_size=batch_size,\n",
        "    num_train_epochs=1,\n",
        "    weight_decay=0.01\n",
        ")\n",
        "\n",
        "trainer = Trainer(\n",
        "    model=model,\n",
        "    args=training_args,\n",
        "    compute_metrics=compute_metrics,\n",
        "    train_dataset=tokenized_small_train,\n",
        "    eval_dataset=tokenized_small_test,\n",
        "    tokenizer=tokenizer,\n",
        "    data_collator=data_collator,\n",
        ")\n"
      ]
    },
    {
      "cell_type": "code",
      "execution_count": null,
      "metadata": {
        "colab": {
          "base_uri": "https://localhost:8080/",
          "height": 503
        },
        "id": "l85aHqhJccdh",
        "outputId": "e0e6c124-c922-4688-bcf7-28980490183d"
      },
      "outputs": [
        {
          "name": "stderr",
          "output_type": "stream",
          "text": [
            "The following columns in the training set don't have a corresponding argument in `DistilBertModel.forward` and have been ignored: text. If text are not expected by `DistilBertModel.forward`,  you can safely ignore this message.\n",
            "***** Running training *****\n",
            "  Num examples = 3000\n",
            "  Num Epochs = 1\n",
            "  Instantaneous batch size per device = 16\n",
            "  Total train batch size (w. parallel, distributed & accumulation) = 16\n",
            "  Gradient Accumulation steps = 1\n",
            "  Total optimization steps = 188\n",
            "  Number of trainable parameters = 66362880\n"
          ]
        },
        {
          "ename": "TypeError",
          "evalue": "ignored",
          "output_type": "error",
          "traceback": [
            "\u001b[0;31m---------------------------------------------------------------------------\u001b[0m",
            "\u001b[0;31mTypeError\u001b[0m                                 Traceback (most recent call last)",
            "\u001b[0;32m<ipython-input-59-3435b262f1ae>\u001b[0m in \u001b[0;36m<module>\u001b[0;34m\u001b[0m\n\u001b[0;32m----> 1\u001b[0;31m \u001b[0mtrainer\u001b[0m\u001b[0;34m.\u001b[0m\u001b[0mtrain\u001b[0m\u001b[0;34m(\u001b[0m\u001b[0;34m)\u001b[0m\u001b[0;34m\u001b[0m\u001b[0;34m\u001b[0m\u001b[0m\n\u001b[0m",
            "\u001b[0;32m/usr/local/lib/python3.8/dist-packages/transformers/trainer.py\u001b[0m in \u001b[0;36mtrain\u001b[0;34m(self, resume_from_checkpoint, trial, ignore_keys_for_eval, **kwargs)\u001b[0m\n\u001b[1;32m   1525\u001b[0m             \u001b[0mself\u001b[0m\u001b[0;34m.\u001b[0m\u001b[0m_inner_training_loop\u001b[0m\u001b[0;34m,\u001b[0m \u001b[0mself\u001b[0m\u001b[0;34m.\u001b[0m\u001b[0m_train_batch_size\u001b[0m\u001b[0;34m,\u001b[0m \u001b[0margs\u001b[0m\u001b[0;34m.\u001b[0m\u001b[0mauto_find_batch_size\u001b[0m\u001b[0;34m\u001b[0m\u001b[0;34m\u001b[0m\u001b[0m\n\u001b[1;32m   1526\u001b[0m         )\n\u001b[0;32m-> 1527\u001b[0;31m         return inner_training_loop(\n\u001b[0m\u001b[1;32m   1528\u001b[0m             \u001b[0margs\u001b[0m\u001b[0;34m=\u001b[0m\u001b[0margs\u001b[0m\u001b[0;34m,\u001b[0m\u001b[0;34m\u001b[0m\u001b[0;34m\u001b[0m\u001b[0m\n\u001b[1;32m   1529\u001b[0m             \u001b[0mresume_from_checkpoint\u001b[0m\u001b[0;34m=\u001b[0m\u001b[0mresume_from_checkpoint\u001b[0m\u001b[0;34m,\u001b[0m\u001b[0;34m\u001b[0m\u001b[0;34m\u001b[0m\u001b[0m\n",
            "\u001b[0;32m/usr/local/lib/python3.8/dist-packages/transformers/trainer.py\u001b[0m in \u001b[0;36m_inner_training_loop\u001b[0;34m(self, batch_size, args, resume_from_checkpoint, trial, ignore_keys_for_eval)\u001b[0m\n\u001b[1;32m   1773\u001b[0m                         \u001b[0mtr_loss_step\u001b[0m \u001b[0;34m=\u001b[0m \u001b[0mself\u001b[0m\u001b[0;34m.\u001b[0m\u001b[0mtraining_step\u001b[0m\u001b[0;34m(\u001b[0m\u001b[0mmodel\u001b[0m\u001b[0;34m,\u001b[0m \u001b[0minputs\u001b[0m\u001b[0;34m)\u001b[0m\u001b[0;34m\u001b[0m\u001b[0;34m\u001b[0m\u001b[0m\n\u001b[1;32m   1774\u001b[0m                 \u001b[0;32melse\u001b[0m\u001b[0;34m:\u001b[0m\u001b[0;34m\u001b[0m\u001b[0;34m\u001b[0m\u001b[0m\n\u001b[0;32m-> 1775\u001b[0;31m                     \u001b[0mtr_loss_step\u001b[0m \u001b[0;34m=\u001b[0m \u001b[0mself\u001b[0m\u001b[0;34m.\u001b[0m\u001b[0mtraining_step\u001b[0m\u001b[0;34m(\u001b[0m\u001b[0mmodel\u001b[0m\u001b[0;34m,\u001b[0m \u001b[0minputs\u001b[0m\u001b[0;34m)\u001b[0m\u001b[0;34m\u001b[0m\u001b[0;34m\u001b[0m\u001b[0m\n\u001b[0m\u001b[1;32m   1776\u001b[0m \u001b[0;34m\u001b[0m\u001b[0m\n\u001b[1;32m   1777\u001b[0m                 if (\n",
            "\u001b[0;32m/usr/local/lib/python3.8/dist-packages/transformers/trainer.py\u001b[0m in \u001b[0;36mtraining_step\u001b[0;34m(self, model, inputs)\u001b[0m\n\u001b[1;32m   2521\u001b[0m \u001b[0;34m\u001b[0m\u001b[0m\n\u001b[1;32m   2522\u001b[0m         \u001b[0;32mwith\u001b[0m \u001b[0mself\u001b[0m\u001b[0;34m.\u001b[0m\u001b[0mcompute_loss_context_manager\u001b[0m\u001b[0;34m(\u001b[0m\u001b[0;34m)\u001b[0m\u001b[0;34m:\u001b[0m\u001b[0;34m\u001b[0m\u001b[0;34m\u001b[0m\u001b[0m\n\u001b[0;32m-> 2523\u001b[0;31m             \u001b[0mloss\u001b[0m \u001b[0;34m=\u001b[0m \u001b[0mself\u001b[0m\u001b[0;34m.\u001b[0m\u001b[0mcompute_loss\u001b[0m\u001b[0;34m(\u001b[0m\u001b[0mmodel\u001b[0m\u001b[0;34m,\u001b[0m \u001b[0minputs\u001b[0m\u001b[0;34m)\u001b[0m\u001b[0;34m\u001b[0m\u001b[0;34m\u001b[0m\u001b[0m\n\u001b[0m\u001b[1;32m   2524\u001b[0m \u001b[0;34m\u001b[0m\u001b[0m\n\u001b[1;32m   2525\u001b[0m         \u001b[0;32mif\u001b[0m \u001b[0mself\u001b[0m\u001b[0;34m.\u001b[0m\u001b[0margs\u001b[0m\u001b[0;34m.\u001b[0m\u001b[0mn_gpu\u001b[0m \u001b[0;34m>\u001b[0m \u001b[0;36m1\u001b[0m\u001b[0;34m:\u001b[0m\u001b[0;34m\u001b[0m\u001b[0;34m\u001b[0m\u001b[0m\n",
            "\u001b[0;32m/usr/local/lib/python3.8/dist-packages/transformers/trainer.py\u001b[0m in \u001b[0;36mcompute_loss\u001b[0;34m(self, model, inputs, return_outputs)\u001b[0m\n\u001b[1;32m   2553\u001b[0m         \u001b[0;32melse\u001b[0m\u001b[0;34m:\u001b[0m\u001b[0;34m\u001b[0m\u001b[0;34m\u001b[0m\u001b[0m\n\u001b[1;32m   2554\u001b[0m             \u001b[0mlabels\u001b[0m \u001b[0;34m=\u001b[0m \u001b[0;32mNone\u001b[0m\u001b[0;34m\u001b[0m\u001b[0;34m\u001b[0m\u001b[0m\n\u001b[0;32m-> 2555\u001b[0;31m         \u001b[0moutputs\u001b[0m \u001b[0;34m=\u001b[0m \u001b[0mmodel\u001b[0m\u001b[0;34m(\u001b[0m\u001b[0;34m**\u001b[0m\u001b[0minputs\u001b[0m\u001b[0;34m)\u001b[0m\u001b[0;34m\u001b[0m\u001b[0;34m\u001b[0m\u001b[0m\n\u001b[0m\u001b[1;32m   2556\u001b[0m         \u001b[0;31m# Save past state if it exists\u001b[0m\u001b[0;34m\u001b[0m\u001b[0;34m\u001b[0m\u001b[0;34m\u001b[0m\u001b[0m\n\u001b[1;32m   2557\u001b[0m         \u001b[0;31m# TODO: this needs to be fixed and made cleaner later.\u001b[0m\u001b[0;34m\u001b[0m\u001b[0;34m\u001b[0m\u001b[0;34m\u001b[0m\u001b[0m\n",
            "\u001b[0;32m/usr/local/lib/python3.8/dist-packages/torch/nn/modules/module.py\u001b[0m in \u001b[0;36m_call_impl\u001b[0;34m(self, *input, **kwargs)\u001b[0m\n\u001b[1;32m   1128\u001b[0m         if not (self._backward_hooks or self._forward_hooks or self._forward_pre_hooks or _global_backward_hooks\n\u001b[1;32m   1129\u001b[0m                 or _global_forward_hooks or _global_forward_pre_hooks):\n\u001b[0;32m-> 1130\u001b[0;31m             \u001b[0;32mreturn\u001b[0m \u001b[0mforward_call\u001b[0m\u001b[0;34m(\u001b[0m\u001b[0;34m*\u001b[0m\u001b[0minput\u001b[0m\u001b[0;34m,\u001b[0m \u001b[0;34m**\u001b[0m\u001b[0mkwargs\u001b[0m\u001b[0;34m)\u001b[0m\u001b[0;34m\u001b[0m\u001b[0;34m\u001b[0m\u001b[0m\n\u001b[0m\u001b[1;32m   1131\u001b[0m         \u001b[0;31m# Do not call functions when jit is used\u001b[0m\u001b[0;34m\u001b[0m\u001b[0;34m\u001b[0m\u001b[0;34m\u001b[0m\u001b[0m\n\u001b[1;32m   1132\u001b[0m         \u001b[0mfull_backward_hooks\u001b[0m\u001b[0;34m,\u001b[0m \u001b[0mnon_full_backward_hooks\u001b[0m \u001b[0;34m=\u001b[0m \u001b[0;34m[\u001b[0m\u001b[0;34m]\u001b[0m\u001b[0;34m,\u001b[0m \u001b[0;34m[\u001b[0m\u001b[0;34m]\u001b[0m\u001b[0;34m\u001b[0m\u001b[0;34m\u001b[0m\u001b[0m\n",
            "\u001b[0;31mTypeError\u001b[0m: forward() got an unexpected keyword argument 'labels'"
          ]
        }
      ],
      "source": [
        "trainer.train()"
      ]
    },
    {
      "cell_type": "code",
      "execution_count": null,
      "metadata": {
        "id": "9iaExEtVceWB"
      },
      "outputs": [],
      "source": [
        "trainer.evaluate()"
      ]
    }
  ],
  "metadata": {
    "accelerator": "GPU",
    "colab": {
      "collapsed_sections": [
        "9m8tN6tPDzUe"
      ],
      "provenance": []
    },
    "gpuClass": "premium",
    "kernelspec": {
      "display_name": "Python 3",
      "language": "python",
      "name": "python3"
    },
    "language_info": {
      "name": "python",
      "version": "3.10.6 (main, Aug 30 2022, 04:58:14) [Clang 13.1.6 (clang-1316.0.21.2.5)]"
    },
    "vscode": {
      "interpreter": {
        "hash": "b0fa6594d8f4cbf19f97940f81e996739fb7646882a419484c72d19e05852a7e"
      }
    },
    "widgets": {
      "application/vnd.jupyter.widget-state+json": {
        "073233cff319477d81e82bdc0732b3fd": {
          "model_module": "@jupyter-widgets/controls",
          "model_module_version": "1.5.0",
          "model_name": "FloatProgressModel",
          "state": {
            "_dom_classes": [],
            "_model_module": "@jupyter-widgets/controls",
            "_model_module_version": "1.5.0",
            "_model_name": "FloatProgressModel",
            "_view_count": null,
            "_view_module": "@jupyter-widgets/controls",
            "_view_module_version": "1.5.0",
            "_view_name": "ProgressView",
            "bar_style": "success",
            "description": "",
            "description_tooltip": null,
            "layout": "IPY_MODEL_9620806a7b2945dbbfbf39594cd8f6f8",
            "max": 1,
            "min": 0,
            "orientation": "horizontal",
            "style": "IPY_MODEL_def9d6a1642d453c9cf4a07bd84d795e",
            "value": 1
          }
        },
        "0f5dc777ccaf43028cc581c7523b5d76": {
          "model_module": "@jupyter-widgets/base",
          "model_module_version": "1.2.0",
          "model_name": "LayoutModel",
          "state": {
            "_model_module": "@jupyter-widgets/base",
            "_model_module_version": "1.2.0",
            "_model_name": "LayoutModel",
            "_view_count": null,
            "_view_module": "@jupyter-widgets/base",
            "_view_module_version": "1.2.0",
            "_view_name": "LayoutView",
            "align_content": null,
            "align_items": null,
            "align_self": null,
            "border": null,
            "bottom": null,
            "display": null,
            "flex": null,
            "flex_flow": null,
            "grid_area": null,
            "grid_auto_columns": null,
            "grid_auto_flow": null,
            "grid_auto_rows": null,
            "grid_column": null,
            "grid_gap": null,
            "grid_row": null,
            "grid_template_areas": null,
            "grid_template_columns": null,
            "grid_template_rows": null,
            "height": null,
            "justify_content": null,
            "justify_items": null,
            "left": null,
            "margin": null,
            "max_height": null,
            "max_width": null,
            "min_height": null,
            "min_width": null,
            "object_fit": null,
            "object_position": null,
            "order": null,
            "overflow": null,
            "overflow_x": null,
            "overflow_y": null,
            "padding": null,
            "right": null,
            "top": null,
            "visibility": null,
            "width": null
          }
        },
        "17cf60e73967478daa4306b544abdae3": {
          "model_module": "@jupyter-widgets/controls",
          "model_module_version": "1.5.0",
          "model_name": "HTMLModel",
          "state": {
            "_dom_classes": [],
            "_model_module": "@jupyter-widgets/controls",
            "_model_module_version": "1.5.0",
            "_model_name": "HTMLModel",
            "_view_count": null,
            "_view_module": "@jupyter-widgets/controls",
            "_view_module_version": "1.5.0",
            "_view_name": "HTMLView",
            "description": "",
            "description_tooltip": null,
            "layout": "IPY_MODEL_c4690c9aa5fd4637a337cc24142d6a48",
            "placeholder": "​",
            "style": "IPY_MODEL_2e66b60edf9f4661a87c707f2c7c9342",
            "value": " 30000/0 [00:00&lt;00:00, 81887.27 examples/s]"
          }
        },
        "18550d7879bb4462b8e3f52e2be4ada2": {
          "model_module": "@jupyter-widgets/base",
          "model_module_version": "1.2.0",
          "model_name": "LayoutModel",
          "state": {
            "_model_module": "@jupyter-widgets/base",
            "_model_module_version": "1.2.0",
            "_model_name": "LayoutModel",
            "_view_count": null,
            "_view_module": "@jupyter-widgets/base",
            "_view_module_version": "1.2.0",
            "_view_name": "LayoutView",
            "align_content": null,
            "align_items": null,
            "align_self": null,
            "border": null,
            "bottom": null,
            "display": null,
            "flex": null,
            "flex_flow": null,
            "grid_area": null,
            "grid_auto_columns": null,
            "grid_auto_flow": null,
            "grid_auto_rows": null,
            "grid_column": null,
            "grid_gap": null,
            "grid_row": null,
            "grid_template_areas": null,
            "grid_template_columns": null,
            "grid_template_rows": null,
            "height": null,
            "justify_content": null,
            "justify_items": null,
            "left": null,
            "margin": null,
            "max_height": null,
            "max_width": null,
            "min_height": null,
            "min_width": null,
            "object_fit": null,
            "object_position": null,
            "order": null,
            "overflow": null,
            "overflow_x": null,
            "overflow_y": null,
            "padding": null,
            "right": null,
            "top": null,
            "visibility": null,
            "width": null
          }
        },
        "18f35406650d4d459b4321c046188637": {
          "model_module": "@jupyter-widgets/base",
          "model_module_version": "1.2.0",
          "model_name": "LayoutModel",
          "state": {
            "_model_module": "@jupyter-widgets/base",
            "_model_module_version": "1.2.0",
            "_model_name": "LayoutModel",
            "_view_count": null,
            "_view_module": "@jupyter-widgets/base",
            "_view_module_version": "1.2.0",
            "_view_name": "LayoutView",
            "align_content": null,
            "align_items": null,
            "align_self": null,
            "border": null,
            "bottom": null,
            "display": null,
            "flex": null,
            "flex_flow": null,
            "grid_area": null,
            "grid_auto_columns": null,
            "grid_auto_flow": null,
            "grid_auto_rows": null,
            "grid_column": null,
            "grid_gap": null,
            "grid_row": null,
            "grid_template_areas": null,
            "grid_template_columns": null,
            "grid_template_rows": null,
            "height": null,
            "justify_content": null,
            "justify_items": null,
            "left": null,
            "margin": null,
            "max_height": null,
            "max_width": null,
            "min_height": null,
            "min_width": null,
            "object_fit": null,
            "object_position": null,
            "order": null,
            "overflow": null,
            "overflow_x": null,
            "overflow_y": null,
            "padding": null,
            "right": null,
            "top": null,
            "visibility": null,
            "width": null
          }
        },
        "1c1caeb4a9b64dc0a6b3f73034ef5134": {
          "model_module": "@jupyter-widgets/base",
          "model_module_version": "1.2.0",
          "model_name": "LayoutModel",
          "state": {
            "_model_module": "@jupyter-widgets/base",
            "_model_module_version": "1.2.0",
            "_model_name": "LayoutModel",
            "_view_count": null,
            "_view_module": "@jupyter-widgets/base",
            "_view_module_version": "1.2.0",
            "_view_name": "LayoutView",
            "align_content": null,
            "align_items": null,
            "align_self": null,
            "border": null,
            "bottom": null,
            "display": null,
            "flex": null,
            "flex_flow": null,
            "grid_area": null,
            "grid_auto_columns": null,
            "grid_auto_flow": null,
            "grid_auto_rows": null,
            "grid_column": null,
            "grid_gap": null,
            "grid_row": null,
            "grid_template_areas": null,
            "grid_template_columns": null,
            "grid_template_rows": null,
            "height": null,
            "justify_content": null,
            "justify_items": null,
            "left": null,
            "margin": null,
            "max_height": null,
            "max_width": null,
            "min_height": null,
            "min_width": null,
            "object_fit": null,
            "object_position": null,
            "order": null,
            "overflow": null,
            "overflow_x": null,
            "overflow_y": null,
            "padding": null,
            "right": null,
            "top": null,
            "visibility": null,
            "width": null
          }
        },
        "1d52d897558448e086a874d7d9608bbf": {
          "model_module": "@jupyter-widgets/controls",
          "model_module_version": "1.5.0",
          "model_name": "DescriptionStyleModel",
          "state": {
            "_model_module": "@jupyter-widgets/controls",
            "_model_module_version": "1.5.0",
            "_model_name": "DescriptionStyleModel",
            "_view_count": null,
            "_view_module": "@jupyter-widgets/base",
            "_view_module_version": "1.2.0",
            "_view_name": "StyleView",
            "description_width": ""
          }
        },
        "1e94f0341eb04fc6ab7d89b4df4b3dad": {
          "model_module": "@jupyter-widgets/controls",
          "model_module_version": "1.5.0",
          "model_name": "HTMLModel",
          "state": {
            "_dom_classes": [],
            "_model_module": "@jupyter-widgets/controls",
            "_model_module_version": "1.5.0",
            "_model_name": "HTMLModel",
            "_view_count": null,
            "_view_module": "@jupyter-widgets/controls",
            "_view_module_version": "1.5.0",
            "_view_name": "HTMLView",
            "description": "",
            "description_tooltip": null,
            "layout": "IPY_MODEL_90568b581cbe4e8faddbe622e3d773eb",
            "placeholder": "​",
            "style": "IPY_MODEL_ec63ad9cd57544a2acf36ae10827493f",
            "value": "Generating train split: "
          }
        },
        "214ea240a65949f19ce4107ffd9f339a": {
          "model_module": "@jupyter-widgets/controls",
          "model_module_version": "1.5.0",
          "model_name": "HBoxModel",
          "state": {
            "_dom_classes": [],
            "_model_module": "@jupyter-widgets/controls",
            "_model_module_version": "1.5.0",
            "_model_name": "HBoxModel",
            "_view_count": null,
            "_view_module": "@jupyter-widgets/controls",
            "_view_module_version": "1.5.0",
            "_view_name": "HBoxView",
            "box_style": "",
            "children": [
              "IPY_MODEL_fcdf8e1234e44c3dab999352ccc763ee",
              "IPY_MODEL_e04153fb43bb4271a1af1aa2a12be273",
              "IPY_MODEL_52a3bccc28324a50823d1ea2286d2bf2"
            ],
            "layout": "IPY_MODEL_51b431893acb4fb797c8cf344c5cb9fb"
          }
        },
        "25d517b4d72e4285a075f8c998147859": {
          "model_module": "@jupyter-widgets/base",
          "model_module_version": "1.2.0",
          "model_name": "LayoutModel",
          "state": {
            "_model_module": "@jupyter-widgets/base",
            "_model_module_version": "1.2.0",
            "_model_name": "LayoutModel",
            "_view_count": null,
            "_view_module": "@jupyter-widgets/base",
            "_view_module_version": "1.2.0",
            "_view_name": "LayoutView",
            "align_content": null,
            "align_items": null,
            "align_self": null,
            "border": null,
            "bottom": null,
            "display": null,
            "flex": null,
            "flex_flow": null,
            "grid_area": null,
            "grid_auto_columns": null,
            "grid_auto_flow": null,
            "grid_auto_rows": null,
            "grid_column": null,
            "grid_gap": null,
            "grid_row": null,
            "grid_template_areas": null,
            "grid_template_columns": null,
            "grid_template_rows": null,
            "height": null,
            "justify_content": null,
            "justify_items": null,
            "left": null,
            "margin": null,
            "max_height": null,
            "max_width": null,
            "min_height": null,
            "min_width": null,
            "object_fit": null,
            "object_position": null,
            "order": null,
            "overflow": null,
            "overflow_x": null,
            "overflow_y": null,
            "padding": null,
            "right": null,
            "top": null,
            "visibility": "hidden",
            "width": null
          }
        },
        "26adb007d2ff46aa9bf118f80a43cb5d": {
          "model_module": "@jupyter-widgets/controls",
          "model_module_version": "1.5.0",
          "model_name": "HTMLModel",
          "state": {
            "_dom_classes": [],
            "_model_module": "@jupyter-widgets/controls",
            "_model_module_version": "1.5.0",
            "_model_name": "HTMLModel",
            "_view_count": null,
            "_view_module": "@jupyter-widgets/controls",
            "_view_module_version": "1.5.0",
            "_view_name": "HTMLView",
            "description": "",
            "description_tooltip": null,
            "layout": "IPY_MODEL_97c24796ccdd401893ec7cf7c10f0f68",
            "placeholder": "​",
            "style": "IPY_MODEL_b61c42d79a834103a13f40490424a561",
            "value": " 1/1 [00:00&lt;00:00, 17.14obj/s]"
          }
        },
        "2955efd4aab14d88afc7900242d7252a": {
          "model_module": "@jupyter-widgets/controls",
          "model_module_version": "1.5.0",
          "model_name": "HTMLModel",
          "state": {
            "_dom_classes": [],
            "_model_module": "@jupyter-widgets/controls",
            "_model_module_version": "1.5.0",
            "_model_name": "HTMLModel",
            "_view_count": null,
            "_view_module": "@jupyter-widgets/controls",
            "_view_module_version": "1.5.0",
            "_view_name": "HTMLView",
            "description": "",
            "description_tooltip": null,
            "layout": "IPY_MODEL_f3e3e8182726486485d212ec151a06ca",
            "placeholder": "​",
            "style": "IPY_MODEL_1d52d897558448e086a874d7d9608bbf",
            "value": "Generating test split: "
          }
        },
        "2c10440487554a10a8f5d88992a23716": {
          "model_module": "@jupyter-widgets/base",
          "model_module_version": "1.2.0",
          "model_name": "LayoutModel",
          "state": {
            "_model_module": "@jupyter-widgets/base",
            "_model_module_version": "1.2.0",
            "_model_name": "LayoutModel",
            "_view_count": null,
            "_view_module": "@jupyter-widgets/base",
            "_view_module_version": "1.2.0",
            "_view_name": "LayoutView",
            "align_content": null,
            "align_items": null,
            "align_self": null,
            "border": null,
            "bottom": null,
            "display": null,
            "flex": null,
            "flex_flow": null,
            "grid_area": null,
            "grid_auto_columns": null,
            "grid_auto_flow": null,
            "grid_auto_rows": null,
            "grid_column": null,
            "grid_gap": null,
            "grid_row": null,
            "grid_template_areas": null,
            "grid_template_columns": null,
            "grid_template_rows": null,
            "height": null,
            "justify_content": null,
            "justify_items": null,
            "left": null,
            "margin": null,
            "max_height": null,
            "max_width": null,
            "min_height": null,
            "min_width": null,
            "object_fit": null,
            "object_position": null,
            "order": null,
            "overflow": null,
            "overflow_x": null,
            "overflow_y": null,
            "padding": null,
            "right": null,
            "top": null,
            "visibility": null,
            "width": "20px"
          }
        },
        "2c6ce4f87ce0430d985b2115f99dac3b": {
          "model_module": "@jupyter-widgets/controls",
          "model_module_version": "1.5.0",
          "model_name": "DescriptionStyleModel",
          "state": {
            "_model_module": "@jupyter-widgets/controls",
            "_model_module_version": "1.5.0",
            "_model_name": "DescriptionStyleModel",
            "_view_count": null,
            "_view_module": "@jupyter-widgets/base",
            "_view_module_version": "1.2.0",
            "_view_name": "StyleView",
            "description_width": ""
          }
        },
        "2e66b60edf9f4661a87c707f2c7c9342": {
          "model_module": "@jupyter-widgets/controls",
          "model_module_version": "1.5.0",
          "model_name": "DescriptionStyleModel",
          "state": {
            "_model_module": "@jupyter-widgets/controls",
            "_model_module_version": "1.5.0",
            "_model_name": "DescriptionStyleModel",
            "_view_count": null,
            "_view_module": "@jupyter-widgets/base",
            "_view_module_version": "1.2.0",
            "_view_name": "StyleView",
            "description_width": ""
          }
        },
        "32a3ac1f094f453f859bca10abfea918": {
          "model_module": "@jupyter-widgets/base",
          "model_module_version": "1.2.0",
          "model_name": "LayoutModel",
          "state": {
            "_model_module": "@jupyter-widgets/base",
            "_model_module_version": "1.2.0",
            "_model_name": "LayoutModel",
            "_view_count": null,
            "_view_module": "@jupyter-widgets/base",
            "_view_module_version": "1.2.0",
            "_view_name": "LayoutView",
            "align_content": null,
            "align_items": null,
            "align_self": null,
            "border": null,
            "bottom": null,
            "display": null,
            "flex": null,
            "flex_flow": null,
            "grid_area": null,
            "grid_auto_columns": null,
            "grid_auto_flow": null,
            "grid_auto_rows": null,
            "grid_column": null,
            "grid_gap": null,
            "grid_row": null,
            "grid_template_areas": null,
            "grid_template_columns": null,
            "grid_template_rows": null,
            "height": null,
            "justify_content": null,
            "justify_items": null,
            "left": null,
            "margin": null,
            "max_height": null,
            "max_width": null,
            "min_height": null,
            "min_width": null,
            "object_fit": null,
            "object_position": null,
            "order": null,
            "overflow": null,
            "overflow_x": null,
            "overflow_y": null,
            "padding": null,
            "right": null,
            "top": null,
            "visibility": null,
            "width": null
          }
        },
        "33a5b8ec384b4046974b95647ad5d52f": {
          "model_module": "@jupyter-widgets/controls",
          "model_module_version": "1.5.0",
          "model_name": "DescriptionStyleModel",
          "state": {
            "_model_module": "@jupyter-widgets/controls",
            "_model_module_version": "1.5.0",
            "_model_name": "DescriptionStyleModel",
            "_view_count": null,
            "_view_module": "@jupyter-widgets/base",
            "_view_module_version": "1.2.0",
            "_view_name": "StyleView",
            "description_width": ""
          }
        },
        "365532b9f8d94da4a28785533bb40931": {
          "model_module": "@jupyter-widgets/controls",
          "model_module_version": "1.5.0",
          "model_name": "ProgressStyleModel",
          "state": {
            "_model_module": "@jupyter-widgets/controls",
            "_model_module_version": "1.5.0",
            "_model_name": "ProgressStyleModel",
            "_view_count": null,
            "_view_module": "@jupyter-widgets/base",
            "_view_module_version": "1.2.0",
            "_view_name": "StyleView",
            "bar_color": null,
            "description_width": ""
          }
        },
        "39024b5df3294b4999060aa691e2aa99": {
          "model_module": "@jupyter-widgets/controls",
          "model_module_version": "1.5.0",
          "model_name": "DescriptionStyleModel",
          "state": {
            "_model_module": "@jupyter-widgets/controls",
            "_model_module_version": "1.5.0",
            "_model_name": "DescriptionStyleModel",
            "_view_count": null,
            "_view_module": "@jupyter-widgets/base",
            "_view_module_version": "1.2.0",
            "_view_name": "StyleView",
            "description_width": ""
          }
        },
        "3e439e9d299f4a91978fb27d20e21569": {
          "model_module": "@jupyter-widgets/base",
          "model_module_version": "1.2.0",
          "model_name": "LayoutModel",
          "state": {
            "_model_module": "@jupyter-widgets/base",
            "_model_module_version": "1.2.0",
            "_model_name": "LayoutModel",
            "_view_count": null,
            "_view_module": "@jupyter-widgets/base",
            "_view_module_version": "1.2.0",
            "_view_name": "LayoutView",
            "align_content": null,
            "align_items": null,
            "align_self": null,
            "border": null,
            "bottom": null,
            "display": null,
            "flex": null,
            "flex_flow": null,
            "grid_area": null,
            "grid_auto_columns": null,
            "grid_auto_flow": null,
            "grid_auto_rows": null,
            "grid_column": null,
            "grid_gap": null,
            "grid_row": null,
            "grid_template_areas": null,
            "grid_template_columns": null,
            "grid_template_rows": null,
            "height": null,
            "justify_content": null,
            "justify_items": null,
            "left": null,
            "margin": null,
            "max_height": null,
            "max_width": null,
            "min_height": null,
            "min_width": null,
            "object_fit": null,
            "object_position": null,
            "order": null,
            "overflow": null,
            "overflow_x": null,
            "overflow_y": null,
            "padding": null,
            "right": null,
            "top": null,
            "visibility": "hidden",
            "width": null
          }
        },
        "43ccdbb4303c4cb790a1cf16902762f7": {
          "model_module": "@jupyter-widgets/controls",
          "model_module_version": "1.5.0",
          "model_name": "HTMLModel",
          "state": {
            "_dom_classes": [],
            "_model_module": "@jupyter-widgets/controls",
            "_model_module_version": "1.5.0",
            "_model_name": "HTMLModel",
            "_view_count": null,
            "_view_module": "@jupyter-widgets/controls",
            "_view_module_version": "1.5.0",
            "_view_name": "HTMLView",
            "description": "",
            "description_tooltip": null,
            "layout": "IPY_MODEL_bee782a8974c4d00b29e4d461ab17682",
            "placeholder": "​",
            "style": "IPY_MODEL_4ffaa57a924c4804984e8aaa8c68bde4",
            "value": "100%"
          }
        },
        "4409856a948b47a5ad07b56f6c28ffb4": {
          "model_module": "@jupyter-widgets/base",
          "model_module_version": "1.2.0",
          "model_name": "LayoutModel",
          "state": {
            "_model_module": "@jupyter-widgets/base",
            "_model_module_version": "1.2.0",
            "_model_name": "LayoutModel",
            "_view_count": null,
            "_view_module": "@jupyter-widgets/base",
            "_view_module_version": "1.2.0",
            "_view_name": "LayoutView",
            "align_content": null,
            "align_items": null,
            "align_self": null,
            "border": null,
            "bottom": null,
            "display": null,
            "flex": null,
            "flex_flow": null,
            "grid_area": null,
            "grid_auto_columns": null,
            "grid_auto_flow": null,
            "grid_auto_rows": null,
            "grid_column": null,
            "grid_gap": null,
            "grid_row": null,
            "grid_template_areas": null,
            "grid_template_columns": null,
            "grid_template_rows": null,
            "height": null,
            "justify_content": null,
            "justify_items": null,
            "left": null,
            "margin": null,
            "max_height": null,
            "max_width": null,
            "min_height": null,
            "min_width": null,
            "object_fit": null,
            "object_position": null,
            "order": null,
            "overflow": null,
            "overflow_x": null,
            "overflow_y": null,
            "padding": null,
            "right": null,
            "top": null,
            "visibility": null,
            "width": null
          }
        },
        "48a4697aea3e4e02b556d79c4e9079f9": {
          "model_module": "@jupyter-widgets/base",
          "model_module_version": "1.2.0",
          "model_name": "LayoutModel",
          "state": {
            "_model_module": "@jupyter-widgets/base",
            "_model_module_version": "1.2.0",
            "_model_name": "LayoutModel",
            "_view_count": null,
            "_view_module": "@jupyter-widgets/base",
            "_view_module_version": "1.2.0",
            "_view_name": "LayoutView",
            "align_content": null,
            "align_items": null,
            "align_self": null,
            "border": null,
            "bottom": null,
            "display": null,
            "flex": null,
            "flex_flow": null,
            "grid_area": null,
            "grid_auto_columns": null,
            "grid_auto_flow": null,
            "grid_auto_rows": null,
            "grid_column": null,
            "grid_gap": null,
            "grid_row": null,
            "grid_template_areas": null,
            "grid_template_columns": null,
            "grid_template_rows": null,
            "height": null,
            "justify_content": null,
            "justify_items": null,
            "left": null,
            "margin": null,
            "max_height": null,
            "max_width": null,
            "min_height": null,
            "min_width": null,
            "object_fit": null,
            "object_position": null,
            "order": null,
            "overflow": null,
            "overflow_x": null,
            "overflow_y": null,
            "padding": null,
            "right": null,
            "top": null,
            "visibility": null,
            "width": null
          }
        },
        "4ebe7d09b40e4e43a51e896ccf9d02ad": {
          "model_module": "@jupyter-widgets/controls",
          "model_module_version": "1.5.0",
          "model_name": "HTMLModel",
          "state": {
            "_dom_classes": [],
            "_model_module": "@jupyter-widgets/controls",
            "_model_module_version": "1.5.0",
            "_model_name": "HTMLModel",
            "_view_count": null,
            "_view_module": "@jupyter-widgets/controls",
            "_view_module_version": "1.5.0",
            "_view_name": "HTMLView",
            "description": "",
            "description_tooltip": null,
            "layout": "IPY_MODEL_18550d7879bb4462b8e3f52e2be4ada2",
            "placeholder": "​",
            "style": "IPY_MODEL_33a5b8ec384b4046974b95647ad5d52f",
            "value": "Extracting data files #1: 100%"
          }
        },
        "4ffaa57a924c4804984e8aaa8c68bde4": {
          "model_module": "@jupyter-widgets/controls",
          "model_module_version": "1.5.0",
          "model_name": "DescriptionStyleModel",
          "state": {
            "_model_module": "@jupyter-widgets/controls",
            "_model_module_version": "1.5.0",
            "_model_name": "DescriptionStyleModel",
            "_view_count": null,
            "_view_module": "@jupyter-widgets/base",
            "_view_module_version": "1.2.0",
            "_view_name": "StyleView",
            "description_width": ""
          }
        },
        "514174d90a1d49d0b49600dd620b31dc": {
          "model_module": "@jupyter-widgets/controls",
          "model_module_version": "1.5.0",
          "model_name": "FloatProgressModel",
          "state": {
            "_dom_classes": [],
            "_model_module": "@jupyter-widgets/controls",
            "_model_module_version": "1.5.0",
            "_model_name": "FloatProgressModel",
            "_view_count": null,
            "_view_module": "@jupyter-widgets/controls",
            "_view_module_version": "1.5.0",
            "_view_name": "ProgressView",
            "bar_style": "success",
            "description": "",
            "description_tooltip": null,
            "layout": "IPY_MODEL_0f5dc777ccaf43028cc581c7523b5d76",
            "max": 3000,
            "min": 0,
            "orientation": "horizontal",
            "style": "IPY_MODEL_afcd8bf4793649d8a7330cc272c064c9",
            "value": 3000
          }
        },
        "51b431893acb4fb797c8cf344c5cb9fb": {
          "model_module": "@jupyter-widgets/base",
          "model_module_version": "1.2.0",
          "model_name": "LayoutModel",
          "state": {
            "_model_module": "@jupyter-widgets/base",
            "_model_module_version": "1.2.0",
            "_model_name": "LayoutModel",
            "_view_count": null,
            "_view_module": "@jupyter-widgets/base",
            "_view_module_version": "1.2.0",
            "_view_name": "LayoutView",
            "align_content": null,
            "align_items": null,
            "align_self": null,
            "border": null,
            "bottom": null,
            "display": null,
            "flex": null,
            "flex_flow": null,
            "grid_area": null,
            "grid_auto_columns": null,
            "grid_auto_flow": null,
            "grid_auto_rows": null,
            "grid_column": null,
            "grid_gap": null,
            "grid_row": null,
            "grid_template_areas": null,
            "grid_template_columns": null,
            "grid_template_rows": null,
            "height": null,
            "justify_content": null,
            "justify_items": null,
            "left": null,
            "margin": null,
            "max_height": null,
            "max_width": null,
            "min_height": null,
            "min_width": null,
            "object_fit": null,
            "object_position": null,
            "order": null,
            "overflow": null,
            "overflow_x": null,
            "overflow_y": null,
            "padding": null,
            "right": null,
            "top": null,
            "visibility": null,
            "width": null
          }
        },
        "52a3bccc28324a50823d1ea2286d2bf2": {
          "model_module": "@jupyter-widgets/controls",
          "model_module_version": "1.5.0",
          "model_name": "HTMLModel",
          "state": {
            "_dom_classes": [],
            "_model_module": "@jupyter-widgets/controls",
            "_model_module_version": "1.5.0",
            "_model_name": "HTMLModel",
            "_view_count": null,
            "_view_module": "@jupyter-widgets/controls",
            "_view_module_version": "1.5.0",
            "_view_name": "HTMLView",
            "description": "",
            "description_tooltip": null,
            "layout": "IPY_MODEL_571870d7f4544230be36e07b949312c0",
            "placeholder": "​",
            "style": "IPY_MODEL_e4505d79282e42428cf963f6cb911a6f",
            "value": " 2/2 [00:00&lt;00:00, 68.64it/s]"
          }
        },
        "571870d7f4544230be36e07b949312c0": {
          "model_module": "@jupyter-widgets/base",
          "model_module_version": "1.2.0",
          "model_name": "LayoutModel",
          "state": {
            "_model_module": "@jupyter-widgets/base",
            "_model_module_version": "1.2.0",
            "_model_name": "LayoutModel",
            "_view_count": null,
            "_view_module": "@jupyter-widgets/base",
            "_view_module_version": "1.2.0",
            "_view_name": "LayoutView",
            "align_content": null,
            "align_items": null,
            "align_self": null,
            "border": null,
            "bottom": null,
            "display": null,
            "flex": null,
            "flex_flow": null,
            "grid_area": null,
            "grid_auto_columns": null,
            "grid_auto_flow": null,
            "grid_auto_rows": null,
            "grid_column": null,
            "grid_gap": null,
            "grid_row": null,
            "grid_template_areas": null,
            "grid_template_columns": null,
            "grid_template_rows": null,
            "height": null,
            "justify_content": null,
            "justify_items": null,
            "left": null,
            "margin": null,
            "max_height": null,
            "max_width": null,
            "min_height": null,
            "min_width": null,
            "object_fit": null,
            "object_position": null,
            "order": null,
            "overflow": null,
            "overflow_x": null,
            "overflow_y": null,
            "padding": null,
            "right": null,
            "top": null,
            "visibility": null,
            "width": null
          }
        },
        "5c2465e86891431abd4be9d63fc2f8c2": {
          "model_module": "@jupyter-widgets/controls",
          "model_module_version": "1.5.0",
          "model_name": "HTMLModel",
          "state": {
            "_dom_classes": [],
            "_model_module": "@jupyter-widgets/controls",
            "_model_module_version": "1.5.0",
            "_model_name": "HTMLModel",
            "_view_count": null,
            "_view_module": "@jupyter-widgets/controls",
            "_view_module_version": "1.5.0",
            "_view_name": "HTMLView",
            "description": "",
            "description_tooltip": null,
            "layout": "IPY_MODEL_48a4697aea3e4e02b556d79c4e9079f9",
            "placeholder": "​",
            "style": "IPY_MODEL_a240f005f96f4fb68ca9d70f2f786365",
            "value": "Downloading data files: 100%"
          }
        },
        "61ca7e6451a74f5982868463559b0e51": {
          "model_module": "@jupyter-widgets/controls",
          "model_module_version": "1.5.0",
          "model_name": "HTMLModel",
          "state": {
            "_dom_classes": [],
            "_model_module": "@jupyter-widgets/controls",
            "_model_module_version": "1.5.0",
            "_model_name": "HTMLModel",
            "_view_count": null,
            "_view_module": "@jupyter-widgets/controls",
            "_view_module_version": "1.5.0",
            "_view_name": "HTMLView",
            "description": "",
            "description_tooltip": null,
            "layout": "IPY_MODEL_b2e0977ee1414743b0c1ea5d6f49548b",
            "placeholder": "​",
            "style": "IPY_MODEL_74844fb85652457cbc52cb953b7f3048",
            "value": "100%"
          }
        },
        "61dc41c16baa430f9810c6590dcfd2ae": {
          "model_module": "@jupyter-widgets/controls",
          "model_module_version": "1.5.0",
          "model_name": "HTMLModel",
          "state": {
            "_dom_classes": [],
            "_model_module": "@jupyter-widgets/controls",
            "_model_module_version": "1.5.0",
            "_model_name": "HTMLModel",
            "_view_count": null,
            "_view_module": "@jupyter-widgets/controls",
            "_view_module_version": "1.5.0",
            "_view_name": "HTMLView",
            "description": "",
            "description_tooltip": null,
            "layout": "IPY_MODEL_c0f1fd27d10f46d78c5e7e716ba77cea",
            "placeholder": "​",
            "style": "IPY_MODEL_b0c8b0936ac840e9b1805114e12f9df1",
            "value": "Extracting data files #0: 100%"
          }
        },
        "631546116fa5444d81a19cc19a77466a": {
          "model_module": "@jupyter-widgets/controls",
          "model_module_version": "1.5.0",
          "model_name": "HBoxModel",
          "state": {
            "_dom_classes": [],
            "_model_module": "@jupyter-widgets/controls",
            "_model_module_version": "1.5.0",
            "_model_name": "HBoxModel",
            "_view_count": null,
            "_view_module": "@jupyter-widgets/controls",
            "_view_module_version": "1.5.0",
            "_view_name": "HBoxView",
            "box_style": "",
            "children": [
              "IPY_MODEL_61dc41c16baa430f9810c6590dcfd2ae",
              "IPY_MODEL_073233cff319477d81e82bdc0732b3fd",
              "IPY_MODEL_26adb007d2ff46aa9bf118f80a43cb5d"
            ],
            "layout": "IPY_MODEL_32a3ac1f094f453f859bca10abfea918"
          }
        },
        "711ed2c20cb345e3a10f1f8da8db7275": {
          "model_module": "@jupyter-widgets/controls",
          "model_module_version": "1.5.0",
          "model_name": "HBoxModel",
          "state": {
            "_dom_classes": [],
            "_model_module": "@jupyter-widgets/controls",
            "_model_module_version": "1.5.0",
            "_model_name": "HBoxModel",
            "_view_count": null,
            "_view_module": "@jupyter-widgets/controls",
            "_view_module_version": "1.5.0",
            "_view_name": "HBoxView",
            "box_style": "",
            "children": [
              "IPY_MODEL_61ca7e6451a74f5982868463559b0e51",
              "IPY_MODEL_514174d90a1d49d0b49600dd620b31dc",
              "IPY_MODEL_9a33719e3b4947b0a14848bb4e029c6d"
            ],
            "layout": "IPY_MODEL_799ca3835f294b7784f1a6e2def24942"
          }
        },
        "7155c4ecea814aabadbb252e37c0b2f3": {
          "model_module": "@jupyter-widgets/controls",
          "model_module_version": "1.5.0",
          "model_name": "HBoxModel",
          "state": {
            "_dom_classes": [],
            "_model_module": "@jupyter-widgets/controls",
            "_model_module_version": "1.5.0",
            "_model_name": "HBoxModel",
            "_view_count": null,
            "_view_module": "@jupyter-widgets/controls",
            "_view_module_version": "1.5.0",
            "_view_name": "HBoxView",
            "box_style": "",
            "children": [
              "IPY_MODEL_4ebe7d09b40e4e43a51e896ccf9d02ad",
              "IPY_MODEL_d05038cd26fc4ec2af535a7d7e217736",
              "IPY_MODEL_cc412b033bfd4473b0cffed03be6bb13"
            ],
            "layout": "IPY_MODEL_1c1caeb4a9b64dc0a6b3f73034ef5134"
          }
        },
        "74844fb85652457cbc52cb953b7f3048": {
          "model_module": "@jupyter-widgets/controls",
          "model_module_version": "1.5.0",
          "model_name": "DescriptionStyleModel",
          "state": {
            "_model_module": "@jupyter-widgets/controls",
            "_model_module_version": "1.5.0",
            "_model_name": "DescriptionStyleModel",
            "_view_count": null,
            "_view_module": "@jupyter-widgets/base",
            "_view_module_version": "1.2.0",
            "_view_name": "StyleView",
            "description_width": ""
          }
        },
        "770024dca0284a85b522c38f63816653": {
          "model_module": "@jupyter-widgets/controls",
          "model_module_version": "1.5.0",
          "model_name": "DescriptionStyleModel",
          "state": {
            "_model_module": "@jupyter-widgets/controls",
            "_model_module_version": "1.5.0",
            "_model_name": "DescriptionStyleModel",
            "_view_count": null,
            "_view_module": "@jupyter-widgets/base",
            "_view_module_version": "1.2.0",
            "_view_name": "StyleView",
            "description_width": ""
          }
        },
        "77808d30a9af41bca98e44a239ffc1be": {
          "model_module": "@jupyter-widgets/base",
          "model_module_version": "1.2.0",
          "model_name": "LayoutModel",
          "state": {
            "_model_module": "@jupyter-widgets/base",
            "_model_module_version": "1.2.0",
            "_model_name": "LayoutModel",
            "_view_count": null,
            "_view_module": "@jupyter-widgets/base",
            "_view_module_version": "1.2.0",
            "_view_name": "LayoutView",
            "align_content": null,
            "align_items": null,
            "align_self": null,
            "border": null,
            "bottom": null,
            "display": null,
            "flex": null,
            "flex_flow": null,
            "grid_area": null,
            "grid_auto_columns": null,
            "grid_auto_flow": null,
            "grid_auto_rows": null,
            "grid_column": null,
            "grid_gap": null,
            "grid_row": null,
            "grid_template_areas": null,
            "grid_template_columns": null,
            "grid_template_rows": null,
            "height": null,
            "justify_content": null,
            "justify_items": null,
            "left": null,
            "margin": null,
            "max_height": null,
            "max_width": null,
            "min_height": null,
            "min_width": null,
            "object_fit": null,
            "object_position": null,
            "order": null,
            "overflow": null,
            "overflow_x": null,
            "overflow_y": null,
            "padding": null,
            "right": null,
            "top": null,
            "visibility": null,
            "width": null
          }
        },
        "799ca3835f294b7784f1a6e2def24942": {
          "model_module": "@jupyter-widgets/base",
          "model_module_version": "1.2.0",
          "model_name": "LayoutModel",
          "state": {
            "_model_module": "@jupyter-widgets/base",
            "_model_module_version": "1.2.0",
            "_model_name": "LayoutModel",
            "_view_count": null,
            "_view_module": "@jupyter-widgets/base",
            "_view_module_version": "1.2.0",
            "_view_name": "LayoutView",
            "align_content": null,
            "align_items": null,
            "align_self": null,
            "border": null,
            "bottom": null,
            "display": null,
            "flex": null,
            "flex_flow": null,
            "grid_area": null,
            "grid_auto_columns": null,
            "grid_auto_flow": null,
            "grid_auto_rows": null,
            "grid_column": null,
            "grid_gap": null,
            "grid_row": null,
            "grid_template_areas": null,
            "grid_template_columns": null,
            "grid_template_rows": null,
            "height": null,
            "justify_content": null,
            "justify_items": null,
            "left": null,
            "margin": null,
            "max_height": null,
            "max_width": null,
            "min_height": null,
            "min_width": null,
            "object_fit": null,
            "object_position": null,
            "order": null,
            "overflow": null,
            "overflow_x": null,
            "overflow_y": null,
            "padding": null,
            "right": null,
            "top": null,
            "visibility": null,
            "width": null
          }
        },
        "7b5e76b0095645f08aaa5f23851125d6": {
          "model_module": "@jupyter-widgets/base",
          "model_module_version": "1.2.0",
          "model_name": "LayoutModel",
          "state": {
            "_model_module": "@jupyter-widgets/base",
            "_model_module_version": "1.2.0",
            "_model_name": "LayoutModel",
            "_view_count": null,
            "_view_module": "@jupyter-widgets/base",
            "_view_module_version": "1.2.0",
            "_view_name": "LayoutView",
            "align_content": null,
            "align_items": null,
            "align_self": null,
            "border": null,
            "bottom": null,
            "display": null,
            "flex": null,
            "flex_flow": null,
            "grid_area": null,
            "grid_auto_columns": null,
            "grid_auto_flow": null,
            "grid_auto_rows": null,
            "grid_column": null,
            "grid_gap": null,
            "grid_row": null,
            "grid_template_areas": null,
            "grid_template_columns": null,
            "grid_template_rows": null,
            "height": null,
            "justify_content": null,
            "justify_items": null,
            "left": null,
            "margin": null,
            "max_height": null,
            "max_width": null,
            "min_height": null,
            "min_width": null,
            "object_fit": null,
            "object_position": null,
            "order": null,
            "overflow": null,
            "overflow_x": null,
            "overflow_y": null,
            "padding": null,
            "right": null,
            "top": null,
            "visibility": null,
            "width": null
          }
        },
        "8429513ee87548f5b0b772b5e2461251": {
          "model_module": "@jupyter-widgets/controls",
          "model_module_version": "1.5.0",
          "model_name": "HBoxModel",
          "state": {
            "_dom_classes": [],
            "_model_module": "@jupyter-widgets/controls",
            "_model_module_version": "1.5.0",
            "_model_name": "HBoxModel",
            "_view_count": null,
            "_view_module": "@jupyter-widgets/controls",
            "_view_module_version": "1.5.0",
            "_view_name": "HBoxView",
            "box_style": "",
            "children": [
              "IPY_MODEL_1e94f0341eb04fc6ab7d89b4df4b3dad",
              "IPY_MODEL_960d659df8134c079471f4b5b0c7c30c",
              "IPY_MODEL_b82ba53053c8488eb6c073d81395b782"
            ],
            "layout": "IPY_MODEL_3e439e9d299f4a91978fb27d20e21569"
          }
        },
        "8a726e1ba71d4f8b9f7186a221ab1d63": {
          "model_module": "@jupyter-widgets/base",
          "model_module_version": "1.2.0",
          "model_name": "LayoutModel",
          "state": {
            "_model_module": "@jupyter-widgets/base",
            "_model_module_version": "1.2.0",
            "_model_name": "LayoutModel",
            "_view_count": null,
            "_view_module": "@jupyter-widgets/base",
            "_view_module_version": "1.2.0",
            "_view_name": "LayoutView",
            "align_content": null,
            "align_items": null,
            "align_self": null,
            "border": null,
            "bottom": null,
            "display": null,
            "flex": null,
            "flex_flow": null,
            "grid_area": null,
            "grid_auto_columns": null,
            "grid_auto_flow": null,
            "grid_auto_rows": null,
            "grid_column": null,
            "grid_gap": null,
            "grid_row": null,
            "grid_template_areas": null,
            "grid_template_columns": null,
            "grid_template_rows": null,
            "height": null,
            "justify_content": null,
            "justify_items": null,
            "left": null,
            "margin": null,
            "max_height": null,
            "max_width": null,
            "min_height": null,
            "min_width": null,
            "object_fit": null,
            "object_position": null,
            "order": null,
            "overflow": null,
            "overflow_x": null,
            "overflow_y": null,
            "padding": null,
            "right": null,
            "top": null,
            "visibility": null,
            "width": null
          }
        },
        "8a8438bc96ce40f096759f7d4f960b63": {
          "model_module": "@jupyter-widgets/controls",
          "model_module_version": "1.5.0",
          "model_name": "DescriptionStyleModel",
          "state": {
            "_model_module": "@jupyter-widgets/controls",
            "_model_module_version": "1.5.0",
            "_model_name": "DescriptionStyleModel",
            "_view_count": null,
            "_view_module": "@jupyter-widgets/base",
            "_view_module_version": "1.2.0",
            "_view_name": "StyleView",
            "description_width": ""
          }
        },
        "8c2291b6d848478bba32d4308c86c6d6": {
          "model_module": "@jupyter-widgets/controls",
          "model_module_version": "1.5.0",
          "model_name": "ProgressStyleModel",
          "state": {
            "_model_module": "@jupyter-widgets/controls",
            "_model_module_version": "1.5.0",
            "_model_name": "ProgressStyleModel",
            "_view_count": null,
            "_view_module": "@jupyter-widgets/base",
            "_view_module_version": "1.2.0",
            "_view_name": "StyleView",
            "bar_color": null,
            "description_width": ""
          }
        },
        "8f3591a3e339422886519d4c588bd328": {
          "model_module": "@jupyter-widgets/base",
          "model_module_version": "1.2.0",
          "model_name": "LayoutModel",
          "state": {
            "_model_module": "@jupyter-widgets/base",
            "_model_module_version": "1.2.0",
            "_model_name": "LayoutModel",
            "_view_count": null,
            "_view_module": "@jupyter-widgets/base",
            "_view_module_version": "1.2.0",
            "_view_name": "LayoutView",
            "align_content": null,
            "align_items": null,
            "align_self": null,
            "border": null,
            "bottom": null,
            "display": null,
            "flex": null,
            "flex_flow": null,
            "grid_area": null,
            "grid_auto_columns": null,
            "grid_auto_flow": null,
            "grid_auto_rows": null,
            "grid_column": null,
            "grid_gap": null,
            "grid_row": null,
            "grid_template_areas": null,
            "grid_template_columns": null,
            "grid_template_rows": null,
            "height": null,
            "justify_content": null,
            "justify_items": null,
            "left": null,
            "margin": null,
            "max_height": null,
            "max_width": null,
            "min_height": null,
            "min_width": null,
            "object_fit": null,
            "object_position": null,
            "order": null,
            "overflow": null,
            "overflow_x": null,
            "overflow_y": null,
            "padding": null,
            "right": null,
            "top": null,
            "visibility": null,
            "width": null
          }
        },
        "90568b581cbe4e8faddbe622e3d773eb": {
          "model_module": "@jupyter-widgets/base",
          "model_module_version": "1.2.0",
          "model_name": "LayoutModel",
          "state": {
            "_model_module": "@jupyter-widgets/base",
            "_model_module_version": "1.2.0",
            "_model_name": "LayoutModel",
            "_view_count": null,
            "_view_module": "@jupyter-widgets/base",
            "_view_module_version": "1.2.0",
            "_view_name": "LayoutView",
            "align_content": null,
            "align_items": null,
            "align_self": null,
            "border": null,
            "bottom": null,
            "display": null,
            "flex": null,
            "flex_flow": null,
            "grid_area": null,
            "grid_auto_columns": null,
            "grid_auto_flow": null,
            "grid_auto_rows": null,
            "grid_column": null,
            "grid_gap": null,
            "grid_row": null,
            "grid_template_areas": null,
            "grid_template_columns": null,
            "grid_template_rows": null,
            "height": null,
            "justify_content": null,
            "justify_items": null,
            "left": null,
            "margin": null,
            "max_height": null,
            "max_width": null,
            "min_height": null,
            "min_width": null,
            "object_fit": null,
            "object_position": null,
            "order": null,
            "overflow": null,
            "overflow_x": null,
            "overflow_y": null,
            "padding": null,
            "right": null,
            "top": null,
            "visibility": null,
            "width": null
          }
        },
        "91014d9d742043d6a713b428ef98f658": {
          "model_module": "@jupyter-widgets/base",
          "model_module_version": "1.2.0",
          "model_name": "LayoutModel",
          "state": {
            "_model_module": "@jupyter-widgets/base",
            "_model_module_version": "1.2.0",
            "_model_name": "LayoutModel",
            "_view_count": null,
            "_view_module": "@jupyter-widgets/base",
            "_view_module_version": "1.2.0",
            "_view_name": "LayoutView",
            "align_content": null,
            "align_items": null,
            "align_self": null,
            "border": null,
            "bottom": null,
            "display": null,
            "flex": null,
            "flex_flow": null,
            "grid_area": null,
            "grid_auto_columns": null,
            "grid_auto_flow": null,
            "grid_auto_rows": null,
            "grid_column": null,
            "grid_gap": null,
            "grid_row": null,
            "grid_template_areas": null,
            "grid_template_columns": null,
            "grid_template_rows": null,
            "height": null,
            "justify_content": null,
            "justify_items": null,
            "left": null,
            "margin": null,
            "max_height": null,
            "max_width": null,
            "min_height": null,
            "min_width": null,
            "object_fit": null,
            "object_position": null,
            "order": null,
            "overflow": null,
            "overflow_x": null,
            "overflow_y": null,
            "padding": null,
            "right": null,
            "top": null,
            "visibility": null,
            "width": null
          }
        },
        "960d659df8134c079471f4b5b0c7c30c": {
          "model_module": "@jupyter-widgets/controls",
          "model_module_version": "1.5.0",
          "model_name": "FloatProgressModel",
          "state": {
            "_dom_classes": [],
            "_model_module": "@jupyter-widgets/controls",
            "_model_module_version": "1.5.0",
            "_model_name": "FloatProgressModel",
            "_view_count": null,
            "_view_module": "@jupyter-widgets/controls",
            "_view_module_version": "1.5.0",
            "_view_name": "ProgressView",
            "bar_style": "info",
            "description": "",
            "description_tooltip": null,
            "layout": "IPY_MODEL_2c10440487554a10a8f5d88992a23716",
            "max": 1,
            "min": 0,
            "orientation": "horizontal",
            "style": "IPY_MODEL_8c2291b6d848478bba32d4308c86c6d6",
            "value": 1
          }
        },
        "9620806a7b2945dbbfbf39594cd8f6f8": {
          "model_module": "@jupyter-widgets/base",
          "model_module_version": "1.2.0",
          "model_name": "LayoutModel",
          "state": {
            "_model_module": "@jupyter-widgets/base",
            "_model_module_version": "1.2.0",
            "_model_name": "LayoutModel",
            "_view_count": null,
            "_view_module": "@jupyter-widgets/base",
            "_view_module_version": "1.2.0",
            "_view_name": "LayoutView",
            "align_content": null,
            "align_items": null,
            "align_self": null,
            "border": null,
            "bottom": null,
            "display": null,
            "flex": null,
            "flex_flow": null,
            "grid_area": null,
            "grid_auto_columns": null,
            "grid_auto_flow": null,
            "grid_auto_rows": null,
            "grid_column": null,
            "grid_gap": null,
            "grid_row": null,
            "grid_template_areas": null,
            "grid_template_columns": null,
            "grid_template_rows": null,
            "height": null,
            "justify_content": null,
            "justify_items": null,
            "left": null,
            "margin": null,
            "max_height": null,
            "max_width": null,
            "min_height": null,
            "min_width": null,
            "object_fit": null,
            "object_position": null,
            "order": null,
            "overflow": null,
            "overflow_x": null,
            "overflow_y": null,
            "padding": null,
            "right": null,
            "top": null,
            "visibility": null,
            "width": null
          }
        },
        "9707e99c327e4b67871a5ea49e46e855": {
          "model_module": "@jupyter-widgets/base",
          "model_module_version": "1.2.0",
          "model_name": "LayoutModel",
          "state": {
            "_model_module": "@jupyter-widgets/base",
            "_model_module_version": "1.2.0",
            "_model_name": "LayoutModel",
            "_view_count": null,
            "_view_module": "@jupyter-widgets/base",
            "_view_module_version": "1.2.0",
            "_view_name": "LayoutView",
            "align_content": null,
            "align_items": null,
            "align_self": null,
            "border": null,
            "bottom": null,
            "display": null,
            "flex": null,
            "flex_flow": null,
            "grid_area": null,
            "grid_auto_columns": null,
            "grid_auto_flow": null,
            "grid_auto_rows": null,
            "grid_column": null,
            "grid_gap": null,
            "grid_row": null,
            "grid_template_areas": null,
            "grid_template_columns": null,
            "grid_template_rows": null,
            "height": null,
            "justify_content": null,
            "justify_items": null,
            "left": null,
            "margin": null,
            "max_height": null,
            "max_width": null,
            "min_height": null,
            "min_width": null,
            "object_fit": null,
            "object_position": null,
            "order": null,
            "overflow": null,
            "overflow_x": null,
            "overflow_y": null,
            "padding": null,
            "right": null,
            "top": null,
            "visibility": null,
            "width": null
          }
        },
        "97c24796ccdd401893ec7cf7c10f0f68": {
          "model_module": "@jupyter-widgets/base",
          "model_module_version": "1.2.0",
          "model_name": "LayoutModel",
          "state": {
            "_model_module": "@jupyter-widgets/base",
            "_model_module_version": "1.2.0",
            "_model_name": "LayoutModel",
            "_view_count": null,
            "_view_module": "@jupyter-widgets/base",
            "_view_module_version": "1.2.0",
            "_view_name": "LayoutView",
            "align_content": null,
            "align_items": null,
            "align_self": null,
            "border": null,
            "bottom": null,
            "display": null,
            "flex": null,
            "flex_flow": null,
            "grid_area": null,
            "grid_auto_columns": null,
            "grid_auto_flow": null,
            "grid_auto_rows": null,
            "grid_column": null,
            "grid_gap": null,
            "grid_row": null,
            "grid_template_areas": null,
            "grid_template_columns": null,
            "grid_template_rows": null,
            "height": null,
            "justify_content": null,
            "justify_items": null,
            "left": null,
            "margin": null,
            "max_height": null,
            "max_width": null,
            "min_height": null,
            "min_width": null,
            "object_fit": null,
            "object_position": null,
            "order": null,
            "overflow": null,
            "overflow_x": null,
            "overflow_y": null,
            "padding": null,
            "right": null,
            "top": null,
            "visibility": null,
            "width": null
          }
        },
        "99f1033366614884b36654ca7e7031e3": {
          "model_module": "@jupyter-widgets/base",
          "model_module_version": "1.2.0",
          "model_name": "LayoutModel",
          "state": {
            "_model_module": "@jupyter-widgets/base",
            "_model_module_version": "1.2.0",
            "_model_name": "LayoutModel",
            "_view_count": null,
            "_view_module": "@jupyter-widgets/base",
            "_view_module_version": "1.2.0",
            "_view_name": "LayoutView",
            "align_content": null,
            "align_items": null,
            "align_self": null,
            "border": null,
            "bottom": null,
            "display": null,
            "flex": null,
            "flex_flow": null,
            "grid_area": null,
            "grid_auto_columns": null,
            "grid_auto_flow": null,
            "grid_auto_rows": null,
            "grid_column": null,
            "grid_gap": null,
            "grid_row": null,
            "grid_template_areas": null,
            "grid_template_columns": null,
            "grid_template_rows": null,
            "height": null,
            "justify_content": null,
            "justify_items": null,
            "left": null,
            "margin": null,
            "max_height": null,
            "max_width": null,
            "min_height": null,
            "min_width": null,
            "object_fit": null,
            "object_position": null,
            "order": null,
            "overflow": null,
            "overflow_x": null,
            "overflow_y": null,
            "padding": null,
            "right": null,
            "top": null,
            "visibility": null,
            "width": null
          }
        },
        "9a33719e3b4947b0a14848bb4e029c6d": {
          "model_module": "@jupyter-widgets/controls",
          "model_module_version": "1.5.0",
          "model_name": "HTMLModel",
          "state": {
            "_dom_classes": [],
            "_model_module": "@jupyter-widgets/controls",
            "_model_module_version": "1.5.0",
            "_model_name": "HTMLModel",
            "_view_count": null,
            "_view_module": "@jupyter-widgets/controls",
            "_view_module_version": "1.5.0",
            "_view_name": "HTMLView",
            "description": "",
            "description_tooltip": null,
            "layout": "IPY_MODEL_c1760709711144b685b94242e309182c",
            "placeholder": "​",
            "style": "IPY_MODEL_39024b5df3294b4999060aa691e2aa99",
            "value": " 3000/3000 [00:02&lt;00:00, 1164.43ex/s]"
          }
        },
        "a240f005f96f4fb68ca9d70f2f786365": {
          "model_module": "@jupyter-widgets/controls",
          "model_module_version": "1.5.0",
          "model_name": "DescriptionStyleModel",
          "state": {
            "_model_module": "@jupyter-widgets/controls",
            "_model_module_version": "1.5.0",
            "_model_name": "DescriptionStyleModel",
            "_view_count": null,
            "_view_module": "@jupyter-widgets/base",
            "_view_module_version": "1.2.0",
            "_view_name": "StyleView",
            "description_width": ""
          }
        },
        "a3373573482f416680bef1cea0cd8d39": {
          "model_module": "@jupyter-widgets/controls",
          "model_module_version": "1.5.0",
          "model_name": "ProgressStyleModel",
          "state": {
            "_model_module": "@jupyter-widgets/controls",
            "_model_module_version": "1.5.0",
            "_model_name": "ProgressStyleModel",
            "_view_count": null,
            "_view_module": "@jupyter-widgets/base",
            "_view_module_version": "1.2.0",
            "_view_name": "StyleView",
            "bar_color": null,
            "description_width": ""
          }
        },
        "a736c635fb0d4aaba167d20c1899641a": {
          "model_module": "@jupyter-widgets/controls",
          "model_module_version": "1.5.0",
          "model_name": "DescriptionStyleModel",
          "state": {
            "_model_module": "@jupyter-widgets/controls",
            "_model_module_version": "1.5.0",
            "_model_name": "DescriptionStyleModel",
            "_view_count": null,
            "_view_module": "@jupyter-widgets/base",
            "_view_module_version": "1.2.0",
            "_view_name": "StyleView",
            "description_width": ""
          }
        },
        "afcd8bf4793649d8a7330cc272c064c9": {
          "model_module": "@jupyter-widgets/controls",
          "model_module_version": "1.5.0",
          "model_name": "ProgressStyleModel",
          "state": {
            "_model_module": "@jupyter-widgets/controls",
            "_model_module_version": "1.5.0",
            "_model_name": "ProgressStyleModel",
            "_view_count": null,
            "_view_module": "@jupyter-widgets/base",
            "_view_module_version": "1.2.0",
            "_view_name": "StyleView",
            "bar_color": null,
            "description_width": ""
          }
        },
        "b0c8b0936ac840e9b1805114e12f9df1": {
          "model_module": "@jupyter-widgets/controls",
          "model_module_version": "1.5.0",
          "model_name": "DescriptionStyleModel",
          "state": {
            "_model_module": "@jupyter-widgets/controls",
            "_model_module_version": "1.5.0",
            "_model_name": "DescriptionStyleModel",
            "_view_count": null,
            "_view_module": "@jupyter-widgets/base",
            "_view_module_version": "1.2.0",
            "_view_name": "StyleView",
            "description_width": ""
          }
        },
        "b2e0977ee1414743b0c1ea5d6f49548b": {
          "model_module": "@jupyter-widgets/base",
          "model_module_version": "1.2.0",
          "model_name": "LayoutModel",
          "state": {
            "_model_module": "@jupyter-widgets/base",
            "_model_module_version": "1.2.0",
            "_model_name": "LayoutModel",
            "_view_count": null,
            "_view_module": "@jupyter-widgets/base",
            "_view_module_version": "1.2.0",
            "_view_name": "LayoutView",
            "align_content": null,
            "align_items": null,
            "align_self": null,
            "border": null,
            "bottom": null,
            "display": null,
            "flex": null,
            "flex_flow": null,
            "grid_area": null,
            "grid_auto_columns": null,
            "grid_auto_flow": null,
            "grid_auto_rows": null,
            "grid_column": null,
            "grid_gap": null,
            "grid_row": null,
            "grid_template_areas": null,
            "grid_template_columns": null,
            "grid_template_rows": null,
            "height": null,
            "justify_content": null,
            "justify_items": null,
            "left": null,
            "margin": null,
            "max_height": null,
            "max_width": null,
            "min_height": null,
            "min_width": null,
            "object_fit": null,
            "object_position": null,
            "order": null,
            "overflow": null,
            "overflow_x": null,
            "overflow_y": null,
            "padding": null,
            "right": null,
            "top": null,
            "visibility": null,
            "width": null
          }
        },
        "b61c42d79a834103a13f40490424a561": {
          "model_module": "@jupyter-widgets/controls",
          "model_module_version": "1.5.0",
          "model_name": "DescriptionStyleModel",
          "state": {
            "_model_module": "@jupyter-widgets/controls",
            "_model_module_version": "1.5.0",
            "_model_name": "DescriptionStyleModel",
            "_view_count": null,
            "_view_module": "@jupyter-widgets/base",
            "_view_module_version": "1.2.0",
            "_view_name": "StyleView",
            "description_width": ""
          }
        },
        "b82ba53053c8488eb6c073d81395b782": {
          "model_module": "@jupyter-widgets/controls",
          "model_module_version": "1.5.0",
          "model_name": "HTMLModel",
          "state": {
            "_dom_classes": [],
            "_model_module": "@jupyter-widgets/controls",
            "_model_module_version": "1.5.0",
            "_model_name": "HTMLModel",
            "_view_count": null,
            "_view_module": "@jupyter-widgets/controls",
            "_view_module_version": "1.5.0",
            "_view_name": "HTMLView",
            "description": "",
            "description_tooltip": null,
            "layout": "IPY_MODEL_99f1033366614884b36654ca7e7031e3",
            "placeholder": "​",
            "style": "IPY_MODEL_ff6accca028b4e7396fb60b2d40107a3",
            "value": " 126682/0 [00:21&lt;00:00, 86450.75 examples/s]"
          }
        },
        "b8d5f59844dc4b6a8419f781c4a82d49": {
          "model_module": "@jupyter-widgets/base",
          "model_module_version": "1.2.0",
          "model_name": "LayoutModel",
          "state": {
            "_model_module": "@jupyter-widgets/base",
            "_model_module_version": "1.2.0",
            "_model_name": "LayoutModel",
            "_view_count": null,
            "_view_module": "@jupyter-widgets/base",
            "_view_module_version": "1.2.0",
            "_view_name": "LayoutView",
            "align_content": null,
            "align_items": null,
            "align_self": null,
            "border": null,
            "bottom": null,
            "display": null,
            "flex": null,
            "flex_flow": null,
            "grid_area": null,
            "grid_auto_columns": null,
            "grid_auto_flow": null,
            "grid_auto_rows": null,
            "grid_column": null,
            "grid_gap": null,
            "grid_row": null,
            "grid_template_areas": null,
            "grid_template_columns": null,
            "grid_template_rows": null,
            "height": null,
            "justify_content": null,
            "justify_items": null,
            "left": null,
            "margin": null,
            "max_height": null,
            "max_width": null,
            "min_height": null,
            "min_width": null,
            "object_fit": null,
            "object_position": null,
            "order": null,
            "overflow": null,
            "overflow_x": null,
            "overflow_y": null,
            "padding": null,
            "right": null,
            "top": null,
            "visibility": null,
            "width": null
          }
        },
        "bee782a8974c4d00b29e4d461ab17682": {
          "model_module": "@jupyter-widgets/base",
          "model_module_version": "1.2.0",
          "model_name": "LayoutModel",
          "state": {
            "_model_module": "@jupyter-widgets/base",
            "_model_module_version": "1.2.0",
            "_model_name": "LayoutModel",
            "_view_count": null,
            "_view_module": "@jupyter-widgets/base",
            "_view_module_version": "1.2.0",
            "_view_name": "LayoutView",
            "align_content": null,
            "align_items": null,
            "align_self": null,
            "border": null,
            "bottom": null,
            "display": null,
            "flex": null,
            "flex_flow": null,
            "grid_area": null,
            "grid_auto_columns": null,
            "grid_auto_flow": null,
            "grid_auto_rows": null,
            "grid_column": null,
            "grid_gap": null,
            "grid_row": null,
            "grid_template_areas": null,
            "grid_template_columns": null,
            "grid_template_rows": null,
            "height": null,
            "justify_content": null,
            "justify_items": null,
            "left": null,
            "margin": null,
            "max_height": null,
            "max_width": null,
            "min_height": null,
            "min_width": null,
            "object_fit": null,
            "object_position": null,
            "order": null,
            "overflow": null,
            "overflow_x": null,
            "overflow_y": null,
            "padding": null,
            "right": null,
            "top": null,
            "visibility": null,
            "width": null
          }
        },
        "bf25552dcc434dd7aa17fe2aef6575c4": {
          "model_module": "@jupyter-widgets/controls",
          "model_module_version": "1.5.0",
          "model_name": "HBoxModel",
          "state": {
            "_dom_classes": [],
            "_model_module": "@jupyter-widgets/controls",
            "_model_module_version": "1.5.0",
            "_model_name": "HBoxModel",
            "_view_count": null,
            "_view_module": "@jupyter-widgets/controls",
            "_view_module_version": "1.5.0",
            "_view_name": "HBoxView",
            "box_style": "",
            "children": [
              "IPY_MODEL_5c2465e86891431abd4be9d63fc2f8c2",
              "IPY_MODEL_fe6630c9d57a48db94555b251e1a1458",
              "IPY_MODEL_f16e32a5e63e4d69bb9dc8031624bd51"
            ],
            "layout": "IPY_MODEL_b8d5f59844dc4b6a8419f781c4a82d49"
          }
        },
        "c0f1fd27d10f46d78c5e7e716ba77cea": {
          "model_module": "@jupyter-widgets/base",
          "model_module_version": "1.2.0",
          "model_name": "LayoutModel",
          "state": {
            "_model_module": "@jupyter-widgets/base",
            "_model_module_version": "1.2.0",
            "_model_name": "LayoutModel",
            "_view_count": null,
            "_view_module": "@jupyter-widgets/base",
            "_view_module_version": "1.2.0",
            "_view_name": "LayoutView",
            "align_content": null,
            "align_items": null,
            "align_self": null,
            "border": null,
            "bottom": null,
            "display": null,
            "flex": null,
            "flex_flow": null,
            "grid_area": null,
            "grid_auto_columns": null,
            "grid_auto_flow": null,
            "grid_auto_rows": null,
            "grid_column": null,
            "grid_gap": null,
            "grid_row": null,
            "grid_template_areas": null,
            "grid_template_columns": null,
            "grid_template_rows": null,
            "height": null,
            "justify_content": null,
            "justify_items": null,
            "left": null,
            "margin": null,
            "max_height": null,
            "max_width": null,
            "min_height": null,
            "min_width": null,
            "object_fit": null,
            "object_position": null,
            "order": null,
            "overflow": null,
            "overflow_x": null,
            "overflow_y": null,
            "padding": null,
            "right": null,
            "top": null,
            "visibility": null,
            "width": null
          }
        },
        "c1760709711144b685b94242e309182c": {
          "model_module": "@jupyter-widgets/base",
          "model_module_version": "1.2.0",
          "model_name": "LayoutModel",
          "state": {
            "_model_module": "@jupyter-widgets/base",
            "_model_module_version": "1.2.0",
            "_model_name": "LayoutModel",
            "_view_count": null,
            "_view_module": "@jupyter-widgets/base",
            "_view_module_version": "1.2.0",
            "_view_name": "LayoutView",
            "align_content": null,
            "align_items": null,
            "align_self": null,
            "border": null,
            "bottom": null,
            "display": null,
            "flex": null,
            "flex_flow": null,
            "grid_area": null,
            "grid_auto_columns": null,
            "grid_auto_flow": null,
            "grid_auto_rows": null,
            "grid_column": null,
            "grid_gap": null,
            "grid_row": null,
            "grid_template_areas": null,
            "grid_template_columns": null,
            "grid_template_rows": null,
            "height": null,
            "justify_content": null,
            "justify_items": null,
            "left": null,
            "margin": null,
            "max_height": null,
            "max_width": null,
            "min_height": null,
            "min_width": null,
            "object_fit": null,
            "object_position": null,
            "order": null,
            "overflow": null,
            "overflow_x": null,
            "overflow_y": null,
            "padding": null,
            "right": null,
            "top": null,
            "visibility": null,
            "width": null
          }
        },
        "c2478456c9ec4f77a0f00562711b7216": {
          "model_module": "@jupyter-widgets/base",
          "model_module_version": "1.2.0",
          "model_name": "LayoutModel",
          "state": {
            "_model_module": "@jupyter-widgets/base",
            "_model_module_version": "1.2.0",
            "_model_name": "LayoutModel",
            "_view_count": null,
            "_view_module": "@jupyter-widgets/base",
            "_view_module_version": "1.2.0",
            "_view_name": "LayoutView",
            "align_content": null,
            "align_items": null,
            "align_self": null,
            "border": null,
            "bottom": null,
            "display": null,
            "flex": null,
            "flex_flow": null,
            "grid_area": null,
            "grid_auto_columns": null,
            "grid_auto_flow": null,
            "grid_auto_rows": null,
            "grid_column": null,
            "grid_gap": null,
            "grid_row": null,
            "grid_template_areas": null,
            "grid_template_columns": null,
            "grid_template_rows": null,
            "height": null,
            "justify_content": null,
            "justify_items": null,
            "left": null,
            "margin": null,
            "max_height": null,
            "max_width": null,
            "min_height": null,
            "min_width": null,
            "object_fit": null,
            "object_position": null,
            "order": null,
            "overflow": null,
            "overflow_x": null,
            "overflow_y": null,
            "padding": null,
            "right": null,
            "top": null,
            "visibility": null,
            "width": "20px"
          }
        },
        "c2ad344a8a0a47a9838999ed0c202753": {
          "model_module": "@jupyter-widgets/controls",
          "model_module_version": "1.5.0",
          "model_name": "FloatProgressModel",
          "state": {
            "_dom_classes": [],
            "_model_module": "@jupyter-widgets/controls",
            "_model_module_version": "1.5.0",
            "_model_name": "FloatProgressModel",
            "_view_count": null,
            "_view_module": "@jupyter-widgets/controls",
            "_view_module_version": "1.5.0",
            "_view_name": "ProgressView",
            "bar_style": "info",
            "description": "",
            "description_tooltip": null,
            "layout": "IPY_MODEL_c2478456c9ec4f77a0f00562711b7216",
            "max": 1,
            "min": 0,
            "orientation": "horizontal",
            "style": "IPY_MODEL_a3373573482f416680bef1cea0cd8d39",
            "value": 1
          }
        },
        "c4690c9aa5fd4637a337cc24142d6a48": {
          "model_module": "@jupyter-widgets/base",
          "model_module_version": "1.2.0",
          "model_name": "LayoutModel",
          "state": {
            "_model_module": "@jupyter-widgets/base",
            "_model_module_version": "1.2.0",
            "_model_name": "LayoutModel",
            "_view_count": null,
            "_view_module": "@jupyter-widgets/base",
            "_view_module_version": "1.2.0",
            "_view_name": "LayoutView",
            "align_content": null,
            "align_items": null,
            "align_self": null,
            "border": null,
            "bottom": null,
            "display": null,
            "flex": null,
            "flex_flow": null,
            "grid_area": null,
            "grid_auto_columns": null,
            "grid_auto_flow": null,
            "grid_auto_rows": null,
            "grid_column": null,
            "grid_gap": null,
            "grid_row": null,
            "grid_template_areas": null,
            "grid_template_columns": null,
            "grid_template_rows": null,
            "height": null,
            "justify_content": null,
            "justify_items": null,
            "left": null,
            "margin": null,
            "max_height": null,
            "max_width": null,
            "min_height": null,
            "min_width": null,
            "object_fit": null,
            "object_position": null,
            "order": null,
            "overflow": null,
            "overflow_x": null,
            "overflow_y": null,
            "padding": null,
            "right": null,
            "top": null,
            "visibility": null,
            "width": null
          }
        },
        "c6efdc7a680241dcb983debb802d0bd0": {
          "model_module": "@jupyter-widgets/base",
          "model_module_version": "1.2.0",
          "model_name": "LayoutModel",
          "state": {
            "_model_module": "@jupyter-widgets/base",
            "_model_module_version": "1.2.0",
            "_model_name": "LayoutModel",
            "_view_count": null,
            "_view_module": "@jupyter-widgets/base",
            "_view_module_version": "1.2.0",
            "_view_name": "LayoutView",
            "align_content": null,
            "align_items": null,
            "align_self": null,
            "border": null,
            "bottom": null,
            "display": null,
            "flex": null,
            "flex_flow": null,
            "grid_area": null,
            "grid_auto_columns": null,
            "grid_auto_flow": null,
            "grid_auto_rows": null,
            "grid_column": null,
            "grid_gap": null,
            "grid_row": null,
            "grid_template_areas": null,
            "grid_template_columns": null,
            "grid_template_rows": null,
            "height": null,
            "justify_content": null,
            "justify_items": null,
            "left": null,
            "margin": null,
            "max_height": null,
            "max_width": null,
            "min_height": null,
            "min_width": null,
            "object_fit": null,
            "object_position": null,
            "order": null,
            "overflow": null,
            "overflow_x": null,
            "overflow_y": null,
            "padding": null,
            "right": null,
            "top": null,
            "visibility": null,
            "width": null
          }
        },
        "cba4dcc4f80c46fa90fec11e565e4694": {
          "model_module": "@jupyter-widgets/controls",
          "model_module_version": "1.5.0",
          "model_name": "FloatProgressModel",
          "state": {
            "_dom_classes": [],
            "_model_module": "@jupyter-widgets/controls",
            "_model_module_version": "1.5.0",
            "_model_name": "FloatProgressModel",
            "_view_count": null,
            "_view_module": "@jupyter-widgets/controls",
            "_view_module_version": "1.5.0",
            "_view_name": "ProgressView",
            "bar_style": "success",
            "description": "",
            "description_tooltip": null,
            "layout": "IPY_MODEL_8a726e1ba71d4f8b9f7186a221ab1d63",
            "max": 300,
            "min": 0,
            "orientation": "horizontal",
            "style": "IPY_MODEL_365532b9f8d94da4a28785533bb40931",
            "value": 300
          }
        },
        "cc412b033bfd4473b0cffed03be6bb13": {
          "model_module": "@jupyter-widgets/controls",
          "model_module_version": "1.5.0",
          "model_name": "HTMLModel",
          "state": {
            "_dom_classes": [],
            "_model_module": "@jupyter-widgets/controls",
            "_model_module_version": "1.5.0",
            "_model_name": "HTMLModel",
            "_view_count": null,
            "_view_module": "@jupyter-widgets/controls",
            "_view_module_version": "1.5.0",
            "_view_name": "HTMLView",
            "description": "",
            "description_tooltip": null,
            "layout": "IPY_MODEL_77808d30a9af41bca98e44a239ffc1be",
            "placeholder": "​",
            "style": "IPY_MODEL_2c6ce4f87ce0430d985b2115f99dac3b",
            "value": " 1/1 [00:00&lt;00:00, 21.28obj/s]"
          }
        },
        "d05038cd26fc4ec2af535a7d7e217736": {
          "model_module": "@jupyter-widgets/controls",
          "model_module_version": "1.5.0",
          "model_name": "FloatProgressModel",
          "state": {
            "_dom_classes": [],
            "_model_module": "@jupyter-widgets/controls",
            "_model_module_version": "1.5.0",
            "_model_name": "FloatProgressModel",
            "_view_count": null,
            "_view_module": "@jupyter-widgets/controls",
            "_view_module_version": "1.5.0",
            "_view_name": "ProgressView",
            "bar_style": "success",
            "description": "",
            "description_tooltip": null,
            "layout": "IPY_MODEL_4409856a948b47a5ad07b56f6c28ffb4",
            "max": 1,
            "min": 0,
            "orientation": "horizontal",
            "style": "IPY_MODEL_e312e820bb6a4c358ff6b58e9b0e309f",
            "value": 1
          }
        },
        "d12b013af5554a92a7c26cfd3d5afb84": {
          "model_module": "@jupyter-widgets/controls",
          "model_module_version": "1.5.0",
          "model_name": "ProgressStyleModel",
          "state": {
            "_model_module": "@jupyter-widgets/controls",
            "_model_module_version": "1.5.0",
            "_model_name": "ProgressStyleModel",
            "_view_count": null,
            "_view_module": "@jupyter-widgets/base",
            "_view_module_version": "1.2.0",
            "_view_name": "StyleView",
            "bar_color": null,
            "description_width": ""
          }
        },
        "d439de26c185410786cde5eb86a71b2b": {
          "model_module": "@jupyter-widgets/controls",
          "model_module_version": "1.5.0",
          "model_name": "HBoxModel",
          "state": {
            "_dom_classes": [],
            "_model_module": "@jupyter-widgets/controls",
            "_model_module_version": "1.5.0",
            "_model_name": "HBoxModel",
            "_view_count": null,
            "_view_module": "@jupyter-widgets/controls",
            "_view_module_version": "1.5.0",
            "_view_name": "HBoxView",
            "box_style": "",
            "children": [
              "IPY_MODEL_43ccdbb4303c4cb790a1cf16902762f7",
              "IPY_MODEL_cba4dcc4f80c46fa90fec11e565e4694",
              "IPY_MODEL_e5fc822468ad4a6e90f9320ab224248f"
            ],
            "layout": "IPY_MODEL_9707e99c327e4b67871a5ea49e46e855"
          }
        },
        "def9d6a1642d453c9cf4a07bd84d795e": {
          "model_module": "@jupyter-widgets/controls",
          "model_module_version": "1.5.0",
          "model_name": "ProgressStyleModel",
          "state": {
            "_model_module": "@jupyter-widgets/controls",
            "_model_module_version": "1.5.0",
            "_model_name": "ProgressStyleModel",
            "_view_count": null,
            "_view_module": "@jupyter-widgets/base",
            "_view_module_version": "1.2.0",
            "_view_name": "StyleView",
            "bar_color": null,
            "description_width": ""
          }
        },
        "e04153fb43bb4271a1af1aa2a12be273": {
          "model_module": "@jupyter-widgets/controls",
          "model_module_version": "1.5.0",
          "model_name": "FloatProgressModel",
          "state": {
            "_dom_classes": [],
            "_model_module": "@jupyter-widgets/controls",
            "_model_module_version": "1.5.0",
            "_model_name": "FloatProgressModel",
            "_view_count": null,
            "_view_module": "@jupyter-widgets/controls",
            "_view_module_version": "1.5.0",
            "_view_name": "ProgressView",
            "bar_style": "success",
            "description": "",
            "description_tooltip": null,
            "layout": "IPY_MODEL_91014d9d742043d6a713b428ef98f658",
            "max": 2,
            "min": 0,
            "orientation": "horizontal",
            "style": "IPY_MODEL_d12b013af5554a92a7c26cfd3d5afb84",
            "value": 2
          }
        },
        "e312e820bb6a4c358ff6b58e9b0e309f": {
          "model_module": "@jupyter-widgets/controls",
          "model_module_version": "1.5.0",
          "model_name": "ProgressStyleModel",
          "state": {
            "_model_module": "@jupyter-widgets/controls",
            "_model_module_version": "1.5.0",
            "_model_name": "ProgressStyleModel",
            "_view_count": null,
            "_view_module": "@jupyter-widgets/base",
            "_view_module_version": "1.2.0",
            "_view_name": "StyleView",
            "bar_color": null,
            "description_width": ""
          }
        },
        "e4505d79282e42428cf963f6cb911a6f": {
          "model_module": "@jupyter-widgets/controls",
          "model_module_version": "1.5.0",
          "model_name": "DescriptionStyleModel",
          "state": {
            "_model_module": "@jupyter-widgets/controls",
            "_model_module_version": "1.5.0",
            "_model_name": "DescriptionStyleModel",
            "_view_count": null,
            "_view_module": "@jupyter-widgets/base",
            "_view_module_version": "1.2.0",
            "_view_name": "StyleView",
            "description_width": ""
          }
        },
        "e5fc822468ad4a6e90f9320ab224248f": {
          "model_module": "@jupyter-widgets/controls",
          "model_module_version": "1.5.0",
          "model_name": "HTMLModel",
          "state": {
            "_dom_classes": [],
            "_model_module": "@jupyter-widgets/controls",
            "_model_module_version": "1.5.0",
            "_model_name": "HTMLModel",
            "_view_count": null,
            "_view_module": "@jupyter-widgets/controls",
            "_view_module_version": "1.5.0",
            "_view_name": "HTMLView",
            "description": "",
            "description_tooltip": null,
            "layout": "IPY_MODEL_7b5e76b0095645f08aaa5f23851125d6",
            "placeholder": "​",
            "style": "IPY_MODEL_770024dca0284a85b522c38f63816653",
            "value": " 300/300 [00:00&lt;00:00, 1085.59ex/s]"
          }
        },
        "e737b719058749aca54d2eab03f72981": {
          "model_module": "@jupyter-widgets/controls",
          "model_module_version": "1.5.0",
          "model_name": "ProgressStyleModel",
          "state": {
            "_model_module": "@jupyter-widgets/controls",
            "_model_module_version": "1.5.0",
            "_model_name": "ProgressStyleModel",
            "_view_count": null,
            "_view_module": "@jupyter-widgets/base",
            "_view_module_version": "1.2.0",
            "_view_name": "StyleView",
            "bar_color": null,
            "description_width": ""
          }
        },
        "ec63ad9cd57544a2acf36ae10827493f": {
          "model_module": "@jupyter-widgets/controls",
          "model_module_version": "1.5.0",
          "model_name": "DescriptionStyleModel",
          "state": {
            "_model_module": "@jupyter-widgets/controls",
            "_model_module_version": "1.5.0",
            "_model_name": "DescriptionStyleModel",
            "_view_count": null,
            "_view_module": "@jupyter-widgets/base",
            "_view_module_version": "1.2.0",
            "_view_name": "StyleView",
            "description_width": ""
          }
        },
        "f16e32a5e63e4d69bb9dc8031624bd51": {
          "model_module": "@jupyter-widgets/controls",
          "model_module_version": "1.5.0",
          "model_name": "HTMLModel",
          "state": {
            "_dom_classes": [],
            "_model_module": "@jupyter-widgets/controls",
            "_model_module_version": "1.5.0",
            "_model_name": "HTMLModel",
            "_view_count": null,
            "_view_module": "@jupyter-widgets/controls",
            "_view_module_version": "1.5.0",
            "_view_name": "HTMLView",
            "description": "",
            "description_tooltip": null,
            "layout": "IPY_MODEL_8f3591a3e339422886519d4c588bd328",
            "placeholder": "​",
            "style": "IPY_MODEL_a736c635fb0d4aaba167d20c1899641a",
            "value": " 2/2 [00:00&lt;00:00, 90.33it/s]"
          }
        },
        "f3e3e8182726486485d212ec151a06ca": {
          "model_module": "@jupyter-widgets/base",
          "model_module_version": "1.2.0",
          "model_name": "LayoutModel",
          "state": {
            "_model_module": "@jupyter-widgets/base",
            "_model_module_version": "1.2.0",
            "_model_name": "LayoutModel",
            "_view_count": null,
            "_view_module": "@jupyter-widgets/base",
            "_view_module_version": "1.2.0",
            "_view_name": "LayoutView",
            "align_content": null,
            "align_items": null,
            "align_self": null,
            "border": null,
            "bottom": null,
            "display": null,
            "flex": null,
            "flex_flow": null,
            "grid_area": null,
            "grid_auto_columns": null,
            "grid_auto_flow": null,
            "grid_auto_rows": null,
            "grid_column": null,
            "grid_gap": null,
            "grid_row": null,
            "grid_template_areas": null,
            "grid_template_columns": null,
            "grid_template_rows": null,
            "height": null,
            "justify_content": null,
            "justify_items": null,
            "left": null,
            "margin": null,
            "max_height": null,
            "max_width": null,
            "min_height": null,
            "min_width": null,
            "object_fit": null,
            "object_position": null,
            "order": null,
            "overflow": null,
            "overflow_x": null,
            "overflow_y": null,
            "padding": null,
            "right": null,
            "top": null,
            "visibility": null,
            "width": null
          }
        },
        "fcdf8e1234e44c3dab999352ccc763ee": {
          "model_module": "@jupyter-widgets/controls",
          "model_module_version": "1.5.0",
          "model_name": "HTMLModel",
          "state": {
            "_dom_classes": [],
            "_model_module": "@jupyter-widgets/controls",
            "_model_module_version": "1.5.0",
            "_model_name": "HTMLModel",
            "_view_count": null,
            "_view_module": "@jupyter-widgets/controls",
            "_view_module_version": "1.5.0",
            "_view_name": "HTMLView",
            "description": "",
            "description_tooltip": null,
            "layout": "IPY_MODEL_18f35406650d4d459b4321c046188637",
            "placeholder": "​",
            "style": "IPY_MODEL_8a8438bc96ce40f096759f7d4f960b63",
            "value": "100%"
          }
        },
        "fdfa8014b11945f0a3af08bb9705dba4": {
          "model_module": "@jupyter-widgets/controls",
          "model_module_version": "1.5.0",
          "model_name": "HBoxModel",
          "state": {
            "_dom_classes": [],
            "_model_module": "@jupyter-widgets/controls",
            "_model_module_version": "1.5.0",
            "_model_name": "HBoxModel",
            "_view_count": null,
            "_view_module": "@jupyter-widgets/controls",
            "_view_module_version": "1.5.0",
            "_view_name": "HBoxView",
            "box_style": "",
            "children": [
              "IPY_MODEL_2955efd4aab14d88afc7900242d7252a",
              "IPY_MODEL_c2ad344a8a0a47a9838999ed0c202753",
              "IPY_MODEL_17cf60e73967478daa4306b544abdae3"
            ],
            "layout": "IPY_MODEL_25d517b4d72e4285a075f8c998147859"
          }
        },
        "fe6630c9d57a48db94555b251e1a1458": {
          "model_module": "@jupyter-widgets/controls",
          "model_module_version": "1.5.0",
          "model_name": "FloatProgressModel",
          "state": {
            "_dom_classes": [],
            "_model_module": "@jupyter-widgets/controls",
            "_model_module_version": "1.5.0",
            "_model_name": "FloatProgressModel",
            "_view_count": null,
            "_view_module": "@jupyter-widgets/controls",
            "_view_module_version": "1.5.0",
            "_view_name": "ProgressView",
            "bar_style": "success",
            "description": "",
            "description_tooltip": null,
            "layout": "IPY_MODEL_c6efdc7a680241dcb983debb802d0bd0",
            "max": 2,
            "min": 0,
            "orientation": "horizontal",
            "style": "IPY_MODEL_e737b719058749aca54d2eab03f72981",
            "value": 2
          }
        },
        "ff6accca028b4e7396fb60b2d40107a3": {
          "model_module": "@jupyter-widgets/controls",
          "model_module_version": "1.5.0",
          "model_name": "DescriptionStyleModel",
          "state": {
            "_model_module": "@jupyter-widgets/controls",
            "_model_module_version": "1.5.0",
            "_model_name": "DescriptionStyleModel",
            "_view_count": null,
            "_view_module": "@jupyter-widgets/base",
            "_view_module_version": "1.2.0",
            "_view_name": "StyleView",
            "description_width": ""
          }
        }
      }
    }
  },
  "nbformat": 4,
  "nbformat_minor": 0
}
