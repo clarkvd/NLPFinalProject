{
  "cells": [
    {
      "cell_type": "markdown",
      "metadata": {
        "id": "YZF8tcpxxwAC"
      },
      "source": [
        "# Final Project Code: Genre and Sentiment Classification with Song Lyrics\n",
        "\n",
        "Datasets can be found in /datasets folder"
      ]
    },
    {
      "cell_type": "markdown",
      "source": [
        "### Step #0: NOTES FROM FEEDBACK\n",
        "\n",
        "a. We found a classifier not used in class called SGD and used it.  We were not refering to Linear SVC() because when we tried it, it would not run.\n",
        "From scikit website: \"This estimator implements regularized linear models with stochastic gradient descent (SGD) learning\"\n",
        "\n",
        "b. We didn't pick a value for KNN because it is the scikit model where we don't pick a specific number"
      ],
      "metadata": {
        "id": "gd7P2Ltjuwff"
      }
    },
    {
      "cell_type": "markdown",
      "metadata": {
        "id": "eW0dkN8Oyk7-"
      },
      "source": [
        "### Step #1: Mount Google Drive and download libraries\n",
        "\n",
        "a. Mount Google Drive"
      ]
    },
    {
      "cell_type": "code",
      "execution_count": null,
      "metadata": {
        "colab": {
          "base_uri": "https://localhost:8080/"
        },
        "id": "PrwPYPYzxqn7",
        "outputId": "fdf99e46-77a6-4eb6-bf9d-8b1345930f97"
      },
      "outputs": [
        {
          "output_type": "stream",
          "name": "stdout",
          "text": [
            "Mounted at /content/drive\n"
          ]
        }
      ],
      "source": [
        "from google.colab import drive\n",
        "drive.mount('/content/drive')"
      ]
    },
    {
      "cell_type": "markdown",
      "metadata": {
        "id": "BDXWQOhA99kM"
      },
      "source": [
        "b. Import Libraries: "
      ]
    },
    {
      "cell_type": "code",
      "execution_count": null,
      "metadata": {
        "id": "yPY13lsGX7Fp"
      },
      "outputs": [],
      "source": [
        "import re\n",
        "import pandas as pd\n",
        "import nltk\n",
        "import gensim\n",
        "\n",
        "from sklearn.datasets import fetch_openml as fetch_mldata\n",
        "from sklearn.model_selection import cross_val_score\n",
        "\n",
        "from numpy import mean\n",
        "import numpy as np\n",
        "import matplotlib.pyplot as plt\n",
        "\n",
        "from sklearn.naive_bayes import GaussianNB\n",
        "from sklearn.linear_model import SGDClassifier\n",
        "from sklearn.linear_model import LogisticRegression\n",
        "from sklearn.neural_network import MLPClassifier\n",
        "from sklearn.neighbors import KNeighborsClassifier\n",
        "from sklearn import metrics\n",
        "\n",
        "from gensim.models import Word2Vec\n",
        "bigmodel = gensim.models.KeyedVectors.load_word2vec_format(\"/content/drive/MyDrive/GoogleNews-vectors-negative300-SLIM.bin\", binary=True)"
      ]
    },
    {
      "cell_type": "markdown",
      "metadata": {
        "id": "ohUAkeCx-Ig8"
      },
      "source": [
        "c. Download Datasets from OpenML and store them into dataframes:\n"
      ]
    },
    {
      "cell_type": "code",
      "execution_count": null,
      "metadata": {
        "colab": {
          "base_uri": "https://localhost:8080/"
        },
        "id": "dh9WpovHyAQ5",
        "outputId": "ca452f4b-c767-41fa-f370-b34b122f001b"
      },
      "outputs": [
        {
          "output_type": "stream",
          "name": "stdout",
          "text": [
            "pop\n",
            "believe drop rain fall grow believe darkest night candle glow believe go astray come believe believe believe smallest prayer hear believe great hear word time hear bear baby touch leaf believe believe believe lord heaven guide sin hide believe calvary die pierce believe death rise meet heaven loud amen know believe\n"
          ]
        }
      ],
      "source": [
        "genreData =  fetch_mldata(name='Music-Dataset--1950-to-2019', version=1)\n",
        "gdf = genreData.data\n",
        "x = gdf[\"lyrics\"]\n",
        "y = gdf[\"genre\"]\n",
        "print(y[1])\n",
        "print(x[1])   "
      ]
    },
    {
      "cell_type": "code",
      "execution_count": null,
      "metadata": {
        "colab": {
          "base_uri": "https://localhost:8080/"
        },
        "id": "nr2_tJJl27jo",
        "outputId": "112d5691-f907-467a-9ecf-d8119d27f33c"
      },
      "outputs": [
        {
          "output_type": "stream",
          "name": "stdout",
          "text": [
            "The drinks go down and smoke goes up, I feel myself, got to let go\n",
            "My cares get lost up in that crowd that go up, up and away yo\n",
            "\n",
            "Slow down the lights, eyes open wide\n",
            "We live till we die, live till we die, live till we die\n",
            "\n",
            "Ain't kill my vibe, don't blow my high, don't doubt that he from the band though\n",
            "I'm listening to this song, now I'm up up and away yo\n",
            "\n",
            "Slow down the lights, eyes open wide\n",
            "We live till we die, live till we die, live till we die\n",
            "Slow down the lights, eyes open wide\n",
            "We live till we die, live till we die, live till we die\n",
            "Slow down the lights, eyes open wide\n",
            "We live till we die, live till we die, live till we die\n",
            "\n",
            "Nights like this, I go all out, up so high, I can't come down\n",
            "Let me live just for right now\n",
            "Yeah, yeah, bite me, I'm so gone\n",
            "\n",
            "Happier than a motherfucker, I can't feel my fa-ace\n",
            "No squares in my circle, get up out my way\n",
            "Happier than a motherfucker, I can't feel my fa-ace\n",
            "Who you tryna dance? Get up out my way\n",
            "Happier than a motherfucker, I can't feel my fa-ace\n",
            "No squares in my circle, get up out my way\n",
            "Happier than a motherfucker, I can't feel my fa-ace\n",
            "Who you tryna dance? Get up out my way\n",
            "\n",
            "When I'm out at night, I chase neon lights\n",
            "All of my thoughts start to echo, yeah they start to echo\n",
            "\n",
            "Slow down the lights, eyes open wide\n",
            "We live till we die, live till we die, live till we die\n",
            "\n",
            "So I'ma roll the dice, and I hope that I\n",
            "Don't take more than I can handle, much than I can handle\n",
            "\n",
            "Slow down the lights, eyes open wide\n",
            "We live till we die, live till we die, live till we die\n",
            "Slow down the lights, eyes open wide\n",
            "We live till we die, live till we die, live till we die\n",
            "Slow down the lights, eyes open wide\n",
            "We live till we die, live till we die, live till we die\n",
            "\n",
            "Nights like this, I go all out, up so high, I can't come down\n",
            "Let me live just for right now\n",
            "Yeah, yeah, bite me, I'm so gone\n",
            "\n",
            "Happier than a motherfucker, I can't feel my fa-ace\n",
            "No squares in my circle, get up out my way\n",
            "Happier than a motherfucker, I can't feel my fa-ace\n",
            "Who you tryna dance? Get up out my way\n",
            "Happier than a motherfucker, I can't feel my fa-ace\n",
            "No squares in my circle, get up out my way\n",
            "Happier than a motherfucker, I can't feel my fa-ace\n",
            "Who you tryna dance? Get up out my way\n",
            "0.63\n"
          ]
        }
      ],
      "source": [
        "spotifyData = fetch_mldata(name='150K-Lyrics-Labeled-with-Spotify-Valence', version=1)\n",
        "sdf = spotifyData.data\n",
        "spotify_x = sdf[\"seq\"]\n",
        "spotify_y = sdf[\"label\"]\n",
        "print(spotify_x[1])\n",
        "print(spotify_y[1])   "
      ]
    },
    {
      "cell_type": "markdown",
      "metadata": {
        "id": "N11XcnJKCcA9"
      },
      "source": [
        "### Step #2: Tokenize Lyrics for both datasets\n"
      ]
    },
    {
      "cell_type": "code",
      "execution_count": null,
      "metadata": {
        "colab": {
          "base_uri": "https://localhost:8080/"
        },
        "id": "YyDDaCy41Ehz",
        "outputId": "a7b26ec9-77a3-455c-c8d7-78e7d963ce06"
      },
      "outputs": [
        {
          "output_type": "stream",
          "name": "stderr",
          "text": [
            "[nltk_data] Downloading package punkt to /root/nltk_data...\n",
            "[nltk_data]   Unzipping tokenizers/punkt.zip.\n"
          ]
        }
      ],
      "source": [
        "nltk.download('punkt');\n",
        "def tokenize(column):\n",
        "    tokens = nltk.word_tokenize(column)\n",
        "    return [w for w in tokens if w.isalpha()]   "
      ]
    },
    {
      "cell_type": "code",
      "execution_count": null,
      "metadata": {
        "colab": {
          "base_uri": "https://localhost:8080/",
          "height": 206
        },
        "id": "vRsz3pZbpLPq",
        "outputId": "86bc48a4-4dad-4cb4-dbb7-b4b64f9308dd"
      },
      "outputs": [
        {
          "output_type": "execute_result",
          "data": {
            "text/plain": [
              "                                    lyrics_tokenized\n",
              "0  [No, no, I, ai, ever, trapped, out, the, bando...\n",
              "1  [The, drinks, go, down, and, smoke, goes, up, ...\n",
              "2  [She, do, live, on, planet, Earth, no, more, S...\n",
              "3  [Trippin, off, that, Grigio, mobbin, lights, l...\n",
              "4  [I, see, a, midnight, panther, so, gallant, an..."
            ],
            "text/html": [
              "\n",
              "  <div id=\"df-f06c125a-ac8a-47bd-9628-d2c2f75b5883\">\n",
              "    <div class=\"colab-df-container\">\n",
              "      <div>\n",
              "<style scoped>\n",
              "    .dataframe tbody tr th:only-of-type {\n",
              "        vertical-align: middle;\n",
              "    }\n",
              "\n",
              "    .dataframe tbody tr th {\n",
              "        vertical-align: top;\n",
              "    }\n",
              "\n",
              "    .dataframe thead th {\n",
              "        text-align: right;\n",
              "    }\n",
              "</style>\n",
              "<table border=\"1\" class=\"dataframe\">\n",
              "  <thead>\n",
              "    <tr style=\"text-align: right;\">\n",
              "      <th></th>\n",
              "      <th>lyrics_tokenized</th>\n",
              "    </tr>\n",
              "  </thead>\n",
              "  <tbody>\n",
              "    <tr>\n",
              "      <th>0</th>\n",
              "      <td>[No, no, I, ai, ever, trapped, out, the, bando...</td>\n",
              "    </tr>\n",
              "    <tr>\n",
              "      <th>1</th>\n",
              "      <td>[The, drinks, go, down, and, smoke, goes, up, ...</td>\n",
              "    </tr>\n",
              "    <tr>\n",
              "      <th>2</th>\n",
              "      <td>[She, do, live, on, planet, Earth, no, more, S...</td>\n",
              "    </tr>\n",
              "    <tr>\n",
              "      <th>3</th>\n",
              "      <td>[Trippin, off, that, Grigio, mobbin, lights, l...</td>\n",
              "    </tr>\n",
              "    <tr>\n",
              "      <th>4</th>\n",
              "      <td>[I, see, a, midnight, panther, so, gallant, an...</td>\n",
              "    </tr>\n",
              "  </tbody>\n",
              "</table>\n",
              "</div>\n",
              "      <button class=\"colab-df-convert\" onclick=\"convertToInteractive('df-f06c125a-ac8a-47bd-9628-d2c2f75b5883')\"\n",
              "              title=\"Convert this dataframe to an interactive table.\"\n",
              "              style=\"display:none;\">\n",
              "        \n",
              "  <svg xmlns=\"http://www.w3.org/2000/svg\" height=\"24px\"viewBox=\"0 0 24 24\"\n",
              "       width=\"24px\">\n",
              "    <path d=\"M0 0h24v24H0V0z\" fill=\"none\"/>\n",
              "    <path d=\"M18.56 5.44l.94 2.06.94-2.06 2.06-.94-2.06-.94-.94-2.06-.94 2.06-2.06.94zm-11 1L8.5 8.5l.94-2.06 2.06-.94-2.06-.94L8.5 2.5l-.94 2.06-2.06.94zm10 10l.94 2.06.94-2.06 2.06-.94-2.06-.94-.94-2.06-.94 2.06-2.06.94z\"/><path d=\"M17.41 7.96l-1.37-1.37c-.4-.4-.92-.59-1.43-.59-.52 0-1.04.2-1.43.59L10.3 9.45l-7.72 7.72c-.78.78-.78 2.05 0 2.83L4 21.41c.39.39.9.59 1.41.59.51 0 1.02-.2 1.41-.59l7.78-7.78 2.81-2.81c.8-.78.8-2.07 0-2.86zM5.41 20L4 18.59l7.72-7.72 1.47 1.35L5.41 20z\"/>\n",
              "  </svg>\n",
              "      </button>\n",
              "      \n",
              "  <style>\n",
              "    .colab-df-container {\n",
              "      display:flex;\n",
              "      flex-wrap:wrap;\n",
              "      gap: 12px;\n",
              "    }\n",
              "\n",
              "    .colab-df-convert {\n",
              "      background-color: #E8F0FE;\n",
              "      border: none;\n",
              "      border-radius: 50%;\n",
              "      cursor: pointer;\n",
              "      display: none;\n",
              "      fill: #1967D2;\n",
              "      height: 32px;\n",
              "      padding: 0 0 0 0;\n",
              "      width: 32px;\n",
              "    }\n",
              "\n",
              "    .colab-df-convert:hover {\n",
              "      background-color: #E2EBFA;\n",
              "      box-shadow: 0px 1px 2px rgba(60, 64, 67, 0.3), 0px 1px 3px 1px rgba(60, 64, 67, 0.15);\n",
              "      fill: #174EA6;\n",
              "    }\n",
              "\n",
              "    [theme=dark] .colab-df-convert {\n",
              "      background-color: #3B4455;\n",
              "      fill: #D2E3FC;\n",
              "    }\n",
              "\n",
              "    [theme=dark] .colab-df-convert:hover {\n",
              "      background-color: #434B5C;\n",
              "      box-shadow: 0px 1px 3px 1px rgba(0, 0, 0, 0.15);\n",
              "      filter: drop-shadow(0px 1px 2px rgba(0, 0, 0, 0.3));\n",
              "      fill: #FFFFFF;\n",
              "    }\n",
              "  </style>\n",
              "\n",
              "      <script>\n",
              "        const buttonEl =\n",
              "          document.querySelector('#df-f06c125a-ac8a-47bd-9628-d2c2f75b5883 button.colab-df-convert');\n",
              "        buttonEl.style.display =\n",
              "          google.colab.kernel.accessAllowed ? 'block' : 'none';\n",
              "\n",
              "        async function convertToInteractive(key) {\n",
              "          const element = document.querySelector('#df-f06c125a-ac8a-47bd-9628-d2c2f75b5883');\n",
              "          const dataTable =\n",
              "            await google.colab.kernel.invokeFunction('convertToInteractive',\n",
              "                                                     [key], {});\n",
              "          if (!dataTable) return;\n",
              "\n",
              "          const docLinkHtml = 'Like what you see? Visit the ' +\n",
              "            '<a target=\"_blank\" href=https://colab.research.google.com/notebooks/data_table.ipynb>data table notebook</a>'\n",
              "            + ' to learn more about interactive tables.';\n",
              "          element.innerHTML = '';\n",
              "          dataTable['output_type'] = 'display_data';\n",
              "          await google.colab.output.renderOutput(dataTable, element);\n",
              "          const docLink = document.createElement('div');\n",
              "          docLink.innerHTML = docLinkHtml;\n",
              "          element.appendChild(docLink);\n",
              "        }\n",
              "      </script>\n",
              "    </div>\n",
              "  </div>\n",
              "  "
            ]
          },
          "metadata": {},
          "execution_count": 7
        }
      ],
      "source": [
        "gdf['lyrics_tokenized'] = gdf.apply(lambda x: tokenize(x['lyrics']), axis=1)\n",
        "gdf[['lyrics_tokenized']].head() \n",
        "\n",
        "sdf['lyrics_tokenized'] = sdf.apply(lambda x: tokenize(x['seq']), axis=1)\n",
        "sdf[['lyrics_tokenized']].head()  \n"
      ]
    },
    {
      "cell_type": "markdown",
      "metadata": {
        "id": "Z1Ur7Fxh6dHL"
      },
      "source": [
        "### Spotify data: Bin Valences (for baselines data) in spotify valence data\n",
        "\n",
        "USE sdf['Valence'] FOR OUTPUTS\n",
        "\n",
        "--> 0 - 0.2 : Very Negative  \n",
        "\n",
        "--> 0.2 - 0.4: Somewhat Negative \n",
        "\n",
        "--> 0.4 - 0.6: Neutral \n",
        "\n",
        "--> 0.6 - 0.8: Somewhat Positive \n",
        "\n",
        "--> 0.8 - 1.0 : Very Postive "
      ]
    },
    {
      "cell_type": "code",
      "execution_count": null,
      "metadata": {
        "colab": {
          "base_uri": "https://localhost:8080/"
        },
        "id": "P8m6XV03cnzU",
        "outputId": "0d253ac0-d8ff-4713-8590-4d31d4cb2079"
      },
      "outputs": [
        {
          "output_type": "stream",
          "name": "stdout",
          "text": [
            "---------------------TRAINING SET VALENCE BASELINE DATA------------------\n",
            "Very negative songs:  0.14866784967761898\n",
            "Somewhat negative songs:  0.25023207643682155\n",
            "Neutral songs:  0.2464367583815905\n",
            "Somewhat positive songs:  0.21503223810095168\n",
            "Very positive songs:  0.1396310774030173\n"
          ]
        }
      ],
      "source": [
        "valence = [] \n",
        "bertvalencetest = []\n",
        "count = len(sdf) \n",
        "vn = 0 \n",
        "sn = 0 \n",
        "n = 0 \n",
        "sp = 0 \n",
        "vp = 0 \n",
        "# Bin valences \n",
        "for val in spotify_y: \n",
        "  if val < 0.2: \n",
        "    valence.append('Very Negative')\n",
        "    vn +=1\n",
        "  elif val >= 0.2 and val < 0.4: \n",
        "    valence.append('Somewhat Negative')\n",
        "    sn +=1\n",
        "  elif val >= 0.4 and val < 0.6: \n",
        "    valence.append('Neutral')\n",
        "    n +=1\n",
        "  elif val >= 0.6 and val < 0.8:\n",
        "    valence.append('Somewhat Positive')\n",
        "    sp +=1\n",
        "  elif val >= 0.8: \n",
        "    valence.append('Very Positive')\n",
        "    vp +=1\n",
        "  if val<0.5:\n",
        "    bertvalencetest.append(0)\n",
        "  if val>=0.5 and val<1:\n",
        "    bertvalencetest.append(1)\n",
        "sdf['valence'] = valence \n",
        "sdf['bertvalence'] = bertvalencetest\n",
        "print('---------------------TRAINING SET VALENCE BASELINE DATA------------------')\n",
        "print('Very negative songs: ', vn/count)\n",
        "print('Somewhat negative songs: ', sn/count)\n",
        "print('Neutral songs: ', n/count)\n",
        "print('Somewhat positive songs: ', sp/count)\n",
        "print('Very positive songs: ', vp/count)"
      ]
    },
    {
      "cell_type": "markdown",
      "metadata": {
        "id": "nRUGKTongBAE"
      },
      "source": [
        "### Delete 'pop' genre, because many of the songs are overrepresented as pop songs"
      ]
    },
    {
      "cell_type": "code",
      "execution_count": null,
      "metadata": {
        "colab": {
          "base_uri": "https://localhost:8080/"
        },
        "id": "uaYuMarJb6Vi",
        "outputId": "765c519f-01f9-4c0a-ab50-7800d4208632"
      },
      "outputs": [
        {
          "output_type": "stream",
          "name": "stdout",
          "text": [
            "(21330, 32)\n"
          ]
        }
      ],
      "source": [
        "gdf.drop(gdf.loc[gdf['genre'] == 'pop'].index, inplace=True)\n",
        "print(gdf.shape)"
      ]
    },
    {
      "cell_type": "markdown",
      "metadata": {
        "id": "TtvyDAN1EAW6"
      },
      "source": [
        "###Step #3: Split Training and Testing Data and reassign x and y values\n",
        "\n",
        "Adapted from this source: https://towardsdatascience.com/how-to-split-a-dataset-into-training-and-testing-sets-b146b1649830\n",
        "\n",
        "\n",
        "*   x1 --> lyrics for spotify valence, training data\n",
        "*   y1 --> valence for training data \n",
        "*   x1test --> \" \", testing data \n",
        "* y1test --> \" \", testing data \n",
        "* x2 --> lyrics for genre dataset, training data \n",
        "* y2 --> genre for trainng data\n",
        "* x2test --> \" \", testing data \n",
        "* x2test --> \" \", testing data"
      ]
    },
    {
      "cell_type": "code",
      "execution_count": null,
      "metadata": {
        "colab": {
          "base_uri": "https://localhost:8080/"
        },
        "id": "Lhj-7E7hjfom",
        "outputId": "71c89133-8a07-4f2c-b7be-87ea9b9b241e"
      },
      "outputs": [
        {
          "output_type": "stream",
          "name": "stdout",
          "text": [
            "No. of spotify training examples: 126682\n",
            "No. of spotify testing examples: 31671\n",
            "No. of genre training examples: 17064\n",
            "No. of genre testing examples: 4266\n",
            "(126682,) (126682,)\n",
            "(31671,) (31671,)\n",
            "(17064,) (17064,)\n",
            "(4266,) (4266,)\n"
          ]
        }
      ],
      "source": [
        "## We are using a 80/20 split \n",
        "spotify_training_data = sdf.sample(frac=0.8, random_state=25)\n",
        "spotify_testing_data = sdf.drop(spotify_training_data.index)\n",
        "print(f\"No. of spotify training examples: {spotify_training_data.shape[0]}\")\n",
        "print(f\"No. of spotify testing examples: {spotify_testing_data.shape[0]}\") \n",
        "\n",
        "genre_training_data = gdf.sample(frac=0.8, random_state=25)\n",
        "genre_testing_data = gdf.drop(genre_training_data.index)\n",
        "\n",
        "print(f\"No. of genre training examples: {genre_training_data.shape[0]}\")\n",
        "print(f\"No. of genre testing examples: {genre_testing_data.shape[0]}\")  \n",
        "\n",
        "x1 = spotify_training_data['lyrics_tokenized']  \n",
        "y1 = spotify_training_data['valence'] \n",
        "\n",
        "x1test = spotify_testing_data['lyrics_tokenized']\n",
        "y1test = spotify_testing_data['valence']\n",
        "\n",
        "print(x1.shape, y1.shape)\n",
        "print(x1test.shape, y1test.shape)\n",
        "\n",
        "x2 = genre_training_data['lyrics_tokenized']\n",
        "y2 = genre_training_data['genre']\n",
        "x2test = genre_testing_data['lyrics_tokenized']\n",
        "y2test = genre_testing_data['genre']\n",
        "\n",
        "print(x2.shape, y2.shape)\n",
        "print(x2test.shape, y2test.shape)"
      ]
    },
    {
      "cell_type": "markdown",
      "metadata": {
        "id": "9m8tN6tPDzUe"
      },
      "source": [
        "### Step 4: Baselines for Music Genre Data \n",
        "\n",
        "Calculate how many songs fall into each genre category  \n",
        "Genres include: pop, rock, country, blues, jazz, hip hop, and reggae\n",
        "\n",
        "Should we drop pop songs? They are the majority amount of songs, so we may have an unbalanced dataset..."
      ]
    },
    {
      "cell_type": "code",
      "execution_count": null,
      "metadata": {
        "colab": {
          "base_uri": "https://localhost:8080/"
        },
        "id": "aLUrxFK4DS3X",
        "outputId": "8a093380-d4a7-4be9-a73f-d67d22113e33"
      },
      "outputs": [
        {
          "output_type": "stream",
          "name": "stdout",
          "text": [
            "['country' 'blues' 'jazz' 'reggae' 'rock' 'hip hop']\n",
            "---------------------GENRE BASELINE DATA------------------\n",
            "Percentage of pop songs 0.3301453352086263\n",
            "Percentage of blues songs 0.21584622597280825\n",
            "Percentage of rock songs 0.18912330051570558\n",
            "Percentage of country songs 0.2552742616033755\n",
            "Percentage of jazz songs 0.1802625410220347\n",
            "Percentage of reggae songs 0.11711204875761838\n",
            "Percentage of hip hop songs 0.04238162212845757\n"
          ]
        }
      ],
      "source": [
        "## Baselines for genre data \n",
        "count = len(gdf)\n",
        "# 7 genres \n",
        "print(gdf['genre'].unique())\n",
        "popcount = 0\n",
        "rockcount = 0\n",
        "countrycount = 0\n",
        "bluescount = 0 \n",
        "jazzcount = 0 \n",
        "hhcount = 0 \n",
        "regcount = 0 \n",
        "\n",
        "for genre in y: \n",
        "  if genre == 'pop': \n",
        "    popcount += 1 \n",
        "  elif genre == 'rock': \n",
        "    rockcount += 1 \n",
        "  elif genre == 'country': \n",
        "    countrycount += 1\n",
        "  elif genre == 'blues': \n",
        "    bluescount += 1 \n",
        "  elif genre == 'jazz': \n",
        "    jazzcount += 1 \n",
        "  elif genre == 'reggae': \n",
        "    regcount += 1 \n",
        "  elif genre == 'hip hop': \n",
        "    hhcount += 1\n",
        "print('---------------------GENRE BASELINE DATA------------------')\n",
        "print('Percentage of pop songs', popcount/count)\n",
        "print('Percentage of blues songs', bluescount/count)\n",
        "print('Percentage of rock songs', rockcount/count)\n",
        "print('Percentage of country songs', countrycount/count)\n",
        "print('Percentage of jazz songs', jazzcount/count)\n",
        "print('Percentage of reggae songs', regcount/count)\n",
        "print('Percentage of hip hop songs', hhcount/count)"
      ]
    },
    {
      "cell_type": "markdown",
      "metadata": {
        "id": "b1TRxO5pscLX"
      },
      "source": [
        "## Step 5: Classification \n",
        "\n",
        "*   Use wordtovec to create a term-document matrix for each song \n",
        "\n"
      ]
    },
    {
      "cell_type": "markdown",
      "source": [
        "GENRE CLASSIFICATION"
      ],
      "metadata": {
        "id": "tDda6lIguMYp"
      }
    },
    {
      "cell_type": "code",
      "execution_count": null,
      "metadata": {
        "id": "ZAY_Q2hAsejG"
      },
      "outputs": [],
      "source": [
        "# TRAINING DATA \n",
        "genretargets = []\n",
        "genrevectors = []\n",
        "for genre in y2: \n",
        "  if genre == 'rock': \n",
        "    genretargets.append(1)\n",
        "  elif genre == 'country': \n",
        "    genretargets.append(2)\n",
        "  elif genre == 'blues': \n",
        "    genretargets.append(3)\n",
        "  elif genre == 'jazz': \n",
        "    genretargets.append(4)\n",
        "  elif genre == 'reggae': \n",
        "    genretargets.append(5) \n",
        "  elif genre == 'hip hop': \n",
        "    genretargets.append(6)\n",
        "for h in x2:\n",
        "    totvec = np.zeros(300)\n",
        "    for w in h:\n",
        "        if w.lower() in bigmodel:\n",
        "            totvec = totvec + bigmodel[w.lower()]\n",
        "    genrevectors.append(totvec)\n",
        "\n",
        "# TESTING DATA \n",
        "gtesttargets = []\n",
        "gtestvectors = []\n",
        "for genre in y2test: \n",
        "  if genre == 'rock': \n",
        "    gtesttargets.append(1)\n",
        "  elif genre == 'country': \n",
        "    gtesttargets.append(2)\n",
        "  elif genre == 'blues': \n",
        "    gtesttargets.append(3)\n",
        "  elif genre == 'jazz': \n",
        "    gtesttargets.append(4)\n",
        "  elif genre == 'reggae': \n",
        "    gtesttargets.append(5) \n",
        "  elif genre == 'hip hop': \n",
        "    gtesttargets.append(6)\n",
        "for h in x2test:\n",
        "    totvec = np.zeros(300)\n",
        "    for w in h:\n",
        "        if w.lower() in bigmodel:\n",
        "            totvec = totvec + bigmodel[w.lower()]\n",
        "    gtestvectors.append(totvec)\n"
      ]
    },
    {
      "cell_type": "markdown",
      "metadata": {
        "id": "y0qdfTZpBvxs"
      },
      "source": [
        "GENRE MODELS"
      ]
    },
    {
      "cell_type": "code",
      "execution_count": null,
      "metadata": {
        "id": "hyaQduAYOs60",
        "colab": {
          "base_uri": "https://localhost:8080/"
        },
        "outputId": "26515a71-c3e0-4635-b7df-357a373b9d3f"
      },
      "outputs": [
        {
          "output_type": "stream",
          "name": "stdout",
          "text": [
            "GENRE NB CLASSIFIER\n",
            "              precision    recall  f1-score   support\n",
            "\n",
            "           1       0.29      0.09      0.14       756\n",
            "           2       0.30      0.77      0.44      1081\n",
            "           3       0.44      0.05      0.09       955\n",
            "           4       0.32      0.01      0.03       782\n",
            "           5       0.25      0.44      0.32       503\n",
            "           6       0.21      0.30      0.24       189\n",
            "\n",
            "    accuracy                           0.29      4266\n",
            "   macro avg       0.30      0.28      0.21      4266\n",
            "weighted avg       0.32      0.29      0.21      4266\n",
            "\n",
            "GENRE SGD CLASSIFIER\n",
            "              precision    recall  f1-score   support\n",
            "\n",
            "           1       0.38      0.22      0.28       756\n",
            "           2       0.47      0.50      0.48      1081\n",
            "           3       0.39      0.18      0.25       955\n",
            "           4       0.26      0.51      0.34       782\n",
            "           5       0.31      0.44      0.37       503\n",
            "           6       0.86      0.03      0.06       189\n",
            "\n",
            "    accuracy                           0.35      4266\n",
            "   macro avg       0.44      0.31      0.30      4266\n",
            "weighted avg       0.40      0.35      0.34      4266\n",
            "\n",
            "GENRE LR CLASSIFIER\n",
            "              precision    recall  f1-score   support\n",
            "\n",
            "           1       0.39      0.38      0.38       756\n",
            "           2       0.45      0.70      0.55      1081\n",
            "           3       0.38      0.31      0.34       955\n",
            "           4       0.40      0.31      0.35       782\n",
            "           5       0.48      0.31      0.38       503\n",
            "           6       0.55      0.46      0.50       189\n",
            "\n",
            "    accuracy                           0.43      4266\n",
            "   macro avg       0.44      0.41      0.42      4266\n",
            "weighted avg       0.42      0.43      0.41      4266\n",
            "\n",
            "GENRE MLP CLASSIFIER\n",
            "              precision    recall  f1-score   support\n",
            "\n",
            "           1       0.32      0.37      0.34       756\n",
            "           2       0.50      0.48      0.49      1081\n",
            "           3       0.32      0.34      0.33       955\n",
            "           4       0.34      0.31      0.32       782\n",
            "           5       0.33      0.29      0.31       503\n",
            "           6       0.49      0.43      0.46       189\n",
            "\n",
            "    accuracy                           0.38      4266\n",
            "   macro avg       0.38      0.37      0.38      4266\n",
            "weighted avg       0.38      0.38      0.38      4266\n",
            "\n",
            "GENRE KNN CLASSIFIER\n",
            "              precision    recall  f1-score   support\n",
            "\n",
            "           1       0.28      0.36      0.31       756\n",
            "           2       0.40      0.57      0.47      1081\n",
            "           3       0.35      0.23      0.28       955\n",
            "           4       0.36      0.30      0.32       782\n",
            "           5       0.30      0.14      0.19       503\n",
            "           6       0.41      0.48      0.44       189\n",
            "\n",
            "    accuracy                           0.35      4266\n",
            "   macro avg       0.35      0.35      0.34      4266\n",
            "weighted avg       0.35      0.35      0.34      4266\n",
            "\n"
          ]
        }
      ],
      "source": [
        "gmodel = GaussianNB()\n",
        "gmodel.fit(genrevectors, genretargets)\n",
        "\n",
        "expected = gtesttargets\n",
        "predicted = gmodel.predict(gtestvectors)\n",
        "print(\"GENRE NB CLASSIFIER\")\n",
        "print(metrics.classification_report(expected, predicted))\n",
        "\n",
        "\n",
        "gmodel2 = SGDClassifier()\n",
        "gmodel2.max_iter = 100000\n",
        "gmodel2.fit(genrevectors, genretargets)\n",
        "\n",
        "expected2 = gtesttargets\n",
        "predicted2 = gmodel2.predict(gtestvectors)\n",
        "print(\"GENRE SGD CLASSIFIER\")\n",
        "print(metrics.classification_report(expected2, predicted2))\n",
        "\n",
        "\n",
        "gmodel3 = LogisticRegression()\n",
        "gmodel3.max_iter = 100000\n",
        "gmodel3.fit(genrevectors, genretargets)\n",
        "\n",
        "expected3 = gtesttargets\n",
        "predicted3 = gmodel3.predict(gtestvectors)\n",
        "print(\"GENRE LR CLASSIFIER\")\n",
        "print(metrics.classification_report(expected3, predicted3))\n",
        "\n",
        "\n",
        "gmodel4 = MLPClassifier()\n",
        "gmodel4.max_iter = 100000\n",
        "gmodel4.fit(genrevectors, genretargets)\n",
        "\n",
        "expected4 = gtesttargets\n",
        "predicted4 = gmodel4.predict(gtestvectors)\n",
        "print(\"GENRE MLP CLASSIFIER\")\n",
        "print(metrics.classification_report(expected4, predicted4))\n",
        "\n",
        "\n",
        "gmodel5 = KNeighborsClassifier()\n",
        "gmodel5.max_iter = 100000\n",
        "gmodel5.fit(genrevectors, genretargets)\n",
        "\n",
        "expected5 = gtesttargets\n",
        "predicted5 = gmodel5.predict(gtestvectors)\n",
        "print(\"GENRE KNN CLASSIFIER\")\n",
        "print(metrics.classification_report(expected5, predicted5))"
      ]
    },
    {
      "cell_type": "markdown",
      "source": [
        "b. WordtoVec for Spotify Valence"
      ],
      "metadata": {
        "id": "cR42Cp4Euc4o"
      }
    },
    {
      "cell_type": "code",
      "execution_count": null,
      "metadata": {
        "id": "LLCWAuGeB0V9"
      },
      "outputs": [],
      "source": [
        "#Training data\n",
        "spotifytargets = []\n",
        "spotifyvectors = []\n",
        "for label in y1:#spotify_testing_data['label']: \n",
        "  if label == 'Very Negative':\n",
        "    spotifytargets.append(0)\n",
        "  elif label == 'Somewhat Negative':\n",
        "    spotifytargets.append(1)\n",
        "  elif label == 'Neutral':   \n",
        "    spotifytargets.append(2)\n",
        "  elif label == 'Somewhat Positive':\n",
        "    spotifytargets.append(3)\n",
        "  elif label == 'Very Positive': \n",
        "    spotifytargets.append(4)\n",
        "for h in x1:\n",
        "    totvec = np.zeros(300)\n",
        "    for w in h:\n",
        "        if w.lower() in bigmodel:\n",
        "            totvec = totvec + bigmodel[w.lower()]\n",
        "    spotifyvectors.append(totvec)\n",
        "\n",
        "#Testing data\n",
        "stesttargets = []\n",
        "stestvectors = []\n",
        "for label in y1test: \n",
        "  if label == 'Very Negative': \n",
        "    stesttargets.append(0)\n",
        "  elif label == 'Somewhat Negative': \n",
        "    stesttargets.append(1)\n",
        "  elif label == 'Neutral':  \n",
        "    stesttargets.append(2)\n",
        "  elif label == 'Somewhat Positive': \n",
        "    stesttargets.append(3)\n",
        "  elif label == 'Very Positive': \n",
        "    stesttargets.append(4)\n",
        "for h in x1test:\n",
        "    totvec = np.zeros(300)\n",
        "    for w in h:\n",
        "        if w.lower() in bigmodel:\n",
        "            totvec = totvec + bigmodel[w.lower()]\n",
        "    stestvectors.append(totvec)\n"
      ]
    },
    {
      "cell_type": "markdown",
      "source": [
        "c. Classification Models for Spotify Valence "
      ],
      "metadata": {
        "id": "qqnuWi8tue8R"
      }
    },
    {
      "cell_type": "code",
      "execution_count": null,
      "metadata": {
        "colab": {
          "base_uri": "https://localhost:8080/"
        },
        "id": "4rXXKnBQOpTH",
        "outputId": "aebbce26-9d40-4a18-d354-d29a353a7f1c"
      },
      "outputs": [
        {
          "output_type": "stream",
          "name": "stdout",
          "text": [
            "SPOTIFY NB CLASSIFIER\n",
            "              precision    recall  f1-score   support\n",
            "\n",
            "           0       0.19      0.77      0.30      4727\n",
            "           1       0.25      0.15      0.18      7831\n",
            "           2       0.24      0.00      0.01      7751\n",
            "           3       0.30      0.20      0.24      6897\n",
            "           4       0.21      0.14      0.17      4465\n",
            "\n",
            "    accuracy                           0.21     31671\n",
            "   macro avg       0.24      0.25      0.18     31671\n",
            "weighted avg       0.24      0.21      0.17     31671\n",
            "\n",
            "SPOTIFY SGD CLASSIFIER\n",
            "              precision    recall  f1-score   support\n",
            "\n",
            "           0       0.36      0.01      0.02      4727\n",
            "           1       0.28      0.82      0.42      7831\n",
            "           2       1.00      0.00      0.00      7751\n",
            "           3       0.00      0.00      0.00      6897\n",
            "           4       0.24      0.48      0.32      4465\n",
            "\n",
            "    accuracy                           0.27     31671\n",
            "   macro avg       0.38      0.26      0.15     31671\n",
            "weighted avg       0.40      0.27      0.15     31671\n",
            "\n",
            "SPOTIFY LR CLASSIFIER\n",
            "              precision    recall  f1-score   support\n",
            "\n",
            "           0       0.38      0.15      0.22      4727\n",
            "           1       0.30      0.61      0.40      7831\n",
            "           2       0.27      0.26      0.26      7751\n",
            "           3       0.32      0.26      0.28      6897\n",
            "           4       0.35      0.11      0.16      4465\n",
            "\n",
            "    accuracy                           0.31     31671\n",
            "   macro avg       0.32      0.28      0.27     31671\n",
            "weighted avg       0.32      0.31      0.28     31671\n",
            "\n"
          ]
        },
        {
          "output_type": "stream",
          "name": "stderr",
          "text": [
            "/usr/local/lib/python3.8/dist-packages/sklearn/neural_network/_multilayer_perceptron.py:692: ConvergenceWarning: Stochastic Optimizer: Maximum iterations (200) reached and the optimization hasn't converged yet.\n",
            "  warnings.warn(\n"
          ]
        },
        {
          "output_type": "stream",
          "name": "stdout",
          "text": [
            "SPOTIFY MLP CLASSIFIER\n",
            "              precision    recall  f1-score   support\n",
            "\n",
            "           0       0.40      0.25      0.31      4727\n",
            "           1       0.32      0.48      0.38      7831\n",
            "           2       0.27      0.28      0.28      7751\n",
            "           3       0.31      0.30      0.31      6897\n",
            "           4       0.35      0.17      0.22      4465\n",
            "\n",
            "    accuracy                           0.31     31671\n",
            "   macro avg       0.33      0.30      0.30     31671\n",
            "weighted avg       0.32      0.31      0.31     31671\n",
            "\n",
            "SPOTIFY KNN CLASSIFIER\n",
            "              precision    recall  f1-score   support\n",
            "\n",
            "           0       0.28      0.36      0.31      4727\n",
            "           1       0.29      0.36      0.33      7831\n",
            "           2       0.28      0.30      0.29      7751\n",
            "           3       0.29      0.23      0.26      6897\n",
            "           4       0.29      0.14      0.19      4465\n",
            "\n",
            "    accuracy                           0.29     31671\n",
            "   macro avg       0.29      0.28      0.27     31671\n",
            "weighted avg       0.29      0.29      0.28     31671\n",
            "\n"
          ]
        }
      ],
      "source": [
        "smodel = GaussianNB()\n",
        "smodel.fit(stestvectors, stesttargets)\n",
        "\n",
        "expected = stesttargets\n",
        "predicted = smodel.predict(stestvectors)\n",
        "print(\"SPOTIFY NB CLASSIFIER\")\n",
        "print(metrics.classification_report(expected, predicted))\n",
        "\n",
        "\n",
        "smodel2 = SGDClassifier()\n",
        "smodel2.max_iter = 100000\n",
        "smodel2.fit(spotifyvectors, spotifytargets)\n",
        "\n",
        "expected2 = stesttargets\n",
        "predicted2 = smodel2.predict(stestvectors)\n",
        "print(\"SPOTIFY SGD CLASSIFIER\")\n",
        "print(metrics.classification_report(expected2, predicted2))\n",
        "\n",
        "\n",
        "smodel3 = LogisticRegression()\n",
        "smodel3.max_iter = 100000\n",
        "smodel3.fit(spotifyvectors, spotifytargets)\n",
        "\n",
        "expected3 = stesttargets\n",
        "predicted3 = smodel3.predict(stestvectors)\n",
        "print(\"SPOTIFY LR CLASSIFIER\")\n",
        "print(metrics.classification_report(expected3, predicted3))\n",
        "\n",
        "\n",
        "sgmodel4 = MLPClassifier()\n",
        "sgmodel4.fit(spotifyvectors, spotifytargets)\n",
        "\n",
        "expected4 = stesttargets\n",
        "predicted4 = sgmodel4.predict(stestvectors)\n",
        "print(\"SPOTIFY MLP CLASSIFIER\")\n",
        "print(metrics.classification_report(expected4, predicted4))\n",
        "\n",
        "\n",
        "smodel5 = KNeighborsClassifier()\n",
        "smodel5.fit(spotifyvectors, spotifytargets)\n",
        "\n",
        "expected5 = stesttargets\n",
        "predicted5 = smodel5.predict(stestvectors)\n",
        "print(\"SPOTIFY KNN CLASSIFIER\")\n",
        "print(metrics.classification_report(expected5, predicted5))"
      ]
    },
    {
      "cell_type": "markdown",
      "metadata": {
        "id": "5TjAL0573Owx"
      },
      "source": [
        "## Step 6: Find a Trend between Genre and Valence"
      ]
    },
    {
      "cell_type": "code",
      "execution_count": null,
      "metadata": {
        "id": "qx49RwWc3OLy",
        "colab": {
          "base_uri": "https://localhost:8080/"
        },
        "outputId": "5ffa5b9b-c098-41d6-aaf3-4d87d625f1a8"
      },
      "outputs": [
        {
          "output_type": "stream",
          "name": "stdout",
          "text": [
            "Rock is  0.18205897933957266 % Very Negative\n",
            "Rock is  0.2661133674730708 % Somewhat Negative\n",
            "Rock is  0.2825357584319265 % Neutral\n",
            "Rock is  0.20801695214550592 % Somewhat Positive\n",
            "Rock is  0.06127494260992407 % Very Positve\n",
            "Country is  0.27131313131313134 % Very Negative\n",
            "Country is  0.3515151515151515 % Somewhat Negative\n",
            "Country is  0.20505050505050504 % Neutral\n",
            "Country is  0.11494949494949495 % Somewhat Positive\n",
            "Country is  0.05717171717171717 % Very Positve\n",
            "Blues is  0.23597577034500922 % Very Negative\n",
            "Blues is  0.32525678166973926 % Somewhat Negative\n",
            "Blues is  0.24440347642875954 % Neutral\n",
            "Blues is  0.13905715038188043 % Somewhat Positive\n",
            "Blues is  0.05530682117461153 % Very Positve\n",
            "Jazz is  0.18152828628794143 % Very Negative\n",
            "Jazz is  0.31404275422227473 % Somewhat Negative\n",
            "Jazz is  0.2556985945435219 % Neutral\n",
            "Jazz is  0.1750324790362584 % Somewhat Positive\n",
            "Jazz is  0.07369788591000355 % Very Positve\n",
            "Reggae is  0.14629805410536306 % Very Negative\n",
            "Reggae is  0.29461319411485526 % Somewhat Negative\n",
            "Reggae is  0.284171808258187 % Neutral\n",
            "Reggae is  0.19755576649264356 % Somewhat Positive\n",
            "Reggae is  0.07736117702895111 % Very Positve\n",
            "HipHop is  0.1448087431693989 % Very Negative\n",
            "HipHop is  0.25136612021857924 % Somewhat Negative\n",
            "HipHop is  0.28415300546448086 % Neutral\n",
            "HipHop is  0.1830601092896175 % Somewhat Positive\n",
            "HipHop is  0.1366120218579235 % Very Positve\n"
          ]
        }
      ],
      "source": [
        "#WE ARE USING THE KNN CLASSIFIER TO PREDICT OUR RESULTS\n",
        "#WE CHOSE MLP BECAUSE OF THE ACCURACIES IT PRODUCED ABOVE\n",
        "predictedtrend1 = gmodel5.predict(stestvectors)\n",
        "predictedtrend2 = smodel5.predict(stestvectors)\n",
        "\n",
        "rocklist = []\n",
        "countrylist = []\n",
        "blueslist = []\n",
        "jazzlist = []\n",
        "reggaelist = []\n",
        "hiphoplist = []\n",
        "\n",
        "#Predictedternd1 is labeled 1-6 with the different genres\n",
        "#Predictedtrend2 is labeled \"Very Negatice\", \"Somewhat Negarive\", etc\n",
        "#Find the associated genre with every example via predictedtrend1\n",
        "#Find the associated valance with every example via predictedtrend2\n",
        "\n",
        "#This for loop matches each example to its genre and associated valence\n",
        "for i in range(len(predictedtrend1)):\n",
        "  if predictedtrend1[i] == 1:\n",
        "    rocklist.append(predictedtrend2[i])\n",
        "  if predictedtrend1[i] == 2:\n",
        "    countrylist.append(predictedtrend2[i])\n",
        "  if predictedtrend1[i] == 3:\n",
        "    blueslist.append(predictedtrend2[i])\n",
        "  if predictedtrend1[i] == 4:\n",
        "    jazzlist.append(predictedtrend2[i])\n",
        "  if predictedtrend1[i] == 5:\n",
        "    reggaelist.append(predictedtrend2[i])\n",
        "  if predictedtrend1[i] == 6:\n",
        "    hiphoplist.append(predictedtrend2[i])\n",
        "\n",
        "biglist = []\n",
        "biglist.extend([rocklist, countrylist, blueslist, jazzlist, reggaelist, hiphoplist])\n",
        "\n",
        "\n",
        "label = \"\"\n",
        "current = 0\n",
        "for item in biglist:\n",
        "  counter0,counter1,counter2,counter3,counter4 = 0,0,0,0,0 \n",
        "  #Count how many of each genre were found to be very negative/somewhat negative/etc\n",
        "  for i in item:\n",
        "    if i==0:\n",
        "      counter0 += 1\n",
        "    if i==1:\n",
        "      counter1 += 1\n",
        "    if i==2:\n",
        "      counter2 += 1\n",
        "    if i==3:\n",
        "      counter3 += 1\n",
        "    if i==4:\n",
        "      counter4 += 1\n",
        "  #These are just used to make everything neat in the output\n",
        "  if current == 0:\n",
        "    label = \"Rock\"\n",
        "  if current == 1:\n",
        "    label = \"Country\"\n",
        "  if current == 2:\n",
        "    label = \"Blues\"\n",
        "  if current == 3:\n",
        "    label = \"Jazz\"\n",
        "  if current == 4:\n",
        "    label = \"Reggae\"\n",
        "  if current == 5:\n",
        "    label = \"HipHop\"\n",
        "\n",
        "  print(label, \"is \", counter0/len(item), \"% Very Negative\")\n",
        "  print(label, \"is \", counter1/len(item), \"% Somewhat Negative\")\n",
        "  print(label, \"is \", counter2/len(item), \"% Neutral\")\n",
        "  print(label, \"is \", counter3/len(item), \"% Somewhat Positive\")\n",
        "  print(label, \"is \", counter4/len(item), \"% Very Positve\")\n",
        "  current +=1"
      ]
    }
  ],
  "metadata": {
    "colab": {
      "machine_shape": "hm",
      "provenance": []
    },
    "gpuClass": "standard",
    "kernelspec": {
      "display_name": "Python 3",
      "name": "python3"
    },
    "language_info": {
      "name": "python"
    }
  },
  "nbformat": 4,
  "nbformat_minor": 0
}